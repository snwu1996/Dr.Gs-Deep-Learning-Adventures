{
 "cells": [
  {
   "cell_type": "markdown",
   "metadata": {},
   "source": [
    "![MolHack](https://kaggle2.blob.core.windows.net/competitions/kaggle/8378/logos/header.png?t=2018-02-01-09-53-26)"
   ]
  },
  {
   "cell_type": "markdown",
   "metadata": {},
   "source": [
    "***About us***\n",
    "\n",
    "**Insilico Medicine**\n",
    "![logo](data:image/png;base64,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)\n",
    "\n",
    "Insilico Medicine is a leading company in the field of Deep Learning for Drug Discovery. It was chosen by NVIDIA in top5 AI companies for social impact in 2017 and by CBInsights in top100 most promising private artificial intelligence companies in the world for 2018. \n",
    "\n",
    " Besides business Insilico Medicine publish a lot:\n",
    "1. The cornucopia of meaningful leads: Applying deep adversarial autoencoders for new molecule development in oncology. [link]\n",
    "2. druGAN: An Advanced Generative Adversarial Autoencoder Model for de Novo Generation of New Molecules with Desired Molecular Properties in Silico.\n",
    "3. Deep Learning Applications for Predicting Pharmacological Properties of Drugs and Drug Repurposing Using Transcriptomic Data.\n",
    "4. Deep biomarkers of human aging: Application of deep neural networks to biomarker development.\n"
   ]
  },
  {
   "cell_type": "markdown",
   "metadata": {},
   "source": [
    "***Introduction***"
   ]
  },
  {
   "cell_type": "markdown",
   "metadata": {},
   "source": [
    "**RDKit**\n",
    "![RDKitlogo](http://www.rdkit.org/Images/logo.png)"
   ]
  },
  {
   "cell_type": "markdown",
   "metadata": {},
   "source": [
    "RDKit - is a collection of cheminformatics and machine-learning software written in C++ and Python. \n",
    "\n",
    "It can be easily installed by using Anaconda (the recommended way) or from source.\n",
    "\n",
    "\n",
    "Helpful introduction to RDKit can be found [here](http://www.rdkit.org/docs/GettingStartedInPython.html). Unfortunately, RDKit is a weakly documented package, so you'll have to google a lot."
   ]
  },
  {
   "cell_type": "markdown",
   "metadata": {},
   "source": [
    "**SMILES**\n"
   ]
  },
  {
   "cell_type": "markdown",
   "metadata": {},
   "source": [
    "[SMILES](https://en.wikipedia.org/wiki/Simplified_molecular-input_line-entry_system) (simplified molecular-input line-entry system) - is a string describing the structure of a chemical molecule. It doesn't contain any information about molecule 3D structure, but can be easily generated by Neural Networks\n",
    "\n",
    "There is no strong need to fully understand their syntax because most chemical packages can read this form of representation. But, excellent explanations can be found by following this links - [video1](https://www.youtube.com/watch?v=kPSyI7DaBZA) and\n",
    "[video2](https://www.youtube.com/watch?v=ZpVYoccNzEs)\n",
    "![smilespng](https://www.researchgate.net/profile/Flemming_Jorgensen3/publication/8018882/figure/fig2/AS:299695877443585@1448464473177/Fig-2-Structural-information-for-a-molecule-can-be-given-as-a-1D-SMILES-string-a-2D.png)"
   ]
  },
  {
   "cell_type": "markdown",
   "metadata": {},
   "source": [
    "**MACCS**"
   ]
  },
  {
   "cell_type": "markdown",
   "metadata": {},
   "source": [
    "A few approaches exist to represent molecule structure and properties in a bit string format (called molecular fingerprint). You can read more about them in https://www.ncbi.nlm.nih.gov/pubmed/26558489. One of such methods is called MACCS. It is implemented in RDKit"
   ]
  },
  {
   "cell_type": "markdown",
   "metadata": {},
   "source": [
    "**Conformers and pharmacophores**"
   ]
  },
  {
   "cell_type": "markdown",
   "metadata": {},
   "source": [
    " A pharmacophore is defined as a set of 3D points with special properties. For example, one point may specify that some hydrophobic part of a molecule must be in proximity to this point. \n",
    " ![pharmacophore](https://www.dovepress.com/cr_data/article_fulltext/s46000/46843/img/fig2.jpg)\n",
    " \n",
    " We say that a molecule fits a pharmacophore if this molecule satisfies all constraints, induced by the pharmacophore. To test this, we have to test its different 3D <a href=\"https://en.wikipedia.org/wiki/Conformational_isomerism\">conformations</a>, i.e. shapes. \n",
    " \n",
    " There are a few approaches for generating a diverse set of conformations, given the optimal one, we have used chemical package [OpenBabel](http://openbabel.org/wiki/Main_Page) to produce conformers while computing our train dataset, but there a lot of our software for solving that task. For more details, you can read [this article](http://csmres.co.uk/cs.public.upd/article-downloads/2010-2011_2.pdf).\n"
   ]
  },
  {
   "cell_type": "markdown",
   "metadata": {},
   "source": [
    "**OpenBabel**\n",
    "![openbabel logo](http://openbabel.org/babel256.png)"
   ]
  },
  {
   "cell_type": "markdown",
   "metadata": {},
   "source": [
    "Open Babel is a chemical toolbox designed to work with different molecules formats. It has bindings with python, but they have almost no documentation, so we recommend to use it from the command line. It was used to generate conformers during datasets calculation. More info about the way, you can create conformers for molecule by OpenBabel can be found [here](http://open-babel.readthedocs.io/en/latest/3DStructureGen/multipleconformers.html).\n",
    "\n",
    "It can be installed by Anaconda or from source code"
   ]
  },
  {
   "cell_type": "markdown",
   "metadata": {},
   "source": [
    "**Align-It**"
   ]
  },
  {
   "cell_type": "markdown",
   "metadata": {},
   "source": [
    "For pharmacophore search during dataset preparation, this program has been used. You can find all info about program functionality and installation instructions from this [link](http://silicos-it.be.s3-website-eu-west-1.amazonaws.com/software/align-it/1.0.4/align-it.html#alignit-generating-pharmacophore-points)"
   ]
  },
  {
   "cell_type": "markdown",
   "metadata": {},
   "source": [
    "Here we are loading some modules for future work"
   ]
  },
  {
   "cell_type": "code",
   "execution_count": 47,
   "metadata": {
    "collapsed": true
   },
   "outputs": [],
   "source": [
    "import sys\n",
    "for entry in sys.path:\n",
    "    if 'python2.7' in entry:\n",
    "        sys.path.remove(entry)"
   ]
  },
  {
   "cell_type": "code",
   "execution_count": 2,
   "metadata": {
    "collapsed": true
   },
   "outputs": [],
   "source": [
    "sys.path.remove('/usr/local/lib/python2.7/site-packages/mxnet-0.9.1-py2.7-macosx-10.11-x86_64.egg')"
   ]
  },
  {
   "cell_type": "code",
   "execution_count": 3,
   "metadata": {
    "collapsed": true
   },
   "outputs": [
    {
     "name": "stderr",
     "output_type": "stream",
     "text": [
      "Using Theano backend.\n"
     ]
    }
   ],
   "source": [
    "import numpy as np\n",
    "import lightgbm as lgb\n",
    "import pandas as pd\n",
    "import keras"
   ]
  },
  {
   "cell_type": "markdown",
   "metadata": {},
   "source": [
    "Here you can find some useful code for reading the output of Align-It program (PHAR format). The CSV format also exists in dataset files"
   ]
  },
  {
   "cell_type": "code",
   "execution_count": 119,
   "metadata": {
    "collapsed": true
   },
   "outputs": [],
   "source": [
    "class PharmacophoreException(Exception):\n",
    "    pass\n",
    "\n",
    "class PharmacophoreFileEndException(PharmacophoreException):\n",
    "    pass\n",
    "\n",
    "class PharmacophorePoint(object):\n",
    "    def __init__(self, code, cx, cy, cz, alpha, norm, nx, ny, nz):\n",
    "        self.code = code\n",
    "        self.cx = float(cx)\n",
    "        self.cy = float(cy)\n",
    "        self.cz = float(cz)\n",
    "        self.alpha = float(alpha)\n",
    "        self.norm = int(norm)\n",
    "        self.nx = float(nx)\n",
    "        self.ny = float(ny)\n",
    "        self.nz = float(nz)\n",
    "    \n",
    "    @classmethod\n",
    "    def from_line(cls, line):\n",
    "        return cls(*line.split())\n",
    "    \n",
    "    def to_line(self):\n",
    "        return \"{} {} {} {} {} {} {} {} {}\".format(self.code, self.cx, self.cy, self.cz, self.alpha, self.norm,\\\n",
    "                                                self.nx, self.ny, self.nz)\n",
    "    \n",
    "    def __str__(self):\n",
    "        return self.to_line()\n",
    "        \n",
    "    \n",
    "    \n",
    "class Pharmacophore(object):\n",
    "    def __init__(self, name, points):\n",
    "        self.name = name\n",
    "        self.points = points\n",
    "        \n",
    "    @classmethod\n",
    "    def from_stream(cls, stream):\n",
    "        name = stream.readline().strip()\n",
    "        points = []\n",
    "        line = stream.readline().strip()\n",
    "        if not line:\n",
    "            raise PharmacophoreFileEndException(\"End of file\")\n",
    "            \n",
    "        while line != \"$$$$\" or not line:\n",
    "            points.append(PharmacophorePoint.from_line(line))\n",
    "            line = stream.readline().strip()\n",
    "            \n",
    "        if not line:\n",
    "            raise PharmacophoreException(\"Wrong format, no end line\")\n",
    "        return cls(name, points)\n",
    "    \n",
    "    @classmethod\n",
    "    def from_file(cls, file_path):\n",
    "        with open(file_path) as fd:\n",
    "            return cls.from_stream(fd)\n",
    "            \n",
    "    def write_to_stream(self, stream):\n",
    "        stream.write(\"{}\\n\".format(self.name))\n",
    "        for point in self.points:\n",
    "            stream.write(\"{}\\n\".format(point.to_line()))\n",
    "        stream.write(\"$$$$\\n\".format(self.name))\n",
    "            \n",
    "    def write_to_file(self, file_path):\n",
    "        with open(file_path, \"w\") as fd:\n",
    "            self.write_to_stream(fd)\n",
    "            \n",
    "    def __str__(self):\n",
    "        return  \"{}\\n{}\\n$$$$\".format(self.name,\n",
    "                                      \"\\n\".join(str(x) for x in self.points))\n",
    "    \n",
    "    def __len__(self):\n",
    "        return len(self.points)\n",
    "    \n",
    "    def sample(self, name, n):\n",
    "        points = sample(self.points, min(n, len(self)))\n",
    "        return Pharmacophore(name, points)\n",
    "\n",
    "class PharmDatabaseException(Exception):\n",
    "    pass\n",
    "\n",
    "\n",
    "def calc_pharmacophore(lig_path, ph_path):\n",
    "    proc = Popen(\n",
    "        \"align-it --dbase {} --pharmacophore {}\".format(lig_path, ph_path),\n",
    "        shell=True,\n",
    "        stdout=PIPE, stderr=PIPE)\n",
    "    _ = proc.communicate()\n",
    "    \n",
    "\n",
    "class PharmDatabase(object):\n",
    "    def __init__(self, path_to_ligands, path_to_ph_db, is_calculated=False):\n",
    "        self.path_to_ligands = path_to_ligands\n",
    "        self.path_to_ph_db = path_to_ph_db\n",
    "        self.is_calculated = is_calculated\n",
    "    \n",
    "    def repair_database(self):\n",
    "        pass\n",
    "    \n",
    "    def calc_database(self):\n",
    "        if not self.path_to_ph_db:\n",
    "            self.calc_pharmacophore(self.path_to_ligands, self.path_to_ph_db)\n",
    "\n",
    "    \n",
    "    def sample_database(self):\n",
    "        pass\n",
    "    \n",
    "    def iter_database(self):\n",
    "        if not self.is_calculated:\n",
    "            raise PharmDatabaseException(\"Not calculated\")\n",
    "        with open(self.path_to_ph_db, 'r') as fd:\n",
    "            while True:\n",
    "                try:\n",
    "                    pharmacophore = Pharmacophore.from_stream(fd)\n",
    "                    yield pharmacophore\n",
    "                except PharmacophoreFileEndException:\n",
    "                    break\n",
    "    "
   ]
  },
  {
   "cell_type": "markdown",
   "metadata": {},
   "source": [
    "Basic code for converting molecule from smiles to MACCS. By default, size of MACCS bit string is 167"
   ]
  },
  {
   "cell_type": "code",
   "execution_count": null,
   "metadata": {
    "collapsed": true
   },
   "outputs": [],
   "source": [
    "from rdkit import Chem\n",
    "from rdkit.Chem import MACCSkeys\n",
    "def smi_to_maccs(smi):\n",
    "    mol = Chem.MolFromSmiles(smi)\n",
    "    if mol is not None:\n",
    "        return np.array(MACCSkeys.GenMACCSKeys(mol))\n",
    "    else:\n",
    "        return np.zeros(MACCS_SIZE)\n",
    "    \n",
    "MACCS_SIZE = 167"
   ]
  },
  {
   "cell_type": "code",
   "execution_count": 5,
   "metadata": {
    "collapsed": true
   },
   "outputs": [],
   "source": [
    "PATH_TO_TRAIN_SMILES = \"train_smiles.csv\"\n",
    "PATH_TO_TEST_SMILES = \"test1_smiles.csv\""
   ]
  },
  {
   "cell_type": "code",
   "execution_count": 6,
   "metadata": {
    "collapsed": true
   },
   "outputs": [],
   "source": [
    "test_smiles = pd.read_csv(PATH_TO_TEST_SMILES)['smiles']\n",
    "#train_smiles = pd.read_csv(PATH_TO_TRAIN_SMILES)['smiles']\n",
    "\n",
    "#PHARM_TRAIN_SMILES = np.zeros((train_smiles.shape[0], MACCS_SIZE), dtype=np.int8)\n",
    "PHARM_TEST_SMILES = np.zeros((test_smiles.shape[0], 167), dtype=np.int8)"
   ]
  },
  {
   "cell_type": "code",
   "execution_count": 6,
   "metadata": {
    "collapsed": true
   },
   "outputs": [],
   "source": [
    "for ind, smi in enumerate(train_smiles):\n",
    "    PHARM_TRAIN_SMILES[ind] = smi_to_maccs(smi)\n",
    "for ind, smi in enumerate(test_smiles):\n",
    "    PHARM_TEST_SMILES[ind] = smi_to_maccs(smi)"
   ]
  },
  {
   "cell_type": "code",
   "execution_count": 7,
   "metadata": {
    "collapsed": true
   },
   "outputs": [],
   "source": [
    "np.save(\"PHARM_TRAIN_SMILES.npy\", PHARM_TRAIN_SMILES)\n",
    "np.save(\"PHARM_TEST_SMILES.npy\", PHARM_TEST_SMILES)"
   ]
  },
  {
   "cell_type": "code",
   "execution_count": 7,
   "metadata": {
    "collapsed": true
   },
   "outputs": [],
   "source": [
    "PHARM_TRAIN_SMILES = np.load(\"PHARM_TRAIN_SMILES.npy\")\n",
    "PHARM_TEST_SMILES = np.load(\"PHARM_TEST_SMILES.npy\")"
   ]
  },
  {
   "cell_type": "markdown",
   "metadata": {},
   "source": [
    "Now we are downloading train and test pharmacophores files for our dataset. While here we use PHAR format, using by Align-It, CSV format for train and test datasets is also provided"
   ]
  },
  {
   "cell_type": "code",
   "execution_count": 8,
   "metadata": {
    "collapsed": true
   },
   "outputs": [],
   "source": [
    "PH_TRAIN_PATH = \"train_pharmacophores.phar\"\n",
    "PH_TEST_PATH = \"test1_pharmacophores.phar\"\n",
    "train_sample_pharmacophor_db = PharmDatabase(path_to_ligands=None, \n",
    "                                       path_to_ph_db=PH_TRAIN_PATH, \n",
    "                                       is_calculated=True)\n",
    "test_sample_pharmacophor_db = PharmDatabase(path_to_ligands=None, \n",
    "                                       path_to_ph_db=PH_TEST_PATH, \n",
    "                                       is_calculated=True)"
   ]
  },
  {
   "cell_type": "code",
   "execution_count": 9,
   "metadata": {
    "collapsed": true
   },
   "outputs": [],
   "source": [
    "#train_pharmacophores = [p for p in train_sample_pharmacophor_db.iter_database()]\n",
    "test_pharmacophores = [p for p in test_sample_pharmacophor_db.iter_database()]"
   ]
  },
  {
   "cell_type": "markdown",
   "metadata": {},
   "source": [
    "So, now we have to encode our pharmacophores somehow. The easiest way (not the smartest one) is to count the occurrence of each type of point in the pharmacophore and store this information as a vector"
   ]
  },
  {
   "cell_type": "code",
   "execution_count": 10,
   "metadata": {
    "collapsed": true
   },
   "outputs": [],
   "source": [
    "MAPPING = {\"AROM\" : 0,\n",
    "\"HDON\" : 1,\n",
    "\"HACC\" : 2,\n",
    "\"LIPO\" : 3,\n",
    "\"POSC\" : 4,\n",
    "\"NEGC\" : 5,\n",
    "\"HYBH\" : 6,\n",
    "\"HYBL\" : 7,\n",
    "\"EXCL\": 8}\n",
    "\n",
    "def phar_to_bins(phar):\n",
    "    v = np.zeros(len(MAPPING))\n",
    "    for p in phar.points:\n",
    "        v[MAPPING[p.code]] += 1\n",
    "    return v"
   ]
  },
  {
   "cell_type": "code",
   "execution_count": 11,
   "metadata": {
    "collapsed": true
   },
   "outputs": [
    {
     "ename": "NameError",
     "evalue": "name 'train_pharmacophores' is not defined",
     "output_type": "error",
     "traceback": [
      "\u001b[0;31m---------------------------------------------------------------------------\u001b[0m",
      "\u001b[0;31mNameError\u001b[0m                                 Traceback (most recent call last)",
      "\u001b[0;32m<ipython-input-11-6ad39324bac7>\u001b[0m in \u001b[0;36m<module>\u001b[0;34m()\u001b[0m\n\u001b[0;32m----> 1\u001b[0;31m \u001b[0mPHARM_TRAIN_X\u001b[0m \u001b[0;34m=\u001b[0m \u001b[0mnp\u001b[0m\u001b[0;34m.\u001b[0m\u001b[0mzeros\u001b[0m\u001b[0;34m(\u001b[0m \u001b[0;34m(\u001b[0m\u001b[0mlen\u001b[0m\u001b[0;34m(\u001b[0m\u001b[0mtrain_pharmacophores\u001b[0m\u001b[0;34m)\u001b[0m\u001b[0;34m,\u001b[0m \u001b[0mlen\u001b[0m\u001b[0;34m(\u001b[0m\u001b[0mMAPPING\u001b[0m\u001b[0;34m)\u001b[0m\u001b[0;34m)\u001b[0m\u001b[0;34m,\u001b[0m \u001b[0mdtype\u001b[0m\u001b[0;34m=\u001b[0m\u001b[0mnp\u001b[0m\u001b[0;34m.\u001b[0m\u001b[0mint8\u001b[0m\u001b[0;34m)\u001b[0m\u001b[0;34m\u001b[0m\u001b[0m\n\u001b[0m\u001b[1;32m      2\u001b[0m \u001b[0;32mfor\u001b[0m \u001b[0mind\u001b[0m\u001b[0;34m,\u001b[0m \u001b[0mi\u001b[0m \u001b[0;32min\u001b[0m \u001b[0menumerate\u001b[0m\u001b[0;34m(\u001b[0m\u001b[0mtrain_pharmacophores\u001b[0m\u001b[0;34m)\u001b[0m\u001b[0;34m:\u001b[0m\u001b[0;34m\u001b[0m\u001b[0m\n\u001b[1;32m      3\u001b[0m     \u001b[0mPHARM_TRAIN_X\u001b[0m\u001b[0;34m[\u001b[0m\u001b[0mind\u001b[0m\u001b[0;34m]\u001b[0m \u001b[0;34m=\u001b[0m \u001b[0mphar_to_bins\u001b[0m\u001b[0;34m(\u001b[0m\u001b[0mi\u001b[0m\u001b[0;34m)\u001b[0m\u001b[0;34m\u001b[0m\u001b[0m\n\u001b[1;32m      4\u001b[0m \u001b[0;34m\u001b[0m\u001b[0m\n\u001b[1;32m      5\u001b[0m \u001b[0mPHARM_TEST_X\u001b[0m \u001b[0;34m=\u001b[0m \u001b[0mnp\u001b[0m\u001b[0;34m.\u001b[0m\u001b[0mzeros\u001b[0m\u001b[0;34m(\u001b[0m \u001b[0;34m(\u001b[0m\u001b[0mlen\u001b[0m\u001b[0;34m(\u001b[0m\u001b[0mtest_pharmacophores\u001b[0m\u001b[0;34m)\u001b[0m\u001b[0;34m,\u001b[0m \u001b[0mlen\u001b[0m\u001b[0;34m(\u001b[0m\u001b[0mMAPPING\u001b[0m\u001b[0;34m)\u001b[0m\u001b[0;34m)\u001b[0m\u001b[0;34m,\u001b[0m \u001b[0mdtype\u001b[0m\u001b[0;34m=\u001b[0m\u001b[0mnp\u001b[0m\u001b[0;34m.\u001b[0m\u001b[0mint8\u001b[0m\u001b[0;34m)\u001b[0m\u001b[0;34m\u001b[0m\u001b[0m\n",
      "\u001b[0;31mNameError\u001b[0m: name 'train_pharmacophores' is not defined"
     ]
    }
   ],
   "source": [
    "PHARM_TRAIN_X = np.zeros( (len(train_pharmacophores), len(MAPPING)), dtype=np.int8)\n",
    "for ind, i in enumerate(train_pharmacophores):\n",
    "    PHARM_TRAIN_X[ind] = phar_to_bins(i)\n",
    "                \n",
    "PHARM_TEST_X = np.zeros( (len(test_pharmacophores), len(MAPPING)), dtype=np.int8)\n",
    "for ind, i in enumerate(test_pharmacophores):\n",
    "    PHARM_TEST_X[ind] = phar_to_bins(i)"
   ]
  },
  {
   "cell_type": "code",
   "execution_count": 13,
   "metadata": {
    "collapsed": true
   },
   "outputs": [],
   "source": [
    "np.save(\"PHARM_TRAIN_X.npy\", PHARM_TRAIN_X)\n",
    "np.save(\"PHARM_TEST_X.npy\", PHARM_TEST_X)"
   ]
  },
  {
   "cell_type": "code",
   "execution_count": 11,
   "metadata": {
    "collapsed": true
   },
   "outputs": [],
   "source": [
    "PHARM_TRAIN_X = np.load(\"PHARM_TRAIN_X.npy\")\n",
    "PHARM_TEST_X = np.load(\"PHARM_TEST_X.npy\")"
   ]
  },
  {
   "cell_type": "code",
   "execution_count": 12,
   "metadata": {
    "collapsed": true
   },
   "outputs": [
    {
     "data": {
      "text/plain": [
       "13246"
      ]
     },
     "execution_count": 12,
     "metadata": {},
     "output_type": "execute_result"
    }
   ],
   "source": [
    "PHARM_TRAIN_X.shape[0]"
   ]
  },
  {
   "cell_type": "markdown",
   "metadata": {},
   "source": [
    "Here we join info about pharmacopores and ligands in simple matrix. To avoid memory error,  only a part of train data is used"
   ]
  },
  {
   "cell_type": "code",
   "execution_count": 13,
   "metadata": {
    "collapsed": true
   },
   "outputs": [],
   "source": [
    "np.random.seed(731)\n",
    "train_pharmacophore_indices = np.random.choice(PHARM_TRAIN_X.shape[0], size=1500, replace=False)\n",
    "train_ligands_indices = np.random.choice(PHARM_TRAIN_SMILES.shape[0], size=1500, replace=False)\n",
    "np.random.seed(731)"
   ]
  },
  {
   "cell_type": "code",
   "execution_count": 14,
   "metadata": {
    "collapsed": true
   },
   "outputs": [
    {
     "ename": "FileNotFoundError",
     "evalue": "[Errno 2] No such file or directory: 'train_info.csv'",
     "output_type": "error",
     "traceback": [
      "\u001b[0;31m---------------------------------------------------------------------------\u001b[0m",
      "\u001b[0;31mFileNotFoundError\u001b[0m                         Traceback (most recent call last)",
      "\u001b[0;32m<ipython-input-14-c5b123418c65>\u001b[0m in \u001b[0;36m<module>\u001b[0;34m()\u001b[0m\n\u001b[1;32m      1\u001b[0m \u001b[0mY_train_full\u001b[0m \u001b[0;34m=\u001b[0m \u001b[0mnp\u001b[0m\u001b[0;34m.\u001b[0m\u001b[0mzeros\u001b[0m\u001b[0;34m(\u001b[0m\u001b[0mPHARM_TRAIN_X\u001b[0m\u001b[0;34m.\u001b[0m\u001b[0mshape\u001b[0m\u001b[0;34m[\u001b[0m\u001b[0;36m0\u001b[0m\u001b[0;34m]\u001b[0m \u001b[0;34m*\u001b[0m \u001b[0mPHARM_TRAIN_SMILES\u001b[0m\u001b[0;34m.\u001b[0m\u001b[0mshape\u001b[0m\u001b[0;34m[\u001b[0m\u001b[0;36m0\u001b[0m\u001b[0;34m]\u001b[0m\u001b[0;34m,\u001b[0m \u001b[0mdtype\u001b[0m\u001b[0;34m=\u001b[0m\u001b[0mnp\u001b[0m\u001b[0;34m.\u001b[0m\u001b[0mint8\u001b[0m\u001b[0;34m)\u001b[0m\u001b[0;34m\u001b[0m\u001b[0m\n\u001b[1;32m      2\u001b[0m \u001b[0mind\u001b[0m \u001b[0;34m=\u001b[0m \u001b[0;36m0\u001b[0m\u001b[0;34m\u001b[0m\u001b[0m\n\u001b[0;32m----> 3\u001b[0;31m \u001b[0;32mwith\u001b[0m \u001b[0mopen\u001b[0m\u001b[0;34m(\u001b[0m\u001b[0;34m\"train_info.csv\"\u001b[0m\u001b[0;34m)\u001b[0m \u001b[0;32mas\u001b[0m \u001b[0min_file\u001b[0m\u001b[0;34m:\u001b[0m\u001b[0;34m\u001b[0m\u001b[0m\n\u001b[0m\u001b[1;32m      4\u001b[0m     \u001b[0min_file\u001b[0m\u001b[0;34m.\u001b[0m\u001b[0mreadline\u001b[0m\u001b[0;34m(\u001b[0m\u001b[0;34m)\u001b[0m\u001b[0;34m\u001b[0m\u001b[0m\n\u001b[1;32m      5\u001b[0m     \u001b[0;32mfor\u001b[0m \u001b[0mline\u001b[0m \u001b[0;32min\u001b[0m \u001b[0min_file\u001b[0m\u001b[0;34m:\u001b[0m\u001b[0;34m\u001b[0m\u001b[0m\n",
      "\u001b[0;31mFileNotFoundError\u001b[0m: [Errno 2] No such file or directory: 'train_info.csv'"
     ]
    }
   ],
   "source": [
    "Y_train_full = np.zeros(PHARM_TRAIN_X.shape[0] * PHARM_TRAIN_SMILES.shape[0], dtype=np.int8)\n",
    "ind = 0\n",
    "with open(\"train_info.csv\") as in_file:\n",
    "    in_file.readline()\n",
    "    for line in in_file:\n",
    "        Y_train_full[ind] = int(line.strip().split(\",\")[1])\n",
    "        ind += 1"
   ]
  },
  {
   "cell_type": "code",
   "execution_count": 17,
   "metadata": {
    "collapsed": true
   },
   "outputs": [],
   "source": [
    "np.save(\"Y_train.npy\", Y_train_full)"
   ]
  },
  {
   "cell_type": "code",
   "execution_count": 120,
   "metadata": {
    "collapsed": true
   },
   "outputs": [],
   "source": [
    "Y_train_full = np.load(\"Y_train.npy\")"
   ]
  },
  {
   "cell_type": "code",
   "execution_count": 121,
   "metadata": {
    "collapsed": true
   },
   "outputs": [],
   "source": [
    "X_train = np.zeros( (train_pharmacophore_indices.shape[0] * train_ligands_indices.shape[0],\n",
    "            PHARM_TRAIN_X[0].shape[0] + 167),  dtype=np.int8)\n",
    "Y_train = np.zeros(train_pharmacophore_indices.shape[0] * train_ligands_indices.shape[0],  dtype=np.int8)"
   ]
  },
  {
   "cell_type": "code",
   "execution_count": 122,
   "metadata": {},
   "outputs": [
    {
     "data": {
      "text/plain": [
       "396000112"
      ]
     },
     "execution_count": 122,
     "metadata": {},
     "output_type": "execute_result"
    }
   ],
   "source": [
    "import sys\n",
    "sys.getsizeof(X_train)"
   ]
  },
  {
   "cell_type": "code",
   "execution_count": 124,
   "metadata": {
    "collapsed": true
   },
   "outputs": [],
   "source": [
    "for li, lig_id in enumerate(train_ligands_indices):\n",
    "    for pi, p_ind in enumerate(train_pharmacophore_indices):\n",
    "        x_ind = lig_id * PHARM_TRAIN_X.shape[0] + p_ind\n",
    "        xi = li * train_pharmacophore_indices.shape[0] + pi\n",
    "        X_train[xi, :len(MAPPING)] = PHARM_TRAIN_X[p_ind]\n",
    "        X_train[xi, len(MAPPING):] = PHARM_TRAIN_SMILES[lig_id]\n",
    "        Y_train[xi] = Y_train_full[x_ind] "
   ]
  },
  {
   "cell_type": "code",
   "execution_count": 144,
   "metadata": {
    "collapsed": true
   },
   "outputs": [],
   "source": [
    "from sklearn.preprocessing import LabelEncoder\n",
    "from sklearn.model_selection import cross_val_score\n",
    "from sklearn.model_selection import KFold\n",
    "from keras.utils import np_utils\n",
    "\n",
    "seed = 15\n",
    "np.random.seed(seed)\n",
    "\n",
    "encoder = LabelEncoder()\n",
    "encoder.fit(Y_train)\n",
    "encoded_Y = encoder.transform(Y_train)\n",
    "dummy_y = np_utils.to_categorical(encoded_Y)"
   ]
  },
  {
   "cell_type": "markdown",
   "metadata": {},
   "source": [
    "Train classifier and predict values for batches of test dataset to avoid storing all X_test matrix in memory"
   ]
  },
  {
   "cell_type": "code",
   "execution_count": 145,
   "metadata": {
    "collapsed": true
   },
   "outputs": [],
   "source": [
    "from keras.models import Sequential\n",
    "from keras.layers import Activation, Dropout, Flatten, Dense\n",
    "from keras.wrappers.scikit_learn import KerasClassifier\n",
    "from keras import regularizers"
   ]
  },
  {
   "cell_type": "code",
   "execution_count": 146,
   "metadata": {
    "collapsed": true
   },
   "outputs": [],
   "source": [
    "def baseline_model():\n",
    "    \n",
    "    model = Sequential()\n",
    "    model.add(Dense(20, input_dim=176, activation='relu', use_bias=True, \n",
    "                    kernel_initializer='glorot_uniform', bias_initializer='zeros'\n",
    "                   ))\n",
    "    model.add(Dropout(0.2))\n",
    "    model.add(Dense(20, activation='relu', use_bias=True, \n",
    "                    kernel_initializer='glorot_uniform', bias_initializer='zeros',\n",
    "                   ))\n",
    "    model.add(Dropout(0.2))\n",
    "    model.add(Dense(20, activation='relu', use_bias=True, \n",
    "                    kernel_initializer='glorot_uniform', bias_initializer='zeros' \n",
    "                   ))\n",
    "    model.add(Dropout(0.2))\n",
    "    model.add(Dense(10, activation='softmax'))\n",
    "    \n",
    "    model.compile(loss='mean_absolute_error', optimizer='adam', metrics=['mae'])\n",
    "    return model"
   ]
  },
  {
   "cell_type": "code",
   "execution_count": 147,
   "metadata": {
    "collapsed": true
   },
   "outputs": [],
   "source": [
    "classifier = KerasClassifier(build_fn = baseline_model, epochs=15, batch_size=10000, verbose=1)"
   ]
  },
  {
   "cell_type": "code",
   "execution_count": 148,
   "metadata": {
    "collapsed": true
   },
   "outputs": [],
   "source": [
    "kfold = KFold(n_splits=10, shuffle=True, random_state=seed)"
   ]
  },
  {
   "cell_type": "code",
   "execution_count": 149,
   "metadata": {
    "collapsed": true
   },
   "outputs": [
    {
     "name": "stdout",
     "output_type": "stream",
     "text": [
      "Epoch 1/15\n",
      "2025000/2025000 [==============================] - 12s 6us/step - loss: 0.1592 - mean_absolute_error: 0.1592\n",
      "Epoch 2/15\n",
      "2025000/2025000 [==============================] - 12s 6us/step - loss: 0.1541 - mean_absolute_error: 0.1541\n",
      "Epoch 3/15\n",
      "2025000/2025000 [==============================] - 16s 8us/step - loss: 0.1491 - mean_absolute_error: 0.1491\n",
      "Epoch 4/15\n",
      "2025000/2025000 [==============================] - 13s 6us/step - loss: 0.1466 - mean_absolute_error: 0.1466\n",
      "Epoch 5/15\n",
      "2025000/2025000 [==============================] - 13s 6us/step - loss: 0.1449 - mean_absolute_error: 0.1449\n",
      "Epoch 6/15\n",
      "2025000/2025000 [==============================] - 17s 8us/step - loss: 0.1436 - mean_absolute_error: 0.1436\n",
      "Epoch 7/15\n",
      "2025000/2025000 [==============================] - 16s 8us/step - loss: 0.1429 - mean_absolute_error: 0.1429\n",
      "Epoch 8/15\n",
      "2025000/2025000 [==============================] - 19s 9us/step - loss: 0.1424 - mean_absolute_error: 0.1424\n",
      "Epoch 9/15\n",
      "2025000/2025000 [==============================] - 18s 9us/step - loss: 0.1421 - mean_absolute_error: 0.1421\n",
      "Epoch 10/15\n",
      "2025000/2025000 [==============================] - 18s 9us/step - loss: 0.1417 - mean_absolute_error: 0.1417\n",
      "Epoch 11/15\n",
      "2025000/2025000 [==============================] - 23s 12us/step - loss: 0.1413 - mean_absolute_error: 0.1413\n",
      "Epoch 12/15\n",
      "2025000/2025000 [==============================] - 31s 15us/step - loss: 0.1410 - mean_absolute_error: 0.1410\n",
      "Epoch 13/15\n",
      "2025000/2025000 [==============================] - 28s 14us/step - loss: 0.1405 - mean_absolute_error: 0.1405\n",
      "Epoch 14/15\n",
      "2025000/2025000 [==============================] - 20s 10us/step - loss: 0.1400 - mean_absolute_error: 0.1400\n",
      "Epoch 15/15\n",
      "2025000/2025000 [==============================] - 19s 9us/step - loss: 0.1397 - mean_absolute_error: 0.1397\n",
      "225000/225000 [==============================] - 1s 6us/step\n"
     ]
    },
    {
     "ename": "ValueError",
     "evalue": "The model is not configured to compute accuracy. You should pass `metrics=[\"accuracy\"]` to the `model.compile()` method.",
     "output_type": "error",
     "traceback": [
      "\u001b[0;31m---------------------------------------------------------------------------\u001b[0m",
      "\u001b[0;31mValueError\u001b[0m                                Traceback (most recent call last)",
      "\u001b[0;32m<ipython-input-149-b38a6ef798b6>\u001b[0m in \u001b[0;36m<module>\u001b[0;34m()\u001b[0m\n\u001b[0;32m----> 1\u001b[0;31m \u001b[0mresults\u001b[0m \u001b[0;34m=\u001b[0m \u001b[0mcross_val_score\u001b[0m\u001b[0;34m(\u001b[0m\u001b[0mclassifier\u001b[0m\u001b[0;34m,\u001b[0m \u001b[0mX_train\u001b[0m\u001b[0;34m,\u001b[0m \u001b[0mdummy_y\u001b[0m\u001b[0;34m,\u001b[0m \u001b[0mcv\u001b[0m\u001b[0;34m=\u001b[0m\u001b[0mkfold\u001b[0m\u001b[0;34m)\u001b[0m\u001b[0;34m\u001b[0m\u001b[0m\n\u001b[0m",
      "\u001b[0;32m/Applications/anaconda3/lib/python3.6/site-packages/sklearn/model_selection/_validation.py\u001b[0m in \u001b[0;36mcross_val_score\u001b[0;34m(estimator, X, y, groups, scoring, cv, n_jobs, verbose, fit_params, pre_dispatch)\u001b[0m\n\u001b[1;32m    340\u001b[0m                                 \u001b[0mn_jobs\u001b[0m\u001b[0;34m=\u001b[0m\u001b[0mn_jobs\u001b[0m\u001b[0;34m,\u001b[0m \u001b[0mverbose\u001b[0m\u001b[0;34m=\u001b[0m\u001b[0mverbose\u001b[0m\u001b[0;34m,\u001b[0m\u001b[0;34m\u001b[0m\u001b[0m\n\u001b[1;32m    341\u001b[0m                                 \u001b[0mfit_params\u001b[0m\u001b[0;34m=\u001b[0m\u001b[0mfit_params\u001b[0m\u001b[0;34m,\u001b[0m\u001b[0;34m\u001b[0m\u001b[0m\n\u001b[0;32m--> 342\u001b[0;31m                                 pre_dispatch=pre_dispatch)\n\u001b[0m\u001b[1;32m    343\u001b[0m     \u001b[0;32mreturn\u001b[0m \u001b[0mcv_results\u001b[0m\u001b[0;34m[\u001b[0m\u001b[0;34m'test_score'\u001b[0m\u001b[0;34m]\u001b[0m\u001b[0;34m\u001b[0m\u001b[0m\n\u001b[1;32m    344\u001b[0m \u001b[0;34m\u001b[0m\u001b[0m\n",
      "\u001b[0;32m/Applications/anaconda3/lib/python3.6/site-packages/sklearn/model_selection/_validation.py\u001b[0m in \u001b[0;36mcross_validate\u001b[0;34m(estimator, X, y, groups, scoring, cv, n_jobs, verbose, fit_params, pre_dispatch, return_train_score)\u001b[0m\n\u001b[1;32m    204\u001b[0m             \u001b[0mfit_params\u001b[0m\u001b[0;34m,\u001b[0m \u001b[0mreturn_train_score\u001b[0m\u001b[0;34m=\u001b[0m\u001b[0mreturn_train_score\u001b[0m\u001b[0;34m,\u001b[0m\u001b[0;34m\u001b[0m\u001b[0m\n\u001b[1;32m    205\u001b[0m             return_times=True)\n\u001b[0;32m--> 206\u001b[0;31m         for train, test in cv.split(X, y, groups))\n\u001b[0m\u001b[1;32m    207\u001b[0m \u001b[0;34m\u001b[0m\u001b[0m\n\u001b[1;32m    208\u001b[0m     \u001b[0;32mif\u001b[0m \u001b[0mreturn_train_score\u001b[0m\u001b[0;34m:\u001b[0m\u001b[0;34m\u001b[0m\u001b[0m\n",
      "\u001b[0;32m/Applications/anaconda3/lib/python3.6/site-packages/sklearn/externals/joblib/parallel.py\u001b[0m in \u001b[0;36m__call__\u001b[0;34m(self, iterable)\u001b[0m\n\u001b[1;32m    777\u001b[0m             \u001b[0;31m# was dispatched. In particular this covers the edge\u001b[0m\u001b[0;34m\u001b[0m\u001b[0;34m\u001b[0m\u001b[0m\n\u001b[1;32m    778\u001b[0m             \u001b[0;31m# case of Parallel used with an exhausted iterator.\u001b[0m\u001b[0;34m\u001b[0m\u001b[0;34m\u001b[0m\u001b[0m\n\u001b[0;32m--> 779\u001b[0;31m             \u001b[0;32mwhile\u001b[0m \u001b[0mself\u001b[0m\u001b[0;34m.\u001b[0m\u001b[0mdispatch_one_batch\u001b[0m\u001b[0;34m(\u001b[0m\u001b[0miterator\u001b[0m\u001b[0;34m)\u001b[0m\u001b[0;34m:\u001b[0m\u001b[0;34m\u001b[0m\u001b[0m\n\u001b[0m\u001b[1;32m    780\u001b[0m                 \u001b[0mself\u001b[0m\u001b[0;34m.\u001b[0m\u001b[0m_iterating\u001b[0m \u001b[0;34m=\u001b[0m \u001b[0;32mTrue\u001b[0m\u001b[0;34m\u001b[0m\u001b[0m\n\u001b[1;32m    781\u001b[0m             \u001b[0;32melse\u001b[0m\u001b[0;34m:\u001b[0m\u001b[0;34m\u001b[0m\u001b[0m\n",
      "\u001b[0;32m/Applications/anaconda3/lib/python3.6/site-packages/sklearn/externals/joblib/parallel.py\u001b[0m in \u001b[0;36mdispatch_one_batch\u001b[0;34m(self, iterator)\u001b[0m\n\u001b[1;32m    623\u001b[0m                 \u001b[0;32mreturn\u001b[0m \u001b[0;32mFalse\u001b[0m\u001b[0;34m\u001b[0m\u001b[0m\n\u001b[1;32m    624\u001b[0m             \u001b[0;32melse\u001b[0m\u001b[0;34m:\u001b[0m\u001b[0;34m\u001b[0m\u001b[0m\n\u001b[0;32m--> 625\u001b[0;31m                 \u001b[0mself\u001b[0m\u001b[0;34m.\u001b[0m\u001b[0m_dispatch\u001b[0m\u001b[0;34m(\u001b[0m\u001b[0mtasks\u001b[0m\u001b[0;34m)\u001b[0m\u001b[0;34m\u001b[0m\u001b[0m\n\u001b[0m\u001b[1;32m    626\u001b[0m                 \u001b[0;32mreturn\u001b[0m \u001b[0;32mTrue\u001b[0m\u001b[0;34m\u001b[0m\u001b[0m\n\u001b[1;32m    627\u001b[0m \u001b[0;34m\u001b[0m\u001b[0m\n",
      "\u001b[0;32m/Applications/anaconda3/lib/python3.6/site-packages/sklearn/externals/joblib/parallel.py\u001b[0m in \u001b[0;36m_dispatch\u001b[0;34m(self, batch)\u001b[0m\n\u001b[1;32m    586\u001b[0m         \u001b[0mdispatch_timestamp\u001b[0m \u001b[0;34m=\u001b[0m \u001b[0mtime\u001b[0m\u001b[0;34m.\u001b[0m\u001b[0mtime\u001b[0m\u001b[0;34m(\u001b[0m\u001b[0;34m)\u001b[0m\u001b[0;34m\u001b[0m\u001b[0m\n\u001b[1;32m    587\u001b[0m         \u001b[0mcb\u001b[0m \u001b[0;34m=\u001b[0m \u001b[0mBatchCompletionCallBack\u001b[0m\u001b[0;34m(\u001b[0m\u001b[0mdispatch_timestamp\u001b[0m\u001b[0;34m,\u001b[0m \u001b[0mlen\u001b[0m\u001b[0;34m(\u001b[0m\u001b[0mbatch\u001b[0m\u001b[0;34m)\u001b[0m\u001b[0;34m,\u001b[0m \u001b[0mself\u001b[0m\u001b[0;34m)\u001b[0m\u001b[0;34m\u001b[0m\u001b[0m\n\u001b[0;32m--> 588\u001b[0;31m         \u001b[0mjob\u001b[0m \u001b[0;34m=\u001b[0m \u001b[0mself\u001b[0m\u001b[0;34m.\u001b[0m\u001b[0m_backend\u001b[0m\u001b[0;34m.\u001b[0m\u001b[0mapply_async\u001b[0m\u001b[0;34m(\u001b[0m\u001b[0mbatch\u001b[0m\u001b[0;34m,\u001b[0m \u001b[0mcallback\u001b[0m\u001b[0;34m=\u001b[0m\u001b[0mcb\u001b[0m\u001b[0;34m)\u001b[0m\u001b[0;34m\u001b[0m\u001b[0m\n\u001b[0m\u001b[1;32m    589\u001b[0m         \u001b[0mself\u001b[0m\u001b[0;34m.\u001b[0m\u001b[0m_jobs\u001b[0m\u001b[0;34m.\u001b[0m\u001b[0mappend\u001b[0m\u001b[0;34m(\u001b[0m\u001b[0mjob\u001b[0m\u001b[0;34m)\u001b[0m\u001b[0;34m\u001b[0m\u001b[0m\n\u001b[1;32m    590\u001b[0m \u001b[0;34m\u001b[0m\u001b[0m\n",
      "\u001b[0;32m/Applications/anaconda3/lib/python3.6/site-packages/sklearn/externals/joblib/_parallel_backends.py\u001b[0m in \u001b[0;36mapply_async\u001b[0;34m(self, func, callback)\u001b[0m\n\u001b[1;32m    109\u001b[0m     \u001b[0;32mdef\u001b[0m \u001b[0mapply_async\u001b[0m\u001b[0;34m(\u001b[0m\u001b[0mself\u001b[0m\u001b[0;34m,\u001b[0m \u001b[0mfunc\u001b[0m\u001b[0;34m,\u001b[0m \u001b[0mcallback\u001b[0m\u001b[0;34m=\u001b[0m\u001b[0;32mNone\u001b[0m\u001b[0;34m)\u001b[0m\u001b[0;34m:\u001b[0m\u001b[0;34m\u001b[0m\u001b[0m\n\u001b[1;32m    110\u001b[0m         \u001b[0;34m\"\"\"Schedule a func to be run\"\"\"\u001b[0m\u001b[0;34m\u001b[0m\u001b[0m\n\u001b[0;32m--> 111\u001b[0;31m         \u001b[0mresult\u001b[0m \u001b[0;34m=\u001b[0m \u001b[0mImmediateResult\u001b[0m\u001b[0;34m(\u001b[0m\u001b[0mfunc\u001b[0m\u001b[0;34m)\u001b[0m\u001b[0;34m\u001b[0m\u001b[0m\n\u001b[0m\u001b[1;32m    112\u001b[0m         \u001b[0;32mif\u001b[0m \u001b[0mcallback\u001b[0m\u001b[0;34m:\u001b[0m\u001b[0;34m\u001b[0m\u001b[0m\n\u001b[1;32m    113\u001b[0m             \u001b[0mcallback\u001b[0m\u001b[0;34m(\u001b[0m\u001b[0mresult\u001b[0m\u001b[0;34m)\u001b[0m\u001b[0;34m\u001b[0m\u001b[0m\n",
      "\u001b[0;32m/Applications/anaconda3/lib/python3.6/site-packages/sklearn/externals/joblib/_parallel_backends.py\u001b[0m in \u001b[0;36m__init__\u001b[0;34m(self, batch)\u001b[0m\n\u001b[1;32m    330\u001b[0m         \u001b[0;31m# Don't delay the application, to avoid keeping the input\u001b[0m\u001b[0;34m\u001b[0m\u001b[0;34m\u001b[0m\u001b[0m\n\u001b[1;32m    331\u001b[0m         \u001b[0;31m# arguments in memory\u001b[0m\u001b[0;34m\u001b[0m\u001b[0;34m\u001b[0m\u001b[0m\n\u001b[0;32m--> 332\u001b[0;31m         \u001b[0mself\u001b[0m\u001b[0;34m.\u001b[0m\u001b[0mresults\u001b[0m \u001b[0;34m=\u001b[0m \u001b[0mbatch\u001b[0m\u001b[0;34m(\u001b[0m\u001b[0;34m)\u001b[0m\u001b[0;34m\u001b[0m\u001b[0m\n\u001b[0m\u001b[1;32m    333\u001b[0m \u001b[0;34m\u001b[0m\u001b[0m\n\u001b[1;32m    334\u001b[0m     \u001b[0;32mdef\u001b[0m \u001b[0mget\u001b[0m\u001b[0;34m(\u001b[0m\u001b[0mself\u001b[0m\u001b[0;34m)\u001b[0m\u001b[0;34m:\u001b[0m\u001b[0;34m\u001b[0m\u001b[0m\n",
      "\u001b[0;32m/Applications/anaconda3/lib/python3.6/site-packages/sklearn/externals/joblib/parallel.py\u001b[0m in \u001b[0;36m__call__\u001b[0;34m(self)\u001b[0m\n\u001b[1;32m    129\u001b[0m \u001b[0;34m\u001b[0m\u001b[0m\n\u001b[1;32m    130\u001b[0m     \u001b[0;32mdef\u001b[0m \u001b[0m__call__\u001b[0m\u001b[0;34m(\u001b[0m\u001b[0mself\u001b[0m\u001b[0;34m)\u001b[0m\u001b[0;34m:\u001b[0m\u001b[0;34m\u001b[0m\u001b[0m\n\u001b[0;32m--> 131\u001b[0;31m         \u001b[0;32mreturn\u001b[0m \u001b[0;34m[\u001b[0m\u001b[0mfunc\u001b[0m\u001b[0;34m(\u001b[0m\u001b[0;34m*\u001b[0m\u001b[0margs\u001b[0m\u001b[0;34m,\u001b[0m \u001b[0;34m**\u001b[0m\u001b[0mkwargs\u001b[0m\u001b[0;34m)\u001b[0m \u001b[0;32mfor\u001b[0m \u001b[0mfunc\u001b[0m\u001b[0;34m,\u001b[0m \u001b[0margs\u001b[0m\u001b[0;34m,\u001b[0m \u001b[0mkwargs\u001b[0m \u001b[0;32min\u001b[0m \u001b[0mself\u001b[0m\u001b[0;34m.\u001b[0m\u001b[0mitems\u001b[0m\u001b[0;34m]\u001b[0m\u001b[0;34m\u001b[0m\u001b[0m\n\u001b[0m\u001b[1;32m    132\u001b[0m \u001b[0;34m\u001b[0m\u001b[0m\n\u001b[1;32m    133\u001b[0m     \u001b[0;32mdef\u001b[0m \u001b[0m__len__\u001b[0m\u001b[0;34m(\u001b[0m\u001b[0mself\u001b[0m\u001b[0;34m)\u001b[0m\u001b[0;34m:\u001b[0m\u001b[0;34m\u001b[0m\u001b[0m\n",
      "\u001b[0;32m/Applications/anaconda3/lib/python3.6/site-packages/sklearn/externals/joblib/parallel.py\u001b[0m in \u001b[0;36m<listcomp>\u001b[0;34m(.0)\u001b[0m\n\u001b[1;32m    129\u001b[0m \u001b[0;34m\u001b[0m\u001b[0m\n\u001b[1;32m    130\u001b[0m     \u001b[0;32mdef\u001b[0m \u001b[0m__call__\u001b[0m\u001b[0;34m(\u001b[0m\u001b[0mself\u001b[0m\u001b[0;34m)\u001b[0m\u001b[0;34m:\u001b[0m\u001b[0;34m\u001b[0m\u001b[0m\n\u001b[0;32m--> 131\u001b[0;31m         \u001b[0;32mreturn\u001b[0m \u001b[0;34m[\u001b[0m\u001b[0mfunc\u001b[0m\u001b[0;34m(\u001b[0m\u001b[0;34m*\u001b[0m\u001b[0margs\u001b[0m\u001b[0;34m,\u001b[0m \u001b[0;34m**\u001b[0m\u001b[0mkwargs\u001b[0m\u001b[0;34m)\u001b[0m \u001b[0;32mfor\u001b[0m \u001b[0mfunc\u001b[0m\u001b[0;34m,\u001b[0m \u001b[0margs\u001b[0m\u001b[0;34m,\u001b[0m \u001b[0mkwargs\u001b[0m \u001b[0;32min\u001b[0m \u001b[0mself\u001b[0m\u001b[0;34m.\u001b[0m\u001b[0mitems\u001b[0m\u001b[0;34m]\u001b[0m\u001b[0;34m\u001b[0m\u001b[0m\n\u001b[0m\u001b[1;32m    132\u001b[0m \u001b[0;34m\u001b[0m\u001b[0m\n\u001b[1;32m    133\u001b[0m     \u001b[0;32mdef\u001b[0m \u001b[0m__len__\u001b[0m\u001b[0;34m(\u001b[0m\u001b[0mself\u001b[0m\u001b[0;34m)\u001b[0m\u001b[0;34m:\u001b[0m\u001b[0;34m\u001b[0m\u001b[0m\n",
      "\u001b[0;32m/Applications/anaconda3/lib/python3.6/site-packages/sklearn/model_selection/_validation.py\u001b[0m in \u001b[0;36m_fit_and_score\u001b[0;34m(estimator, X, y, scorer, train, test, verbose, parameters, fit_params, return_train_score, return_parameters, return_n_test_samples, return_times, error_score)\u001b[0m\n\u001b[1;32m    486\u001b[0m         \u001b[0mfit_time\u001b[0m \u001b[0;34m=\u001b[0m \u001b[0mtime\u001b[0m\u001b[0;34m.\u001b[0m\u001b[0mtime\u001b[0m\u001b[0;34m(\u001b[0m\u001b[0;34m)\u001b[0m \u001b[0;34m-\u001b[0m \u001b[0mstart_time\u001b[0m\u001b[0;34m\u001b[0m\u001b[0m\n\u001b[1;32m    487\u001b[0m         \u001b[0;31m# _score will return dict if is_multimetric is True\u001b[0m\u001b[0;34m\u001b[0m\u001b[0;34m\u001b[0m\u001b[0m\n\u001b[0;32m--> 488\u001b[0;31m         \u001b[0mtest_scores\u001b[0m \u001b[0;34m=\u001b[0m \u001b[0m_score\u001b[0m\u001b[0;34m(\u001b[0m\u001b[0mestimator\u001b[0m\u001b[0;34m,\u001b[0m \u001b[0mX_test\u001b[0m\u001b[0;34m,\u001b[0m \u001b[0my_test\u001b[0m\u001b[0;34m,\u001b[0m \u001b[0mscorer\u001b[0m\u001b[0;34m,\u001b[0m \u001b[0mis_multimetric\u001b[0m\u001b[0;34m)\u001b[0m\u001b[0;34m\u001b[0m\u001b[0m\n\u001b[0m\u001b[1;32m    489\u001b[0m         \u001b[0mscore_time\u001b[0m \u001b[0;34m=\u001b[0m \u001b[0mtime\u001b[0m\u001b[0;34m.\u001b[0m\u001b[0mtime\u001b[0m\u001b[0;34m(\u001b[0m\u001b[0;34m)\u001b[0m \u001b[0;34m-\u001b[0m \u001b[0mstart_time\u001b[0m \u001b[0;34m-\u001b[0m \u001b[0mfit_time\u001b[0m\u001b[0;34m\u001b[0m\u001b[0m\n\u001b[1;32m    490\u001b[0m         \u001b[0;32mif\u001b[0m \u001b[0mreturn_train_score\u001b[0m\u001b[0;34m:\u001b[0m\u001b[0;34m\u001b[0m\u001b[0m\n",
      "\u001b[0;32m/Applications/anaconda3/lib/python3.6/site-packages/sklearn/model_selection/_validation.py\u001b[0m in \u001b[0;36m_score\u001b[0;34m(estimator, X_test, y_test, scorer, is_multimetric)\u001b[0m\n\u001b[1;32m    521\u001b[0m     \"\"\"\n\u001b[1;32m    522\u001b[0m     \u001b[0;32mif\u001b[0m \u001b[0mis_multimetric\u001b[0m\u001b[0;34m:\u001b[0m\u001b[0;34m\u001b[0m\u001b[0m\n\u001b[0;32m--> 523\u001b[0;31m         \u001b[0;32mreturn\u001b[0m \u001b[0m_multimetric_score\u001b[0m\u001b[0;34m(\u001b[0m\u001b[0mestimator\u001b[0m\u001b[0;34m,\u001b[0m \u001b[0mX_test\u001b[0m\u001b[0;34m,\u001b[0m \u001b[0my_test\u001b[0m\u001b[0;34m,\u001b[0m \u001b[0mscorer\u001b[0m\u001b[0;34m)\u001b[0m\u001b[0;34m\u001b[0m\u001b[0m\n\u001b[0m\u001b[1;32m    524\u001b[0m     \u001b[0;32melse\u001b[0m\u001b[0;34m:\u001b[0m\u001b[0;34m\u001b[0m\u001b[0m\n\u001b[1;32m    525\u001b[0m         \u001b[0;32mif\u001b[0m \u001b[0my_test\u001b[0m \u001b[0;32mis\u001b[0m \u001b[0;32mNone\u001b[0m\u001b[0;34m:\u001b[0m\u001b[0;34m\u001b[0m\u001b[0m\n",
      "\u001b[0;32m/Applications/anaconda3/lib/python3.6/site-packages/sklearn/model_selection/_validation.py\u001b[0m in \u001b[0;36m_multimetric_score\u001b[0;34m(estimator, X_test, y_test, scorers)\u001b[0m\n\u001b[1;32m    551\u001b[0m             \u001b[0mscore\u001b[0m \u001b[0;34m=\u001b[0m \u001b[0mscorer\u001b[0m\u001b[0;34m(\u001b[0m\u001b[0mestimator\u001b[0m\u001b[0;34m,\u001b[0m \u001b[0mX_test\u001b[0m\u001b[0;34m)\u001b[0m\u001b[0;34m\u001b[0m\u001b[0m\n\u001b[1;32m    552\u001b[0m         \u001b[0;32melse\u001b[0m\u001b[0;34m:\u001b[0m\u001b[0;34m\u001b[0m\u001b[0m\n\u001b[0;32m--> 553\u001b[0;31m             \u001b[0mscore\u001b[0m \u001b[0;34m=\u001b[0m \u001b[0mscorer\u001b[0m\u001b[0;34m(\u001b[0m\u001b[0mestimator\u001b[0m\u001b[0;34m,\u001b[0m \u001b[0mX_test\u001b[0m\u001b[0;34m,\u001b[0m \u001b[0my_test\u001b[0m\u001b[0;34m)\u001b[0m\u001b[0;34m\u001b[0m\u001b[0m\n\u001b[0m\u001b[1;32m    554\u001b[0m \u001b[0;34m\u001b[0m\u001b[0m\n\u001b[1;32m    555\u001b[0m         \u001b[0;32mif\u001b[0m \u001b[0mhasattr\u001b[0m\u001b[0;34m(\u001b[0m\u001b[0mscore\u001b[0m\u001b[0;34m,\u001b[0m \u001b[0;34m'item'\u001b[0m\u001b[0;34m)\u001b[0m\u001b[0;34m:\u001b[0m\u001b[0;34m\u001b[0m\u001b[0m\n",
      "\u001b[0;32m/Applications/anaconda3/lib/python3.6/site-packages/sklearn/metrics/scorer.py\u001b[0m in \u001b[0;36m_passthrough_scorer\u001b[0;34m(estimator, *args, **kwargs)\u001b[0m\n\u001b[1;32m    242\u001b[0m \u001b[0;32mdef\u001b[0m \u001b[0m_passthrough_scorer\u001b[0m\u001b[0;34m(\u001b[0m\u001b[0mestimator\u001b[0m\u001b[0;34m,\u001b[0m \u001b[0;34m*\u001b[0m\u001b[0margs\u001b[0m\u001b[0;34m,\u001b[0m \u001b[0;34m**\u001b[0m\u001b[0mkwargs\u001b[0m\u001b[0;34m)\u001b[0m\u001b[0;34m:\u001b[0m\u001b[0;34m\u001b[0m\u001b[0m\n\u001b[1;32m    243\u001b[0m     \u001b[0;34m\"\"\"Function that wraps estimator.score\"\"\"\u001b[0m\u001b[0;34m\u001b[0m\u001b[0m\n\u001b[0;32m--> 244\u001b[0;31m     \u001b[0;32mreturn\u001b[0m \u001b[0mestimator\u001b[0m\u001b[0;34m.\u001b[0m\u001b[0mscore\u001b[0m\u001b[0;34m(\u001b[0m\u001b[0;34m*\u001b[0m\u001b[0margs\u001b[0m\u001b[0;34m,\u001b[0m \u001b[0;34m**\u001b[0m\u001b[0mkwargs\u001b[0m\u001b[0;34m)\u001b[0m\u001b[0;34m\u001b[0m\u001b[0m\n\u001b[0m\u001b[1;32m    245\u001b[0m \u001b[0;34m\u001b[0m\u001b[0m\n\u001b[1;32m    246\u001b[0m \u001b[0;34m\u001b[0m\u001b[0m\n",
      "\u001b[0;32m/Applications/anaconda3/lib/python3.6/site-packages/keras/wrappers/scikit_learn.py\u001b[0m in \u001b[0;36mscore\u001b[0;34m(self, x, y, **kwargs)\u001b[0m\n\u001b[1;32m    286\u001b[0m             \u001b[0;32mif\u001b[0m \u001b[0mname\u001b[0m \u001b[0;34m==\u001b[0m \u001b[0;34m'acc'\u001b[0m\u001b[0;34m:\u001b[0m\u001b[0;34m\u001b[0m\u001b[0m\n\u001b[1;32m    287\u001b[0m                 \u001b[0;32mreturn\u001b[0m \u001b[0moutput\u001b[0m\u001b[0;34m\u001b[0m\u001b[0m\n\u001b[0;32m--> 288\u001b[0;31m         raise ValueError('The model is not configured to compute accuracy. '\n\u001b[0m\u001b[1;32m    289\u001b[0m                          \u001b[0;34m'You should pass `metrics=[\"accuracy\"]` to '\u001b[0m\u001b[0;34m\u001b[0m\u001b[0m\n\u001b[1;32m    290\u001b[0m                          'the `model.compile()` method.')\n",
      "\u001b[0;31mValueError\u001b[0m: The model is not configured to compute accuracy. You should pass `metrics=[\"accuracy\"]` to the `model.compile()` method."
     ]
    }
   ],
   "source": [
    "results = cross_val_score(classifier, X_train, dummy_y, cv=kfold)"
   ]
  },
  {
   "cell_type": "code",
   "execution_count": 150,
   "metadata": {
    "collapsed": true
   },
   "outputs": [
    {
     "data": {
      "text/plain": [
       "<keras.callbacks.History at 0x1c37dc5cf8>"
      ]
     },
     "execution_count": 150,
     "metadata": {},
     "output_type": "execute_result"
    }
   ],
   "source": [
    "classifier.fit(X_train, dummy_y, verbose=0)"
   ]
  },
  {
   "cell_type": "code",
   "execution_count": 111,
   "metadata": {
    "collapsed": true
   },
   "outputs": [
    {
     "ename": "KeyboardInterrupt",
     "evalue": "",
     "output_type": "error",
     "traceback": [
      "\u001b[0;31m---------------------------------------------------------------------------\u001b[0m",
      "\u001b[0;31mKeyboardInterrupt\u001b[0m                         Traceback (most recent call last)",
      "\u001b[0;32m<ipython-input-111-05d2224c45bb>\u001b[0m in \u001b[0;36m<module>\u001b[0;34m()\u001b[0m\n\u001b[1;32m     13\u001b[0m         \u001b[0;32mif\u001b[0m \u001b[0mind\u001b[0m \u001b[0;34m==\u001b[0m \u001b[0mbatch_size\u001b[0m\u001b[0;34m:\u001b[0m\u001b[0;34m\u001b[0m\u001b[0m\n\u001b[1;32m     14\u001b[0m             \u001b[0mind\u001b[0m \u001b[0;34m=\u001b[0m \u001b[0;36m0\u001b[0m\u001b[0;34m\u001b[0m\u001b[0m\n\u001b[0;32m---> 15\u001b[0;31m             \u001b[0mY_test\u001b[0m\u001b[0;34m[\u001b[0m\u001b[0mglob_ind\u001b[0m\u001b[0;34m-\u001b[0m\u001b[0mbatch_size\u001b[0m\u001b[0;34m:\u001b[0m\u001b[0mglob_ind\u001b[0m\u001b[0;34m]\u001b[0m \u001b[0;34m=\u001b[0m \u001b[0mclassifier\u001b[0m\u001b[0;34m.\u001b[0m\u001b[0mpredict\u001b[0m\u001b[0;34m(\u001b[0m\u001b[0mX_batch\u001b[0m\u001b[0;34m,\u001b[0m \u001b[0mverbose\u001b[0m\u001b[0;34m=\u001b[0m\u001b[0;36m0\u001b[0m\u001b[0;34m)\u001b[0m\u001b[0;34m\u001b[0m\u001b[0m\n\u001b[0m\u001b[1;32m     16\u001b[0m \u001b[0;34m\u001b[0m\u001b[0m\n",
      "\u001b[0;32m/Applications/anaconda3/lib/python3.6/site-packages/keras/wrappers/scikit_learn.py\u001b[0m in \u001b[0;36mpredict\u001b[0;34m(self, x, **kwargs)\u001b[0m\n\u001b[1;32m    219\u001b[0m         \"\"\"\n\u001b[1;32m    220\u001b[0m         \u001b[0mkwargs\u001b[0m \u001b[0;34m=\u001b[0m \u001b[0mself\u001b[0m\u001b[0;34m.\u001b[0m\u001b[0mfilter_sk_params\u001b[0m\u001b[0;34m(\u001b[0m\u001b[0mSequential\u001b[0m\u001b[0;34m.\u001b[0m\u001b[0mpredict_classes\u001b[0m\u001b[0;34m,\u001b[0m \u001b[0mkwargs\u001b[0m\u001b[0;34m)\u001b[0m\u001b[0;34m\u001b[0m\u001b[0m\n\u001b[0;32m--> 221\u001b[0;31m         \u001b[0mclasses\u001b[0m \u001b[0;34m=\u001b[0m \u001b[0mself\u001b[0m\u001b[0;34m.\u001b[0m\u001b[0mmodel\u001b[0m\u001b[0;34m.\u001b[0m\u001b[0mpredict_classes\u001b[0m\u001b[0;34m(\u001b[0m\u001b[0mx\u001b[0m\u001b[0;34m,\u001b[0m \u001b[0;34m**\u001b[0m\u001b[0mkwargs\u001b[0m\u001b[0;34m)\u001b[0m\u001b[0;34m\u001b[0m\u001b[0m\n\u001b[0m\u001b[1;32m    222\u001b[0m         \u001b[0;32mreturn\u001b[0m \u001b[0mself\u001b[0m\u001b[0;34m.\u001b[0m\u001b[0mclasses_\u001b[0m\u001b[0;34m[\u001b[0m\u001b[0mclasses\u001b[0m\u001b[0;34m]\u001b[0m\u001b[0;34m\u001b[0m\u001b[0m\n\u001b[1;32m    223\u001b[0m \u001b[0;34m\u001b[0m\u001b[0m\n",
      "\u001b[0;32m/Applications/anaconda3/lib/python3.6/site-packages/keras/models.py\u001b[0m in \u001b[0;36mpredict_classes\u001b[0;34m(self, x, batch_size, verbose)\u001b[0m\n\u001b[1;32m   1109\u001b[0m             \u001b[0mA\u001b[0m \u001b[0mnumpy\u001b[0m \u001b[0marray\u001b[0m \u001b[0mof\u001b[0m \u001b[0;32mclass\u001b[0m \u001b[0mpredictions\u001b[0m\u001b[0;34m.\u001b[0m\u001b[0;34m\u001b[0m\u001b[0m\n\u001b[1;32m   1110\u001b[0m         \"\"\"\n\u001b[0;32m-> 1111\u001b[0;31m         \u001b[0mproba\u001b[0m \u001b[0;34m=\u001b[0m \u001b[0mself\u001b[0m\u001b[0;34m.\u001b[0m\u001b[0mpredict\u001b[0m\u001b[0;34m(\u001b[0m\u001b[0mx\u001b[0m\u001b[0;34m,\u001b[0m \u001b[0mbatch_size\u001b[0m\u001b[0;34m=\u001b[0m\u001b[0mbatch_size\u001b[0m\u001b[0;34m,\u001b[0m \u001b[0mverbose\u001b[0m\u001b[0;34m=\u001b[0m\u001b[0mverbose\u001b[0m\u001b[0;34m)\u001b[0m\u001b[0;34m\u001b[0m\u001b[0m\n\u001b[0m\u001b[1;32m   1112\u001b[0m         \u001b[0;32mif\u001b[0m \u001b[0mproba\u001b[0m\u001b[0;34m.\u001b[0m\u001b[0mshape\u001b[0m\u001b[0;34m[\u001b[0m\u001b[0;34m-\u001b[0m\u001b[0;36m1\u001b[0m\u001b[0;34m]\u001b[0m \u001b[0;34m>\u001b[0m \u001b[0;36m1\u001b[0m\u001b[0;34m:\u001b[0m\u001b[0;34m\u001b[0m\u001b[0m\n\u001b[1;32m   1113\u001b[0m             \u001b[0;32mreturn\u001b[0m \u001b[0mproba\u001b[0m\u001b[0;34m.\u001b[0m\u001b[0margmax\u001b[0m\u001b[0;34m(\u001b[0m\u001b[0maxis\u001b[0m\u001b[0;34m=\u001b[0m\u001b[0;34m-\u001b[0m\u001b[0;36m1\u001b[0m\u001b[0;34m)\u001b[0m\u001b[0;34m\u001b[0m\u001b[0m\n",
      "\u001b[0;32m/Applications/anaconda3/lib/python3.6/site-packages/keras/models.py\u001b[0m in \u001b[0;36mpredict\u001b[0;34m(self, x, batch_size, verbose)\u001b[0m\n\u001b[1;32m   1004\u001b[0m         \u001b[0;32mif\u001b[0m \u001b[0;32mnot\u001b[0m \u001b[0mself\u001b[0m\u001b[0;34m.\u001b[0m\u001b[0mbuilt\u001b[0m\u001b[0;34m:\u001b[0m\u001b[0;34m\u001b[0m\u001b[0m\n\u001b[1;32m   1005\u001b[0m             \u001b[0mself\u001b[0m\u001b[0;34m.\u001b[0m\u001b[0mbuild\u001b[0m\u001b[0;34m(\u001b[0m\u001b[0;34m)\u001b[0m\u001b[0;34m\u001b[0m\u001b[0m\n\u001b[0;32m-> 1006\u001b[0;31m         \u001b[0;32mreturn\u001b[0m \u001b[0mself\u001b[0m\u001b[0;34m.\u001b[0m\u001b[0mmodel\u001b[0m\u001b[0;34m.\u001b[0m\u001b[0mpredict\u001b[0m\u001b[0;34m(\u001b[0m\u001b[0mx\u001b[0m\u001b[0;34m,\u001b[0m \u001b[0mbatch_size\u001b[0m\u001b[0;34m=\u001b[0m\u001b[0mbatch_size\u001b[0m\u001b[0;34m,\u001b[0m \u001b[0mverbose\u001b[0m\u001b[0;34m=\u001b[0m\u001b[0mverbose\u001b[0m\u001b[0;34m)\u001b[0m\u001b[0;34m\u001b[0m\u001b[0m\n\u001b[0m\u001b[1;32m   1007\u001b[0m \u001b[0;34m\u001b[0m\u001b[0m\n\u001b[1;32m   1008\u001b[0m     \u001b[0;32mdef\u001b[0m \u001b[0mpredict_on_batch\u001b[0m\u001b[0;34m(\u001b[0m\u001b[0mself\u001b[0m\u001b[0;34m,\u001b[0m \u001b[0mx\u001b[0m\u001b[0;34m)\u001b[0m\u001b[0;34m:\u001b[0m\u001b[0;34m\u001b[0m\u001b[0m\n",
      "\u001b[0;32m/Applications/anaconda3/lib/python3.6/site-packages/keras/engine/training.py\u001b[0m in \u001b[0;36mpredict\u001b[0;34m(self, x, batch_size, verbose, steps)\u001b[0m\n\u001b[1;32m   1788\u001b[0m         \u001b[0mf\u001b[0m \u001b[0;34m=\u001b[0m \u001b[0mself\u001b[0m\u001b[0;34m.\u001b[0m\u001b[0mpredict_function\u001b[0m\u001b[0;34m\u001b[0m\u001b[0m\n\u001b[1;32m   1789\u001b[0m         return self._predict_loop(f, ins, batch_size=batch_size,\n\u001b[0;32m-> 1790\u001b[0;31m                                   verbose=verbose, steps=steps)\n\u001b[0m\u001b[1;32m   1791\u001b[0m \u001b[0;34m\u001b[0m\u001b[0m\n\u001b[1;32m   1792\u001b[0m     def train_on_batch(self, x, y,\n",
      "\u001b[0;32m/Applications/anaconda3/lib/python3.6/site-packages/keras/engine/training.py\u001b[0m in \u001b[0;36m_predict_loop\u001b[0;34m(self, f, ins, batch_size, verbose, steps)\u001b[0m\n\u001b[1;32m   1294\u001b[0m                 \u001b[0;32mif\u001b[0m \u001b[0mins\u001b[0m \u001b[0;32mand\u001b[0m \u001b[0misinstance\u001b[0m\u001b[0;34m(\u001b[0m\u001b[0mins\u001b[0m\u001b[0;34m[\u001b[0m\u001b[0;34m-\u001b[0m\u001b[0;36m1\u001b[0m\u001b[0;34m]\u001b[0m\u001b[0;34m,\u001b[0m \u001b[0mfloat\u001b[0m\u001b[0;34m)\u001b[0m\u001b[0;34m:\u001b[0m\u001b[0;34m\u001b[0m\u001b[0m\n\u001b[1;32m   1295\u001b[0m                     \u001b[0;31m# Do not slice the training phase flag.\u001b[0m\u001b[0;34m\u001b[0m\u001b[0;34m\u001b[0m\u001b[0m\n\u001b[0;32m-> 1296\u001b[0;31m                     \u001b[0mins_batch\u001b[0m \u001b[0;34m=\u001b[0m \u001b[0m_slice_arrays\u001b[0m\u001b[0;34m(\u001b[0m\u001b[0mins\u001b[0m\u001b[0;34m[\u001b[0m\u001b[0;34m:\u001b[0m\u001b[0;34m-\u001b[0m\u001b[0;36m1\u001b[0m\u001b[0;34m]\u001b[0m\u001b[0;34m,\u001b[0m \u001b[0mbatch_ids\u001b[0m\u001b[0;34m)\u001b[0m \u001b[0;34m+\u001b[0m \u001b[0;34m[\u001b[0m\u001b[0mins\u001b[0m\u001b[0;34m[\u001b[0m\u001b[0;34m-\u001b[0m\u001b[0;36m1\u001b[0m\u001b[0;34m]\u001b[0m\u001b[0;34m]\u001b[0m\u001b[0;34m\u001b[0m\u001b[0m\n\u001b[0m\u001b[1;32m   1297\u001b[0m                 \u001b[0;32melse\u001b[0m\u001b[0;34m:\u001b[0m\u001b[0;34m\u001b[0m\u001b[0m\n\u001b[1;32m   1298\u001b[0m                     \u001b[0mins_batch\u001b[0m \u001b[0;34m=\u001b[0m \u001b[0m_slice_arrays\u001b[0m\u001b[0;34m(\u001b[0m\u001b[0mins\u001b[0m\u001b[0;34m,\u001b[0m \u001b[0mbatch_ids\u001b[0m\u001b[0;34m)\u001b[0m\u001b[0;34m\u001b[0m\u001b[0m\n",
      "\u001b[0;32m/Applications/anaconda3/lib/python3.6/site-packages/keras/engine/training.py\u001b[0m in \u001b[0;36m_slice_arrays\u001b[0;34m(arrays, start, stop)\u001b[0m\n\u001b[1;32m    413\u001b[0m             \u001b[0;32mif\u001b[0m \u001b[0mhasattr\u001b[0m\u001b[0;34m(\u001b[0m\u001b[0mstart\u001b[0m\u001b[0;34m,\u001b[0m \u001b[0;34m'shape'\u001b[0m\u001b[0;34m)\u001b[0m\u001b[0;34m:\u001b[0m\u001b[0;34m\u001b[0m\u001b[0m\n\u001b[1;32m    414\u001b[0m                 \u001b[0mstart\u001b[0m \u001b[0;34m=\u001b[0m \u001b[0mstart\u001b[0m\u001b[0;34m.\u001b[0m\u001b[0mtolist\u001b[0m\u001b[0;34m(\u001b[0m\u001b[0;34m)\u001b[0m\u001b[0;34m\u001b[0m\u001b[0m\n\u001b[0;32m--> 415\u001b[0;31m             \u001b[0;32mreturn\u001b[0m \u001b[0;34m[\u001b[0m\u001b[0;32mNone\u001b[0m \u001b[0;32mif\u001b[0m \u001b[0mx\u001b[0m \u001b[0;32mis\u001b[0m \u001b[0;32mNone\u001b[0m \u001b[0;32melse\u001b[0m \u001b[0mx\u001b[0m\u001b[0;34m[\u001b[0m\u001b[0mstart\u001b[0m\u001b[0;34m]\u001b[0m \u001b[0;32mfor\u001b[0m \u001b[0mx\u001b[0m \u001b[0;32min\u001b[0m \u001b[0marrays\u001b[0m\u001b[0;34m]\u001b[0m\u001b[0;34m\u001b[0m\u001b[0m\n\u001b[0m\u001b[1;32m    416\u001b[0m         \u001b[0;32melse\u001b[0m\u001b[0;34m:\u001b[0m\u001b[0;34m\u001b[0m\u001b[0m\n\u001b[1;32m    417\u001b[0m             \u001b[0;32mreturn\u001b[0m \u001b[0;34m[\u001b[0m\u001b[0;32mNone\u001b[0m \u001b[0;32mif\u001b[0m \u001b[0mx\u001b[0m \u001b[0;32mis\u001b[0m \u001b[0;32mNone\u001b[0m \u001b[0;32melse\u001b[0m \u001b[0mx\u001b[0m\u001b[0;34m[\u001b[0m\u001b[0mstart\u001b[0m\u001b[0;34m:\u001b[0m\u001b[0mstop\u001b[0m\u001b[0;34m]\u001b[0m \u001b[0;32mfor\u001b[0m \u001b[0mx\u001b[0m \u001b[0;32min\u001b[0m \u001b[0marrays\u001b[0m\u001b[0;34m]\u001b[0m\u001b[0;34m\u001b[0m\u001b[0m\n",
      "\u001b[0;32m/Applications/anaconda3/lib/python3.6/site-packages/keras/engine/training.py\u001b[0m in \u001b[0;36m<listcomp>\u001b[0;34m(.0)\u001b[0m\n\u001b[1;32m    413\u001b[0m             \u001b[0;32mif\u001b[0m \u001b[0mhasattr\u001b[0m\u001b[0;34m(\u001b[0m\u001b[0mstart\u001b[0m\u001b[0;34m,\u001b[0m \u001b[0;34m'shape'\u001b[0m\u001b[0;34m)\u001b[0m\u001b[0;34m:\u001b[0m\u001b[0;34m\u001b[0m\u001b[0m\n\u001b[1;32m    414\u001b[0m                 \u001b[0mstart\u001b[0m \u001b[0;34m=\u001b[0m \u001b[0mstart\u001b[0m\u001b[0;34m.\u001b[0m\u001b[0mtolist\u001b[0m\u001b[0;34m(\u001b[0m\u001b[0;34m)\u001b[0m\u001b[0;34m\u001b[0m\u001b[0m\n\u001b[0;32m--> 415\u001b[0;31m             \u001b[0;32mreturn\u001b[0m \u001b[0;34m[\u001b[0m\u001b[0;32mNone\u001b[0m \u001b[0;32mif\u001b[0m \u001b[0mx\u001b[0m \u001b[0;32mis\u001b[0m \u001b[0;32mNone\u001b[0m \u001b[0;32melse\u001b[0m \u001b[0mx\u001b[0m\u001b[0;34m[\u001b[0m\u001b[0mstart\u001b[0m\u001b[0;34m]\u001b[0m \u001b[0;32mfor\u001b[0m \u001b[0mx\u001b[0m \u001b[0;32min\u001b[0m \u001b[0marrays\u001b[0m\u001b[0;34m]\u001b[0m\u001b[0;34m\u001b[0m\u001b[0m\n\u001b[0m\u001b[1;32m    416\u001b[0m         \u001b[0;32melse\u001b[0m\u001b[0;34m:\u001b[0m\u001b[0;34m\u001b[0m\u001b[0m\n\u001b[1;32m    417\u001b[0m             \u001b[0;32mreturn\u001b[0m \u001b[0;34m[\u001b[0m\u001b[0;32mNone\u001b[0m \u001b[0;32mif\u001b[0m \u001b[0mx\u001b[0m \u001b[0;32mis\u001b[0m \u001b[0;32mNone\u001b[0m \u001b[0;32melse\u001b[0m \u001b[0mx\u001b[0m\u001b[0;34m[\u001b[0m\u001b[0mstart\u001b[0m\u001b[0;34m:\u001b[0m\u001b[0mstop\u001b[0m\u001b[0;34m]\u001b[0m \u001b[0;32mfor\u001b[0m \u001b[0mx\u001b[0m \u001b[0;32min\u001b[0m \u001b[0marrays\u001b[0m\u001b[0;34m]\u001b[0m\u001b[0;34m\u001b[0m\u001b[0m\n",
      "\u001b[0;31mKeyboardInterrupt\u001b[0m: "
     ]
    }
   ],
   "source": [
    "batch_size = 10000\n",
    "Y_test = np.zeros(len(test_smiles) * len(test_pharmacophores), dtype=np.int32)\n",
    "X_batch = np.zeros((batch_size, PHARM_TRAIN_X[0].shape[0] + 167), dtype=np.int32)\n",
    "\n",
    "ind = 0\n",
    "glob_ind = 0\n",
    "for lig_id in range(len(test_smiles)):\n",
    "    for p_id in range(len(test_pharmacophores)):\n",
    "        X_batch[ind, :len(MAPPING)] = PHARM_TEST_X[p_id]\n",
    "        X_batch[ind, len(MAPPING):] = PHARM_TEST_SMILES[p_id]\n",
    "        ind += 1\n",
    "        glob_ind += 1\n",
    "        if ind == batch_size:\n",
    "            ind = 0\n",
    "            Y_test[glob_ind-batch_size:glob_ind] = classifier.predict(X_batch, verbose=0)\n",
    "    "
   ]
  },
  {
   "cell_type": "markdown",
   "metadata": {},
   "source": [
    "Now let's make a submission"
   ]
  },
  {
   "cell_type": "code",
   "execution_count": 167,
   "metadata": {
    "collapsed": true
   },
   "outputs": [],
   "source": [
    "with open(\"submission.csv\", \"w\") as out_file:\n",
    "    out_file.write(\"ligid_pharmid,score\\n\")\n",
    "    for ligind in range(len(test_smiles)):\n",
    "        for pind in range(len(test_pharmacophores)):\n",
    "            global_ind = ligind * len(test_pharmacophores)  + pind\n",
    "            out_file.write(\"{},{}\\n\".format(global_ind, int(Y_test[global_ind])))"
   ]
  },
  {
   "cell_type": "code",
   "execution_count": null,
   "metadata": {},
   "outputs": [],
   "source": []
  }
 ],
 "metadata": {
  "kernelspec": {
   "display_name": "Python 3",
   "language": "python",
   "name": "python3"
  },
  "language_info": {
   "codemirror_mode": {
    "name": "ipython",
    "version": 3
   },
   "file_extension": ".py",
   "mimetype": "text/x-python",
   "name": "python",
   "nbconvert_exporter": "python",
   "pygments_lexer": "ipython3",
   "version": "3.6.4"
  }
 },
 "nbformat": 4,
 "nbformat_minor": 2
}
