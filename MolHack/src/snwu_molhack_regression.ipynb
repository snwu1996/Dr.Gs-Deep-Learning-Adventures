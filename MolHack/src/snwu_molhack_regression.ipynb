{
 "cells": [
  {
   "cell_type": "markdown",
   "metadata": {},
   "source": [
    "#### Import Dependencies"
   ]
  },
  {
   "cell_type": "code",
   "execution_count": null,
   "metadata": {},
   "outputs": [],
   "source": [
    "import tensorflow as tf\n",
    "import numpy as np\n",
    "from datetime import datetime\n",
    "from data_utils import *"
   ]
  },
  {
   "cell_type": "markdown",
   "metadata": {},
   "source": [
    "#### Load Data"
   ]
  },
  {
   "cell_type": "code",
   "execution_count": null,
   "metadata": {},
   "outputs": [],
   "source": [
    "train_valid_ligids  = np.load('../data/PHARM_TRAIN_X.npy')\n",
    "train_valid_smiles = np.load('../data/PHARM_TRAIN_SMILES.npy')\n",
    "train_valid_scores = np.load('../data/Y_train.npy')\n",
    "\n",
    "print('train_valid_ligids shape: {}'.format(train_valid_ligids.shape))\n",
    "print('train_valid_smiles shape: {}'.format(train_valid_smiles.shape))\n",
    "print('train_valid_scores shape: {}'.format(train_valid_scores.shape))"
   ]
  },
  {
   "cell_type": "markdown",
   "metadata": {},
   "source": [
    "#### Train Validation Test Split"
   ]
  },
  {
   "cell_type": "code",
   "execution_count": null,
   "metadata": {},
   "outputs": [],
   "source": [
    "train_data, validation_data = train_validation_split(train_valid_ligids,\n",
    "                                                     train_valid_smiles,\n",
    "                                                     train_valid_scores,\n",
    "                                                     num_val_lig=3046, \n",
    "                                                     num_val_smi=10581)\n",
    "del train_valid_ligids, train_valid_smiles, train_valid_scores"
   ]
  },
  {
   "cell_type": "markdown",
   "metadata": {},
   "source": [
    "#### Define Model"
   ]
  },
  {
   "cell_type": "code",
   "execution_count": 27,
   "metadata": {
    "collapsed": true
   },
   "outputs": [],
   "source": [
    "# Hyper Paramters\n",
    "LEARNING_RATE = .0005\n",
    "LAMBDA = .001\n",
    "DROPOUT = .5\n",
    "\n",
    "# Model\n",
    "L1_UNITS = 10\n",
    "L2_UNITS = 10\n",
    "L3_UNITS = 10\n",
    "NUM_OUTPUTS = 1\n",
    "\n",
    "tf.reset_default_graph()\n",
    "\n",
    "relu = tf.nn.relu\n",
    "elu = tf.nn.elu\n",
    "xavier_init = tf.contrib.layers.xavier_initializer()\n",
    "zero_init = tf.zeros_initializer()\n",
    "l2_reg = tf.contrib.layers.l2_regularizer(scale=LAMBDA)\n",
    "\n",
    "with tf.name_scope('inputs') as scope:\n",
    "    X = tf.placeholder(shape=(None, 176), dtype=tf.float32, name='ligids_smiles')\n",
    "    Y = tf.placeholder(shape=(None), dtype=tf.float32, name='score')\n",
    "    training = tf.placeholder_with_default(input=False, shape=(), name='training')\n",
    "    \n",
    "with tf.name_scope('hidden_layers') as scope:\n",
    "    layer1 = tf.layers.dense(inputs=X,\n",
    "                             units=L1_UNITS, \n",
    "                             activation=relu,\n",
    "                             kernel_initializer=xavier_init,\n",
    "                             bias_initializer=zero_init,\n",
    "                             kernel_regularizer=l2_reg,\n",
    "                             bias_regularizer=l2_reg,\n",
    "                             name='layer1')\n",
    "    layer2 = tf.layers.dense(inputs=layer1, \n",
    "                             units=L2_UNITS, \n",
    "                             activation=relu,\n",
    "                             kernel_initializer=xavier_init,\n",
    "                             bias_initializer=zero_init,\n",
    "                             kernel_regularizer=l2_reg,\n",
    "                             bias_regularizer=l2_reg,\n",
    "                             name='layer2')\n",
    "#     layer3 = tf.layers.dense(inputs=layer2, \n",
    "#                              units=L3_UNITS, \n",
    "#                              activation=relu,\n",
    "#                              kernel_initializer=xavier_init,\n",
    "#                              bias_initializer=zero_init,\n",
    "#                              kernel_regularizer=l2_reg,\n",
    "#                              bias_regularizer=l2_reg,\n",
    "#                              name='layer3')\n",
    "    \n",
    "with tf.name_scope('predicted_score') as scope:\n",
    "    pred_score = tf.layers.dense(inputs=layer2,\n",
    "                                 units=NUM_OUTPUTS)\n",
    "    with tf.get_default_graph().gradient_override_map({\"Floor\": \"Identity\"}):\n",
    "        pred_score = tf.floor(pred_score, name='pred_score')\n",
    "        \n",
    "with tf.name_scope('train') as scope:\n",
    "    mae = tf.losses.absolute_difference(Y,pred_score)\n",
    "    reg_loss = tf.get_collection(tf.GraphKeys.REGULARIZATION_LOSSES)\n",
    "    reg_loss = tf.reduce_sum(reg_loss)\n",
    "    mse_loss = tf.losses.mean_squared_error(labels=Y,predictions=pred_score)\n",
    "    loss = mse_loss+reg_loss\n",
    "    optimizer = tf.train.AdamOptimizer(LEARNING_RATE)\n",
    "    train_op = optimizer.minimize(loss)"
   ]
  },
  {
   "cell_type": "markdown",
   "metadata": {},
   "source": [
    "#### Run Model"
   ]
  },
  {
   "cell_type": "code",
   "execution_count": 26,
   "metadata": {},
   "outputs": [
    {
     "name": "stdout",
     "output_type": "stream",
     "text": [
      "tensorboard log_dir: ../tf_log/run-20180520210926\n",
      "48/3222 validation_loss_batch: 2.8599927425384524\r"
     ]
    },
    {
     "ename": "KeyboardInterrupt",
     "evalue": "",
     "output_type": "error",
     "traceback": [
      "\u001b[1;31m---------------------------------------------------------------------------\u001b[0m",
      "\u001b[1;31mKeyboardInterrupt\u001b[0m                         Traceback (most recent call last)",
      "\u001b[1;32m<ipython-input-26-3b142c195bb5>\u001b[0m in \u001b[0;36m<module>\u001b[1;34m()\u001b[0m\n\u001b[0;32m     68\u001b[0m             \u001b[0mlig_smi_batch\u001b[0m \u001b[1;33m=\u001b[0m \u001b[0mnp\u001b[0m\u001b[1;33m.\u001b[0m\u001b[0mconcatenate\u001b[0m\u001b[1;33m(\u001b[0m\u001b[1;33m(\u001b[0m\u001b[0mligids_batch\u001b[0m\u001b[1;33m,\u001b[0m \u001b[0msmiles_batch\u001b[0m\u001b[1;33m)\u001b[0m\u001b[1;33m,\u001b[0m \u001b[0maxis\u001b[0m\u001b[1;33m=\u001b[0m\u001b[1;36m1\u001b[0m\u001b[1;33m)\u001b[0m\u001b[1;33m\u001b[0m\u001b[0m\n\u001b[0;32m     69\u001b[0m             validation_loss_batch, mae_batch = sess.run([loss, mae], \n\u001b[1;32m---> 70\u001b[1;33m                                                         feed_dict={X:lig_smi_batch, Y:scores_batch})\n\u001b[0m\u001b[0;32m     71\u001b[0m             \u001b[0mvalidation_loss\u001b[0m\u001b[1;33m.\u001b[0m\u001b[0mappend\u001b[0m\u001b[1;33m(\u001b[0m\u001b[0mvalidation_loss_batch\u001b[0m\u001b[1;33m)\u001b[0m\u001b[1;33m\u001b[0m\u001b[0m\n\u001b[0;32m     72\u001b[0m             \u001b[0mmae_value\u001b[0m\u001b[1;33m.\u001b[0m\u001b[0mappend\u001b[0m\u001b[1;33m(\u001b[0m\u001b[0mmae_batch\u001b[0m\u001b[1;33m)\u001b[0m\u001b[1;33m\u001b[0m\u001b[0m\n",
      "\u001b[1;32mC:\\Users\\wus7\\Anaconda3\\lib\\site-packages\\tensorflow\\python\\client\\session.py\u001b[0m in \u001b[0;36mrun\u001b[1;34m(self, fetches, feed_dict, options, run_metadata)\u001b[0m\n\u001b[0;32m    903\u001b[0m     \u001b[1;32mtry\u001b[0m\u001b[1;33m:\u001b[0m\u001b[1;33m\u001b[0m\u001b[0m\n\u001b[0;32m    904\u001b[0m       result = self._run(None, fetches, feed_dict, options_ptr,\n\u001b[1;32m--> 905\u001b[1;33m                          run_metadata_ptr)\n\u001b[0m\u001b[0;32m    906\u001b[0m       \u001b[1;32mif\u001b[0m \u001b[0mrun_metadata\u001b[0m\u001b[1;33m:\u001b[0m\u001b[1;33m\u001b[0m\u001b[0m\n\u001b[0;32m    907\u001b[0m         \u001b[0mproto_data\u001b[0m \u001b[1;33m=\u001b[0m \u001b[0mtf_session\u001b[0m\u001b[1;33m.\u001b[0m\u001b[0mTF_GetBuffer\u001b[0m\u001b[1;33m(\u001b[0m\u001b[0mrun_metadata_ptr\u001b[0m\u001b[1;33m)\u001b[0m\u001b[1;33m\u001b[0m\u001b[0m\n",
      "\u001b[1;32mC:\\Users\\wus7\\Anaconda3\\lib\\site-packages\\tensorflow\\python\\client\\session.py\u001b[0m in \u001b[0;36m_run\u001b[1;34m(self, handle, fetches, feed_dict, options, run_metadata)\u001b[0m\n\u001b[0;32m   1135\u001b[0m     \u001b[1;32mif\u001b[0m \u001b[0mfinal_fetches\u001b[0m \u001b[1;32mor\u001b[0m \u001b[0mfinal_targets\u001b[0m \u001b[1;32mor\u001b[0m \u001b[1;33m(\u001b[0m\u001b[0mhandle\u001b[0m \u001b[1;32mand\u001b[0m \u001b[0mfeed_dict_tensor\u001b[0m\u001b[1;33m)\u001b[0m\u001b[1;33m:\u001b[0m\u001b[1;33m\u001b[0m\u001b[0m\n\u001b[0;32m   1136\u001b[0m       results = self._do_run(handle, final_targets, final_fetches,\n\u001b[1;32m-> 1137\u001b[1;33m                              feed_dict_tensor, options, run_metadata)\n\u001b[0m\u001b[0;32m   1138\u001b[0m     \u001b[1;32melse\u001b[0m\u001b[1;33m:\u001b[0m\u001b[1;33m\u001b[0m\u001b[0m\n\u001b[0;32m   1139\u001b[0m       \u001b[0mresults\u001b[0m \u001b[1;33m=\u001b[0m \u001b[1;33m[\u001b[0m\u001b[1;33m]\u001b[0m\u001b[1;33m\u001b[0m\u001b[0m\n",
      "\u001b[1;32mC:\\Users\\wus7\\Anaconda3\\lib\\site-packages\\tensorflow\\python\\client\\session.py\u001b[0m in \u001b[0;36m_do_run\u001b[1;34m(self, handle, target_list, fetch_list, feed_dict, options, run_metadata)\u001b[0m\n\u001b[0;32m   1353\u001b[0m     \u001b[1;32mif\u001b[0m \u001b[0mhandle\u001b[0m \u001b[1;32mis\u001b[0m \u001b[1;32mNone\u001b[0m\u001b[1;33m:\u001b[0m\u001b[1;33m\u001b[0m\u001b[0m\n\u001b[0;32m   1354\u001b[0m       return self._do_call(_run_fn, self._session, feeds, fetches, targets,\n\u001b[1;32m-> 1355\u001b[1;33m                            options, run_metadata)\n\u001b[0m\u001b[0;32m   1356\u001b[0m     \u001b[1;32melse\u001b[0m\u001b[1;33m:\u001b[0m\u001b[1;33m\u001b[0m\u001b[0m\n\u001b[0;32m   1357\u001b[0m       \u001b[1;32mreturn\u001b[0m \u001b[0mself\u001b[0m\u001b[1;33m.\u001b[0m\u001b[0m_do_call\u001b[0m\u001b[1;33m(\u001b[0m\u001b[0m_prun_fn\u001b[0m\u001b[1;33m,\u001b[0m \u001b[0mself\u001b[0m\u001b[1;33m.\u001b[0m\u001b[0m_session\u001b[0m\u001b[1;33m,\u001b[0m \u001b[0mhandle\u001b[0m\u001b[1;33m,\u001b[0m \u001b[0mfeeds\u001b[0m\u001b[1;33m,\u001b[0m \u001b[0mfetches\u001b[0m\u001b[1;33m)\u001b[0m\u001b[1;33m\u001b[0m\u001b[0m\n",
      "\u001b[1;32mC:\\Users\\wus7\\Anaconda3\\lib\\site-packages\\tensorflow\\python\\client\\session.py\u001b[0m in \u001b[0;36m_do_call\u001b[1;34m(self, fn, *args)\u001b[0m\n\u001b[0;32m   1359\u001b[0m   \u001b[1;32mdef\u001b[0m \u001b[0m_do_call\u001b[0m\u001b[1;33m(\u001b[0m\u001b[0mself\u001b[0m\u001b[1;33m,\u001b[0m \u001b[0mfn\u001b[0m\u001b[1;33m,\u001b[0m \u001b[1;33m*\u001b[0m\u001b[0margs\u001b[0m\u001b[1;33m)\u001b[0m\u001b[1;33m:\u001b[0m\u001b[1;33m\u001b[0m\u001b[0m\n\u001b[0;32m   1360\u001b[0m     \u001b[1;32mtry\u001b[0m\u001b[1;33m:\u001b[0m\u001b[1;33m\u001b[0m\u001b[0m\n\u001b[1;32m-> 1361\u001b[1;33m       \u001b[1;32mreturn\u001b[0m \u001b[0mfn\u001b[0m\u001b[1;33m(\u001b[0m\u001b[1;33m*\u001b[0m\u001b[0margs\u001b[0m\u001b[1;33m)\u001b[0m\u001b[1;33m\u001b[0m\u001b[0m\n\u001b[0m\u001b[0;32m   1362\u001b[0m     \u001b[1;32mexcept\u001b[0m \u001b[0merrors\u001b[0m\u001b[1;33m.\u001b[0m\u001b[0mOpError\u001b[0m \u001b[1;32mas\u001b[0m \u001b[0me\u001b[0m\u001b[1;33m:\u001b[0m\u001b[1;33m\u001b[0m\u001b[0m\n\u001b[0;32m   1363\u001b[0m       \u001b[0mmessage\u001b[0m \u001b[1;33m=\u001b[0m \u001b[0mcompat\u001b[0m\u001b[1;33m.\u001b[0m\u001b[0mas_text\u001b[0m\u001b[1;33m(\u001b[0m\u001b[0me\u001b[0m\u001b[1;33m.\u001b[0m\u001b[0mmessage\u001b[0m\u001b[1;33m)\u001b[0m\u001b[1;33m\u001b[0m\u001b[0m\n",
      "\u001b[1;32mC:\\Users\\wus7\\Anaconda3\\lib\\site-packages\\tensorflow\\python\\client\\session.py\u001b[0m in \u001b[0;36m_run_fn\u001b[1;34m(session, feed_dict, fetch_list, target_list, options, run_metadata)\u001b[0m\n\u001b[0;32m   1338\u001b[0m         \u001b[1;32melse\u001b[0m\u001b[1;33m:\u001b[0m\u001b[1;33m\u001b[0m\u001b[0m\n\u001b[0;32m   1339\u001b[0m           return tf_session.TF_Run(session, options, feed_dict, fetch_list,\n\u001b[1;32m-> 1340\u001b[1;33m                                    target_list, status, run_metadata)\n\u001b[0m\u001b[0;32m   1341\u001b[0m \u001b[1;33m\u001b[0m\u001b[0m\n\u001b[0;32m   1342\u001b[0m     \u001b[1;32mdef\u001b[0m \u001b[0m_prun_fn\u001b[0m\u001b[1;33m(\u001b[0m\u001b[0msession\u001b[0m\u001b[1;33m,\u001b[0m \u001b[0mhandle\u001b[0m\u001b[1;33m,\u001b[0m \u001b[0mfeed_dict\u001b[0m\u001b[1;33m,\u001b[0m \u001b[0mfetch_list\u001b[0m\u001b[1;33m)\u001b[0m\u001b[1;33m:\u001b[0m\u001b[1;33m\u001b[0m\u001b[0m\n",
      "\u001b[1;31mKeyboardInterrupt\u001b[0m: "
     ]
    }
   ],
   "source": [
    "# Misc. constants\n",
    "NUM_EPOCHS = 5\n",
    "VALIDATIONS_PER_EPOCH = 5\n",
    "TRAINING_BATCH_SIZE = 1000\n",
    "USE_PERCENT_DATA = .01\n",
    "num_training_batches = int(train_data.num_scores/TRAINING_BATCH_SIZE*USE_PERCENT_DATA)\n",
    "VALIDATION_BATCH_SIZE = 10000\n",
    "num_validation_batches = int(validation_data.num_scores/VALIDATION_BATCH_SIZE)\n",
    "TB_PERIOD = 100\n",
    "\n",
    "# Saver - Prediction Tensors\n",
    "tf.get_collection_ref('pred_ops').clear()\n",
    "tf.get_collection('pred_ops')\n",
    "tf.add_to_collection('pred_ops', X)\n",
    "tf.add_to_collection('pred_ops', Y)\n",
    "tf.add_to_collection('pred_ops', pred_score)\n",
    "# Saver - Training Tensors\n",
    "tf.get_collection_ref('train_ops').clear()\n",
    "tf.get_collection('train_ops')\n",
    "tf.add_to_collection('train_ops', X)\n",
    "tf.add_to_collection('train_ops', Y)\n",
    "tf.add_to_collection('train_ops', loss)\n",
    "tf.add_to_collection('train_ops', train_op)\n",
    "saver = tf.train.Saver(max_to_keep=1000)\n",
    "\n",
    "# Tensorboard - Graph\n",
    "time_now = datetime.utcnow().strftime('%Y%m%d%H%M%S')\n",
    "tensorboard_logdir = '../tf_log/run-{}'.format(time_now)\n",
    "print('tensorboard log_dir: {}'.format(tensorboard_logdir))\n",
    "writer = tf.summary.FileWriter(tensorboard_logdir)\n",
    "writer.add_graph(tf.get_default_graph())\n",
    "# Tensorboard - Summaries\n",
    "summaries = [tf.summary.scalar('mean_abs_error', mae), \n",
    "             tf.summary.scalar('mean_square_error', mse_loss), \n",
    "             tf.summary.scalar('regularization', reg_loss), \n",
    "             tf.summary.scalar('total_loss', loss),\n",
    "             tf.summary.histogram('input',X),\n",
    "             tf.summary.histogram('layer1',layer1),\n",
    "             tf.summary.histogram('layer2',layer2),\n",
    "             tf.summary.histogram('layer3',layer3),\n",
    "             tf.summary.histogram('predictions',pred_score),\n",
    "             tf.summary.histogram('ground_truth',Y)]\n",
    "\n",
    "# Start Session\n",
    "with tf.Session() as sess:\n",
    "    sess.run(tf.global_variables_initializer())\n",
    "    for epoch in range(NUM_EPOCHS):       \n",
    "        # Train Model\n",
    "        train_data.reset()\n",
    "        for step in range(num_training_batches):\n",
    "            ligids_batch, smiles_batch, scores_batch = train_data.next_batch(TRAINING_BATCH_SIZE)\n",
    "            lig_smi_batch = np.concatenate((ligids_batch,smiles_batch), axis=1)\n",
    "            _, train_loss = sess.run([train_op, loss], feed_dict={X:lig_smi_batch, Y:scores_batch})\n",
    "            print('{}/{} train_loss: {}'.format(step+1, \n",
    "                                                num_training_batches, \n",
    "                                                train_loss), end='\\r')\n",
    "            # Tensorboard\n",
    "            if step%TB_PERIOD == 0:\n",
    "                s = [sess.run(summary, feed_dict={X:lig_smi_batch, Y:scores_batch}) for summary in summaries]\n",
    "                [writer.add_summary(summary, step) for summary in s]\n",
    "                \n",
    "        # Validation\n",
    "        validation_loss = []\n",
    "        mae_value = []\n",
    "        validation_data.reset()\n",
    "        for step in range(num_validation_batches): \n",
    "            ligids_batch, smiles_batch, scores_batch = validation_data.next_batch(VALIDATION_BATCH_SIZE)\n",
    "            lig_smi_batch = np.concatenate((ligids_batch, smiles_batch), axis=1)\n",
    "            validation_loss_batch, mae_batch = sess.run([loss, mae], \n",
    "                                                        feed_dict={X:lig_smi_batch, Y:scores_batch})\n",
    "            validation_loss.append(validation_loss_batch)\n",
    "            mae_value.append(mae_batch)\n",
    "            print('{}/{} validation_loss_batch: {}'.format(step+1, \n",
    "                                                           num_validation_batches, \n",
    "                                                           validation_loss_batch), end='\\r')\n",
    "        validation_loss = sum(validation_loss)/len(validation_loss)\n",
    "        mae_value = sum(mae_value)/len(mae_value)\n",
    "        print('EPOCH: {:<10} | loss: {:<25} | mae: {:<20}'.format(epoch+1, \n",
    "                                                                  validation_loss, \n",
    "                                                                  mae_value))\n",
    "        # Save Model w/ name: e{epoch number}_l{loss}\n",
    "        saver_filename = 'l{}_e{}'.format(validation_loss, epoch)        \n",
    "        saver.save(sess, '../models/{}/{}'.format(time_now, saver_filename))"
   ]
  }
 ],
 "metadata": {
  "kernelspec": {
   "display_name": "Python 3",
   "language": "python",
   "name": "python3"
  },
  "language_info": {
   "codemirror_mode": {
    "name": "ipython",
    "version": 3
   },
   "file_extension": ".py",
   "mimetype": "text/x-python",
   "name": "python",
   "nbconvert_exporter": "python",
   "pygments_lexer": "ipython3",
   "version": "3.6.2"
  }
 },
 "nbformat": 4,
 "nbformat_minor": 2
}
