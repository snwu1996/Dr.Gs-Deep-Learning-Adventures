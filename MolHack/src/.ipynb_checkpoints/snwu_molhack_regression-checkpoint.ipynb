{
 "cells": [
  {
   "cell_type": "markdown",
   "metadata": {},
   "source": [
    "#### Import Dependencies"
   ]
  },
  {
   "cell_type": "code",
   "execution_count": 1,
   "metadata": {},
   "outputs": [
    {
     "name": "stderr",
     "output_type": "stream",
     "text": [
      "C:\\Users\\Newman\\Anaconda3\\envs\\snwu_env\\lib\\site-packages\\h5py\\__init__.py:34: FutureWarning: Conversion of the second argument of issubdtype from `float` to `np.floating` is deprecated. In future, it will be treated as `np.float64 == np.dtype(float).type`.\n",
      "  from ._conv import register_converters as _register_converters\n"
     ]
    }
   ],
   "source": [
    "import tensorflow as tf\n",
    "import numpy as np\n",
    "from datetime import datetime\n",
    "from data_utils import *"
   ]
  },
  {
   "cell_type": "markdown",
   "metadata": {},
   "source": [
    "#### Load Data"
   ]
  },
  {
   "cell_type": "code",
   "execution_count": 2,
   "metadata": {},
   "outputs": [
    {
     "name": "stdout",
     "output_type": "stream",
     "text": [
      "train_valid_ligids shape: (13246, 9)\n",
      "train_valid_smiles shape: (46005, 167)\n",
      "train_valid_scores shape: (609382230,)\n"
     ]
    }
   ],
   "source": [
    "train_valid_ligids  = np.load('../data/PHARM_TRAIN_X.npy')\n",
    "train_valid_smiles = np.load('../data/PHARM_TRAIN_SMILES.npy')\n",
    "train_valid_scores = np.load('../data/Y_train.npy')\n",
    "\n",
    "print('train_valid_ligids shape: {}'.format(train_valid_ligids.shape))\n",
    "print('train_valid_smiles shape: {}'.format(train_valid_smiles.shape))\n",
    "print('train_valid_scores shape: {}'.format(train_valid_scores.shape))"
   ]
  },
  {
   "cell_type": "code",
   "execution_count": 27,
   "metadata": {},
   "outputs": [
    {
     "name": "stdout",
     "output_type": "stream",
     "text": [
      "[False  True  True False False False  True  True False]\n",
      "[10463 20780 12156 19674]\n",
      "[ 1677  2715  2003  3184  3425  6630  4831 10623  2098  7199  4300  1538\n",
      "  5228 18664  3747  9782  6815  8306  3856 12138  3859  4785  3935  4013\n",
      " 14435  4937 26484  4925  4184  4808  1319  2348  7465  3974  8041 24657\n",
      " 18848 24703 23932 10672 21497 26935  9191 25842 21037 11452 11655  6227\n",
      " 20427 23029 27226 16426 14635 23262 27921 21562 25521  1818 32340 15434\n",
      "  6898  4958 23509 16294 14395 12837 15108 13597 30553 33591 10571 15434\n",
      "  8484 12535 13601 32509 27795 31070 36723 30346  8939 15888 28080 14942\n",
      " 18711 23632 25118  6834 20427 22252 21012 12857 17831 15115 39680 25328\n",
      "  8422  7284 11334 38983 18711 26128 25611 17372 28807 32310 22599 27398\n",
      " 36847 21646 37288 33464 34426 43503 26812 43446 31983 35565 44886 43395\n",
      " 43068 42741 45587]\n"
     ]
    }
   ],
   "source": [
    "print(np.sum(train_valid_ligids, 0)>10000)\n",
    "print(np.sum(train_valid_ligids[:,np.sum(train_valid_ligids, 0)>10000], axis=0))\n",
    "print(np.sum(train_valid_smiles[:,np.sum(train_valid_smiles, 0)>1000], axis=0))"
   ]
  },
  {
   "cell_type": "markdown",
   "metadata": {},
   "source": [
    "#### Train Validation Test Split"
   ]
  },
  {
   "cell_type": "code",
   "execution_count": 3,
   "metadata": {},
   "outputs": [
    {
     "name": "stdout",
     "output_type": "stream",
     "text": [
      "num validation ligids: 3046\n",
      "num train ligids: 10200\n",
      "num validation smiles: 10581\n",
      "num train smiles: 35424\n",
      "num validation labels: 32229726\n",
      "num train labels: 361324800\n"
     ]
    }
   ],
   "source": [
    "train_data, validation_data = train_validation_split(train_valid_ligids,\n",
    "                                                     train_valid_smiles,\n",
    "                                                     train_valid_scores,\n",
    "                                                     num_val_lig=3046, \n",
    "                                                     num_val_smi=10581,\n",
    "                                                     shuffle=False)\n",
    "del train_valid_ligids, train_valid_smiles, train_valid_scores\n",
    "\n",
    "# Balance Dataset\n",
    "map_from = [0,1,2,3,4,5,6,7,8,9]\n",
    "map_to =   [0,0,0,0,1,2,3,4,4,4]\n",
    "\n",
    "for _from, _to in zip(map_from, map_to):\n",
    "    train_data.scores[train_data.scores==_from] = _to\n",
    "    validation_data.scores[validation_data.scores==_from] = _to   "
   ]
  },
  {
   "cell_type": "markdown",
   "metadata": {},
   "source": [
    "#### Define Model"
   ]
  },
  {
   "cell_type": "code",
   "execution_count": 22,
   "metadata": {},
   "outputs": [
    {
     "name": "stdout",
     "output_type": "stream",
     "text": [
      "INFO:tensorflow:Scale of 0 disables regularizer.\n"
     ]
    }
   ],
   "source": [
    "# Hyper Paramters\n",
    "LEARNING_RATE = .0005\n",
    "LAMBDA = .000\n",
    "DROPOUT = .5\n",
    "NUM_EPOCHS = 10\n",
    "VALIDATIONS_PER_EPOCH = 5\n",
    "TRAINING_BATCH_SIZE = 1\n",
    "USE_PERCENT_DATA = .05\n",
    "VALIDATION_BATCH_SIZE = 10000\n",
    "\n",
    "# Model\n",
    "L1_UNITS = 15\n",
    "L2_UNITS = 15\n",
    "NUM_OUTPUTS = 1\n",
    "\n",
    "tf.reset_default_graph()\n",
    "\n",
    "relu = tf.nn.relu\n",
    "elu = tf.nn.elu\n",
    "xavier_init = tf.contrib.layers.xavier_initializer()\n",
    "zero_init = tf.zeros_initializer()\n",
    "l2_reg = tf.contrib.layers.l2_regularizer(scale=LAMBDA)\n",
    "\n",
    "with tf.name_scope('inputs') as scope:\n",
    "    smiles = tf.placeholder(shape=(None, 167), dtype=tf.float32, name='smiles')\n",
    "    ligids = tf.placeholder(shape=(None, 9), dtype=tf.float32, name='ligids')\n",
    "    Y = tf.placeholder(shape=(None), dtype=tf.float32, name='score')\n",
    "    training = tf.placeholder_with_default(input=False, shape=(), name='training')\n",
    "    \n",
    "with tf.name_scope('hidden_layers') as scope:\n",
    "    smiles_layer1 = tf.layers.dense(inputs=ligids,\n",
    "                                    units=L1_UNITS, \n",
    "                                    activation=relu,\n",
    "                                    kernel_initializer=xavier_init,\n",
    "                                    bias_initializer=zero_init,\n",
    "                                    kernel_regularizer=l2_reg,\n",
    "                                    bias_regularizer=l2_reg,\n",
    "                                    name='smiles_layer1')\n",
    "    ligid_layer1 = tf.layers.dense(inputs=smiles,\n",
    "                                   units=L1_UNITS, \n",
    "                                   activation=relu,\n",
    "                                   kernel_initializer=xavier_init,\n",
    "                                   bias_initializer=zero_init,\n",
    "                                   kernel_regularizer=l2_reg,\n",
    "                                   bias_regularizer=l2_reg,\n",
    "                                   name='ligid_layer1')\n",
    "    layer1 = tf.add(ligid_layer1, smiles_layer1, name='layer1')\n",
    "    layer2 = tf.layers.dense(inputs=layer1, \n",
    "                             units=L2_UNITS, \n",
    "                             activation=relu,\n",
    "                             kernel_initializer=xavier_init,\n",
    "                             bias_initializer=zero_init,\n",
    "                             kernel_regularizer=l2_reg,\n",
    "                             bias_regularizer=l2_reg,\n",
    "                             name='layer2')\n",
    "    \n",
    "with tf.name_scope('predicted_score') as scope:\n",
    "    pred_score = tf.layers.dense(inputs=layer2,\n",
    "                                 units=NUM_OUTPUTS)\n",
    "    with tf.get_default_graph().gradient_override_map({\"Floor\": \"Identity\"}):\n",
    "        pred_score = tf.floor(pred_score, name='pred_score')\n",
    "        \n",
    "with tf.name_scope('train') as scope:\n",
    "    mae = tf.losses.absolute_difference(Y,pred_score)\n",
    "    reg_loss = tf.get_collection(tf.GraphKeys.REGULARIZATION_LOSSES)\n",
    "    reg_loss = tf.reduce_sum(reg_loss)\n",
    "    mse_loss = tf.losses.mean_squared_error(labels=Y,predictions=pred_score)\n",
    "    loss = mae+reg_loss\n",
    "    optimizer = tf.train.AdamOptimizer(LEARNING_RATE)\n",
    "    train_op = optimizer.minimize(loss)"
   ]
  },
  {
   "cell_type": "markdown",
   "metadata": {},
   "source": [
    "#### Run Model"
   ]
  },
  {
   "cell_type": "code",
   "execution_count": 39,
   "metadata": {},
   "outputs": [
    {
     "name": "stdout",
     "output_type": "stream",
     "text": [
      "tensorboard log_dir: ../tf_log/run-20180523224526\n",
      "ligids_batch: [[0 0 4 0 0 0 0 1 0]\n",
      " [0 0 4 0 0 0 0 1 0]\n",
      " [0 0 4 0 0 0 0 1 0]]\n",
      "smiles_batch: [[0 0 0 0 0 0 0 0 0 0 0 0 0 0 0 0 0 0 0 0 0 0 0 0 0 1 0 0 0 0 0 0 0 0 0 0\n",
      "  0 0 1 0 0 0 0 1 0 0 0 0 0 0 0 0 0 1 0 0 0 0 0 0 0 0 0 0 0 1 0 0 0 0 0 0\n",
      "  0 0 0 0 0 1 1 1 1 0 1 0 1 0 0 0 0 0 1 0 1 0 0 1 0 1 1 0 1 1 0 0 0 1 1 0\n",
      "  0 1 1 1 0 1 0 0 0 1 0 1 1 1 0 0 0 0 0 1 0 0 0 1 0 1 0 1 0 1 1 1 0 0 1 1\n",
      "  1 1 0 0 0 0 0 1 0 1 1 1 1 1 1 1 0 1 1 1 1 1 0]\n",
      " [0 0 0 0 0 0 0 0 0 0 0 0 0 0 0 0 0 0 0 0 0 0 0 0 0 0 0 0 0 0 0 0 0 0 0 0\n",
      "  0 0 1 0 0 0 0 0 0 0 1 0 0 1 0 0 0 0 0 0 0 0 0 0 0 0 0 0 0 1 0 0 0 0 0 0\n",
      "  0 0 0 0 0 1 0 0 0 0 1 0 0 0 0 1 0 0 0 0 0 0 0 0 0 1 1 0 1 1 0 0 1 1 0 1\n",
      "  0 0 0 1 0 0 0 0 0 0 1 0 0 1 0 1 0 1 0 0 0 0 0 0 1 1 1 1 0 1 0 0 0 0 1 0\n",
      "  0 1 0 1 0 0 0 1 0 1 1 1 1 1 1 1 1 1 1 1 1 1 0]\n",
      " [0 0 0 0 0 0 0 0 0 0 0 0 0 0 0 0 0 0 0 0 0 0 0 0 0 0 0 0 0 0 0 0 0 0 0 0\n",
      "  1 0 0 0 0 0 0 0 0 0 0 0 0 0 0 0 1 0 0 0 0 1 0 0 0 0 1 0 0 1 0 0 0 0 0 0\n",
      "  0 0 0 0 0 0 0 0 1 1 1 1 0 0 0 0 1 0 0 0 1 0 1 1 1 0 0 0 1 0 0 0 0 0 0 0\n",
      "  0 0 1 0 0 0 0 1 0 1 0 0 1 1 0 0 1 1 0 0 0 0 0 0 0 0 0 0 0 1 0 0 0 0 1 0\n",
      "  0 0 0 0 0 1 0 1 0 1 1 1 1 0 1 1 1 1 1 1 1 1 0]]\n",
      "scores_batch: [3 2 0]\n",
      "EPOCH: 1          | mae: 1.2486275492211738  \n",
      "ligids_batch: [[0 0 4 0 0 0 0 1 0]\n",
      " [0 0 4 0 0 0 0 1 0]\n",
      " [0 0 4 0 0 0 0 1 0]]\n",
      "smiles_batch: [[0 0 0 0 0 0 0 0 0 0 0 0 0 0 0 0 0 0 0 0 0 0 0 0 0 1 0 0 0 0 0 0 0 0 0 0\n",
      "  0 0 1 0 0 0 0 1 0 0 0 0 0 0 0 0 0 1 0 0 0 0 0 0 0 0 0 0 0 1 0 0 0 0 0 0\n",
      "  0 0 0 0 0 1 1 1 1 0 1 0 1 0 0 0 0 0 1 0 1 0 0 1 0 1 1 0 1 1 0 0 0 1 1 0\n",
      "  0 1 1 1 0 1 0 0 0 1 0 1 1 1 0 0 0 0 0 1 0 0 0 1 0 1 0 1 0 1 1 1 0 0 1 1\n",
      "  1 1 0 0 0 0 0 1 0 1 1 1 1 1 1 1 0 1 1 1 1 1 0]\n",
      " [0 0 0 0 0 0 0 0 0 0 0 0 0 0 0 0 0 0 0 0 0 0 0 0 0 0 0 0 0 0 0 0 0 0 0 0\n",
      "  0 0 1 0 0 0 0 0 0 0 1 0 0 1 0 0 0 0 0 0 0 0 0 0 0 0 0 0 0 1 0 0 0 0 0 0\n",
      "  0 0 0 0 0 1 0 0 0 0 1 0 0 0 0 1 0 0 0 0 0 0 0 0 0 1 1 0 1 1 0 0 1 1 0 1\n",
      "  0 0 0 1 0 0 0 0 0 0 1 0 0 1 0 1 0 1 0 0 0 0 0 0 1 1 1 1 0 1 0 0 0 0 1 0\n",
      "  0 1 0 1 0 0 0 1 0 1 1 1 1 1 1 1 1 1 1 1 1 1 0]\n",
      " [0 0 0 0 0 0 0 0 0 0 0 0 0 0 0 0 0 0 0 0 0 0 0 0 0 0 0 0 0 0 0 0 0 0 0 0\n",
      "  1 0 0 0 0 0 0 0 0 0 0 0 0 0 0 0 1 0 0 0 0 1 0 0 0 0 1 0 0 1 0 0 0 0 0 0\n",
      "  0 0 0 0 0 0 0 0 1 1 1 1 0 0 0 0 1 0 0 0 1 0 1 1 1 0 0 0 1 0 0 0 0 0 0 0\n",
      "  0 0 1 0 0 0 0 1 0 1 0 0 1 1 0 0 1 1 0 0 0 0 0 0 0 0 0 0 0 1 0 0 0 0 1 0\n",
      "  0 0 0 0 0 1 0 1 0 1 1 1 1 0 1 1 1 1 1 1 1 1 0]]\n",
      "scores_batch: [3 2 0]\n",
      "10500/1 train_loss_batch: 1.000\r"
     ]
    },
    {
     "ename": "KeyboardInterrupt",
     "evalue": "",
     "output_type": "error",
     "traceback": [
      "\u001b[1;31m---------------------------------------------------------------------------\u001b[0m",
      "\u001b[1;31mKeyboardInterrupt\u001b[0m                         Traceback (most recent call last)",
      "\u001b[1;32m<ipython-input-39-1ab109e67ae6>\u001b[0m in \u001b[0;36m<module>\u001b[1;34m()\u001b[0m\n\u001b[0;32m     62\u001b[0m             _, train_loss = sess.run([train_op, loss], feed_dict={ligids:ligids_batch, \n\u001b[0;32m     63\u001b[0m                                                                   \u001b[0msmiles\u001b[0m\u001b[1;33m:\u001b[0m\u001b[0msmiles_batch\u001b[0m\u001b[1;33m,\u001b[0m\u001b[1;33m\u001b[0m\u001b[0m\n\u001b[1;32m---> 64\u001b[1;33m                                                                   Y:scores_batch})\n\u001b[0m\u001b[0;32m     65\u001b[0m             \u001b[1;32mif\u001b[0m \u001b[0mstep\u001b[0m\u001b[1;33m%\u001b[0m\u001b[0mTRAIN_PERIOD\u001b[0m \u001b[1;33m==\u001b[0m \u001b[1;36m0\u001b[0m\u001b[1;33m:\u001b[0m\u001b[1;33m\u001b[0m\u001b[0m\n\u001b[0;32m     66\u001b[0m                 print('{}/{} train_loss_batch: {:.3f}'.format(step, \n",
      "\u001b[1;32m~\\Anaconda3\\envs\\snwu_env\\lib\\site-packages\\tensorflow\\python\\client\\session.py\u001b[0m in \u001b[0;36mrun\u001b[1;34m(self, fetches, feed_dict, options, run_metadata)\u001b[0m\n\u001b[0;32m    903\u001b[0m     \u001b[1;32mtry\u001b[0m\u001b[1;33m:\u001b[0m\u001b[1;33m\u001b[0m\u001b[0m\n\u001b[0;32m    904\u001b[0m       result = self._run(None, fetches, feed_dict, options_ptr,\n\u001b[1;32m--> 905\u001b[1;33m                          run_metadata_ptr)\n\u001b[0m\u001b[0;32m    906\u001b[0m       \u001b[1;32mif\u001b[0m \u001b[0mrun_metadata\u001b[0m\u001b[1;33m:\u001b[0m\u001b[1;33m\u001b[0m\u001b[0m\n\u001b[0;32m    907\u001b[0m         \u001b[0mproto_data\u001b[0m \u001b[1;33m=\u001b[0m \u001b[0mtf_session\u001b[0m\u001b[1;33m.\u001b[0m\u001b[0mTF_GetBuffer\u001b[0m\u001b[1;33m(\u001b[0m\u001b[0mrun_metadata_ptr\u001b[0m\u001b[1;33m)\u001b[0m\u001b[1;33m\u001b[0m\u001b[0m\n",
      "\u001b[1;32m~\\Anaconda3\\envs\\snwu_env\\lib\\site-packages\\tensorflow\\python\\client\\session.py\u001b[0m in \u001b[0;36m_run\u001b[1;34m(self, handle, fetches, feed_dict, options, run_metadata)\u001b[0m\n\u001b[0;32m   1135\u001b[0m     \u001b[1;32mif\u001b[0m \u001b[0mfinal_fetches\u001b[0m \u001b[1;32mor\u001b[0m \u001b[0mfinal_targets\u001b[0m \u001b[1;32mor\u001b[0m \u001b[1;33m(\u001b[0m\u001b[0mhandle\u001b[0m \u001b[1;32mand\u001b[0m \u001b[0mfeed_dict_tensor\u001b[0m\u001b[1;33m)\u001b[0m\u001b[1;33m:\u001b[0m\u001b[1;33m\u001b[0m\u001b[0m\n\u001b[0;32m   1136\u001b[0m       results = self._do_run(handle, final_targets, final_fetches,\n\u001b[1;32m-> 1137\u001b[1;33m                              feed_dict_tensor, options, run_metadata)\n\u001b[0m\u001b[0;32m   1138\u001b[0m     \u001b[1;32melse\u001b[0m\u001b[1;33m:\u001b[0m\u001b[1;33m\u001b[0m\u001b[0m\n\u001b[0;32m   1139\u001b[0m       \u001b[0mresults\u001b[0m \u001b[1;33m=\u001b[0m \u001b[1;33m[\u001b[0m\u001b[1;33m]\u001b[0m\u001b[1;33m\u001b[0m\u001b[0m\n",
      "\u001b[1;32m~\\Anaconda3\\envs\\snwu_env\\lib\\site-packages\\tensorflow\\python\\client\\session.py\u001b[0m in \u001b[0;36m_do_run\u001b[1;34m(self, handle, target_list, fetch_list, feed_dict, options, run_metadata)\u001b[0m\n\u001b[0;32m   1353\u001b[0m     \u001b[1;32mif\u001b[0m \u001b[0mhandle\u001b[0m \u001b[1;32mis\u001b[0m \u001b[1;32mNone\u001b[0m\u001b[1;33m:\u001b[0m\u001b[1;33m\u001b[0m\u001b[0m\n\u001b[0;32m   1354\u001b[0m       return self._do_call(_run_fn, self._session, feeds, fetches, targets,\n\u001b[1;32m-> 1355\u001b[1;33m                            options, run_metadata)\n\u001b[0m\u001b[0;32m   1356\u001b[0m     \u001b[1;32melse\u001b[0m\u001b[1;33m:\u001b[0m\u001b[1;33m\u001b[0m\u001b[0m\n\u001b[0;32m   1357\u001b[0m       \u001b[1;32mreturn\u001b[0m \u001b[0mself\u001b[0m\u001b[1;33m.\u001b[0m\u001b[0m_do_call\u001b[0m\u001b[1;33m(\u001b[0m\u001b[0m_prun_fn\u001b[0m\u001b[1;33m,\u001b[0m \u001b[0mself\u001b[0m\u001b[1;33m.\u001b[0m\u001b[0m_session\u001b[0m\u001b[1;33m,\u001b[0m \u001b[0mhandle\u001b[0m\u001b[1;33m,\u001b[0m \u001b[0mfeeds\u001b[0m\u001b[1;33m,\u001b[0m \u001b[0mfetches\u001b[0m\u001b[1;33m)\u001b[0m\u001b[1;33m\u001b[0m\u001b[0m\n",
      "\u001b[1;32m~\\Anaconda3\\envs\\snwu_env\\lib\\site-packages\\tensorflow\\python\\client\\session.py\u001b[0m in \u001b[0;36m_do_call\u001b[1;34m(self, fn, *args)\u001b[0m\n\u001b[0;32m   1359\u001b[0m   \u001b[1;32mdef\u001b[0m \u001b[0m_do_call\u001b[0m\u001b[1;33m(\u001b[0m\u001b[0mself\u001b[0m\u001b[1;33m,\u001b[0m \u001b[0mfn\u001b[0m\u001b[1;33m,\u001b[0m \u001b[1;33m*\u001b[0m\u001b[0margs\u001b[0m\u001b[1;33m)\u001b[0m\u001b[1;33m:\u001b[0m\u001b[1;33m\u001b[0m\u001b[0m\n\u001b[0;32m   1360\u001b[0m     \u001b[1;32mtry\u001b[0m\u001b[1;33m:\u001b[0m\u001b[1;33m\u001b[0m\u001b[0m\n\u001b[1;32m-> 1361\u001b[1;33m       \u001b[1;32mreturn\u001b[0m \u001b[0mfn\u001b[0m\u001b[1;33m(\u001b[0m\u001b[1;33m*\u001b[0m\u001b[0margs\u001b[0m\u001b[1;33m)\u001b[0m\u001b[1;33m\u001b[0m\u001b[0m\n\u001b[0m\u001b[0;32m   1362\u001b[0m     \u001b[1;32mexcept\u001b[0m \u001b[0merrors\u001b[0m\u001b[1;33m.\u001b[0m\u001b[0mOpError\u001b[0m \u001b[1;32mas\u001b[0m \u001b[0me\u001b[0m\u001b[1;33m:\u001b[0m\u001b[1;33m\u001b[0m\u001b[0m\n\u001b[0;32m   1363\u001b[0m       \u001b[0mmessage\u001b[0m \u001b[1;33m=\u001b[0m \u001b[0mcompat\u001b[0m\u001b[1;33m.\u001b[0m\u001b[0mas_text\u001b[0m\u001b[1;33m(\u001b[0m\u001b[0me\u001b[0m\u001b[1;33m.\u001b[0m\u001b[0mmessage\u001b[0m\u001b[1;33m)\u001b[0m\u001b[1;33m\u001b[0m\u001b[0m\n",
      "\u001b[1;32m~\\Anaconda3\\envs\\snwu_env\\lib\\site-packages\\tensorflow\\python\\client\\session.py\u001b[0m in \u001b[0;36m_run_fn\u001b[1;34m(session, feed_dict, fetch_list, target_list, options, run_metadata)\u001b[0m\n\u001b[0;32m   1338\u001b[0m         \u001b[1;32melse\u001b[0m\u001b[1;33m:\u001b[0m\u001b[1;33m\u001b[0m\u001b[0m\n\u001b[0;32m   1339\u001b[0m           return tf_session.TF_Run(session, options, feed_dict, fetch_list,\n\u001b[1;32m-> 1340\u001b[1;33m                                    target_list, status, run_metadata)\n\u001b[0m\u001b[0;32m   1341\u001b[0m \u001b[1;33m\u001b[0m\u001b[0m\n\u001b[0;32m   1342\u001b[0m     \u001b[1;32mdef\u001b[0m \u001b[0m_prun_fn\u001b[0m\u001b[1;33m(\u001b[0m\u001b[0msession\u001b[0m\u001b[1;33m,\u001b[0m \u001b[0mhandle\u001b[0m\u001b[1;33m,\u001b[0m \u001b[0mfeed_dict\u001b[0m\u001b[1;33m,\u001b[0m \u001b[0mfetch_list\u001b[0m\u001b[1;33m)\u001b[0m\u001b[1;33m:\u001b[0m\u001b[1;33m\u001b[0m\u001b[0m\n",
      "\u001b[1;31mKeyboardInterrupt\u001b[0m: "
     ]
    }
   ],
   "source": [
    "# Misc. constants\n",
    "num_training_batches = 1#int(train_data.num_scores/TRAINING_BATCH_SIZE*USE_PERCENT_DATA)\n",
    "num_validation_batches = int(validation_data.num_scores/VALIDATION_BATCH_SIZE)\n",
    "TB_PERIOD = 1000\n",
    "TRAIN_PERIOD = 100\n",
    "VALIDATION_PERIOD = 100\n",
    "\n",
    "# Saver - Prediction Tensors\n",
    "tf.get_collection_ref('pred_ops').clear()\n",
    "tf.get_collection('pred_ops')\n",
    "# tf.add_to_collection('pred_ops', X)\n",
    "tf.add_to_collection('pred_ops', ligids)\n",
    "tf.add_to_collection('pred_ops', smiles)\n",
    "tf.add_to_collection('pred_ops', Y)\n",
    "tf.add_to_collection('pred_ops', pred_score)\n",
    "# Saver - Training Tensors\n",
    "tf.get_collection_ref('train_ops').clear()\n",
    "tf.get_collection('train_ops')\n",
    "# tf.add_to_collection('train_ops', X)\n",
    "tf.add_to_collection('train_ops', ligids)\n",
    "tf.add_to_collection('train_ops', smiles)\n",
    "tf.add_to_collection('train_ops', Y)\n",
    "tf.add_to_collection('train_ops', loss)\n",
    "tf.add_to_collection('train_ops', train_op)\n",
    "saver = tf.train.Saver(max_to_keep=1000)\n",
    "\n",
    "# Tensorboard - Graph\n",
    "time_now = datetime.utcnow().strftime('%Y%m%d%H%M%S')\n",
    "tensorboard_logdir = '../tf_log/run-{}'.format(time_now)\n",
    "print('tensorboard log_dir: {}'.format(tensorboard_logdir))\n",
    "writer = tf.summary.FileWriter(tensorboard_logdir)\n",
    "writer.add_graph(tf.get_default_graph())\n",
    "# Tensorboard - Summaries\n",
    "summaries = [tf.summary.scalar('mean_abs_error', mae), \n",
    "             tf.summary.scalar('mean_square_error', mse_loss), \n",
    "             tf.summary.scalar('regularization', reg_loss), \n",
    "             tf.summary.scalar('total_loss', loss),\n",
    "#              tf.summary.histogram('input',X),\n",
    "             tf.summary.histogram('ligids',ligids),\n",
    "             tf.summary.histogram('smiles',smiles),\n",
    "             tf.summary.histogram('layer1',layer1),\n",
    "             tf.summary.histogram('layer2',layer2),\n",
    "             tf.summary.histogram('predictions',pred_score),\n",
    "             tf.summary.histogram('ground_truth',Y)]\n",
    "\n",
    "# Start Session\n",
    "with tf.Session() as sess:\n",
    "    sess.run(tf.global_variables_initializer())\n",
    "    for epoch in range(NUM_EPOCHS):       \n",
    "        # Train Model\n",
    "        train_data.reset()\n",
    "        ligids_batch, smiles_batch, scores_batch = train_data.next_batch(4)\n",
    "        ligids_batch = ligids_batch[1:4,:]\n",
    "        smiles_batch = smiles_batch[1:4,:]\n",
    "        scores_batch = scores_batch[1:4]\n",
    "        print('ligids_batch: {}'.format(ligids_batch))\n",
    "        print('smiles_batch: {}'.format(smiles_batch))\n",
    "        print('scores_batch: {}'.format(scores_batch))\n",
    "#         for step in range(num_training_batches):\n",
    "        for step in range(100000):\n",
    "\n",
    "            _, train_loss = sess.run([train_op, loss], feed_dict={ligids:ligids_batch, \n",
    "                                                                  smiles:smiles_batch,\n",
    "                                                                  Y:scores_batch})\n",
    "            if step%TRAIN_PERIOD == 0:\n",
    "                print('{}/{} train_loss_batch: {:.3f}'.format(step, \n",
    "                                                              num_training_batches, \n",
    "                                                              train_loss), end='\\r')\n",
    "            # Tensorboard\n",
    "            if step%TB_PERIOD == 0:\n",
    "                s = [sess.run(summary, feed_dict={ligids:ligids_batch, \n",
    "                                                  smiles:smiles_batch, \n",
    "                                                  Y:scores_batch}) for summary in summaries]\n",
    "                global_step = step+epoch*num_training_batches\n",
    "                [writer.add_summary(summary, global_step) for summary in s]\n",
    "                \n",
    "        # Validation\n",
    "        mae_value = []\n",
    "        validation_data.reset()\n",
    "        for step in range(num_validation_batches): \n",
    "            ligids_batch, smiles_batch, scores_batch = validation_data.next_batch(VALIDATION_BATCH_SIZE)\n",
    "            mae_batch = sess.run(mae, feed_dict={ligids:ligids_batch, \n",
    "                                                 smiles:smiles_batch,\n",
    "                                                 Y:scores_batch})\n",
    "            mae_value.append(mae_batch)\n",
    "            if step%VALIDATION_PERIOD == 0:\n",
    "                print('{}/{} mae_batch: {}'.format(step, \n",
    "                                                   num_validation_batches, \n",
    "                                                   mae_batch), end='\\r')\n",
    "        mae_value = sum(mae_value)/len(mae_value)\n",
    "        print('EPOCH: {:<10} | mae: {:<20}'.format(epoch+1, mae_value))\n",
    "        \n",
    "        # Save Model w/ name: e{epoch number}_l{loss}\n",
    "        saver_filename = 'mae{}_e{}'.format(mae_value, epoch)        \n",
    "        saver.save(sess, '../models/{}/{}'.format(time_now, saver_filename))"
   ]
  },
  {
   "cell_type": "code",
   "execution_count": null,
   "metadata": {
    "collapsed": true
   },
   "outputs": [],
   "source": []
  }
 ],
 "metadata": {
  "kernelspec": {
   "display_name": "Python 3",
   "language": "python",
   "name": "python3"
  },
  "language_info": {
   "codemirror_mode": {
    "name": "ipython",
    "version": 3
   },
   "file_extension": ".py",
   "mimetype": "text/x-python",
   "name": "python",
   "nbconvert_exporter": "python",
   "pygments_lexer": "ipython3",
   "version": "3.6.2"
  }
 },
 "nbformat": 4,
 "nbformat_minor": 2
}
