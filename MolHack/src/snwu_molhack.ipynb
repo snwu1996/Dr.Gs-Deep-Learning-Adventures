{
 "cells": [
  {
   "cell_type": "markdown",
   "metadata": {},
   "source": [
    "#### Import Dependencies"
   ]
  },
  {
   "cell_type": "code",
   "execution_count": 1,
   "metadata": {},
   "outputs": [
    {
     "name": "stderr",
     "output_type": "stream",
     "text": [
      "C:\\Users\\wus7\\Anaconda3\\lib\\site-packages\\h5py\\__init__.py:34: FutureWarning: Conversion of the second argument of issubdtype from `float` to `np.floating` is deprecated. In future, it will be treated as `np.float64 == np.dtype(float).type`.\n",
      "  from ._conv import register_converters as _register_converters\n"
     ]
    }
   ],
   "source": [
    "%matplotlib notebook\n",
    "\n",
    "import tensorflow as tf\n",
    "import numpy as np\n",
    "from datetime import datetime\n",
    "from data_utils import *\n",
    "import matplotlib.pyplot as plt"
   ]
  },
  {
   "cell_type": "markdown",
   "metadata": {},
   "source": [
    "#### Load Data"
   ]
  },
  {
   "cell_type": "code",
   "execution_count": 3,
   "metadata": {},
   "outputs": [
    {
     "name": "stdout",
     "output_type": "stream",
     "text": [
      "train_valid_ligids shape: (13246, 9)\n",
      "train_valid_smiles shape: (46005, 167)\n",
      "train_valid_scores shape: (609382230,)\n"
     ]
    }
   ],
   "source": [
    "train_valid_ligids  = np.load('../data/PHARM_TRAIN_X.npy')\n",
    "train_valid_smiles = np.load('../data/PHARM_TRAIN_SMILES.npy')\n",
    "train_valid_scores = np.load('../data/Y_train.npy')\n",
    "\n",
    "print('train_valid_ligids shape: {}'.format(train_valid_ligids.shape))\n",
    "print('train_valid_smiles shape: {}'.format(train_valid_smiles.shape))\n",
    "print('train_valid_scores shape: {}'.format(train_valid_scores.shape))"
   ]
  },
  {
   "cell_type": "markdown",
   "metadata": {},
   "source": [
    "#### Train Validation Test Split"
   ]
  },
  {
   "cell_type": "code",
   "execution_count": 4,
   "metadata": {},
   "outputs": [
    {
     "name": "stdout",
     "output_type": "stream",
     "text": [
      "num validation ligids: 3046\n",
      "num train ligids: 10200\n",
      "num validation smiles: 10581\n",
      "num train smiles: 35424\n",
      "num validation labels: 32229726\n",
      "num train labels: 361324800\n"
     ]
    }
   ],
   "source": [
    "train_data, validation_data = train_validation_split(train_valid_ligids,\n",
    "                                                     train_valid_smiles,\n",
    "                                                     train_valid_scores,\n",
    "                                                     num_val_lig=3046, \n",
    "                                                     num_val_smi=10581)\n",
    "del train_valid_ligids, train_valid_smiles, train_valid_scores"
   ]
  },
  {
   "cell_type": "code",
   "execution_count": 5,
   "metadata": {},
   "outputs": [
    {
     "name": "stdout",
     "output_type": "stream",
     "text": [
      "[0.00122935 0.00457153 0.02121999 0.08647217 0.22505868 0.22536001\n",
      " 0.1995506  0.15464038 0.02262394 0.05927335]\n",
      "[0.00139948 0.00484937 0.0219202  0.08746879 0.22459654 0.22516052\n",
      " 0.19882344 0.15418052 0.02242222 0.05917891]\n"
     ]
    }
   ],
   "source": [
    "print(np.bincount(train_data.scores)/train_data.num_scores)\n",
    "print(np.bincount(validation_data.scores)/validation_data.num_scores)"
   ]
  },
  {
   "cell_type": "code",
   "execution_count": 6,
   "metadata": {
    "collapsed": true
   },
   "outputs": [],
   "source": [
    "# Balance Dataset\n",
    "map_from = [0,1,2,3,4,5,6,7,8,9]\n",
    "map_to =   [0,0,0,0,1,2,3,4,4,4]\n",
    "\n",
    "for _from, _to in zip(map_from, map_to):\n",
    "    train_data.scores[train_data.scores==_from] = _to\n",
    "    validation_data.scores[validation_data.scores==_from] = _to    "
   ]
  },
  {
   "cell_type": "code",
   "execution_count": 7,
   "metadata": {},
   "outputs": [
    {
     "name": "stdout",
     "output_type": "stream",
     "text": [
      "[0.11349304 0.22505868 0.22536001 0.1995506  0.23653767]\n",
      "[0.11563784 0.22459654 0.22516052 0.19882344 0.23578165]\n"
     ]
    }
   ],
   "source": [
    "print(np.bincount(train_data.scores)/train_data.num_scores)\n",
    "print(np.bincount(validation_data.scores)/validation_data.num_scores)"
   ]
  },
  {
   "cell_type": "markdown",
   "metadata": {},
   "source": [
    "#### Define Model"
   ]
  },
  {
   "cell_type": "code",
   "execution_count": 10,
   "metadata": {
    "collapsed": true
   },
   "outputs": [],
   "source": [
    "# Hyper Paramters\n",
    "LEARNING_RATE = .0001\n",
    "LAMBDA = .001\n",
    "DROPOUT = .5\n",
    "NUM_EPOCHS = 5\n",
    "VALIDATIONS_PER_EPOCH = 5\n",
    "TRAINING_BATCH_SIZE = 1000\n",
    "USE_PERCENT_DATA = .05\n",
    "VALIDATION_BATCH_SIZE = 10000\n",
    "\n",
    "# Model\n",
    "L1_UNITS = 20\n",
    "L2_UNITS = 20\n",
    "NUM_OUTPUTS = 5\n",
    "\n",
    "tf.reset_default_graph()\n",
    "\n",
    "relu = tf.nn.relu\n",
    "elu = tf.nn.elu\n",
    "xavier_init = tf.contrib.layers.xavier_initializer()\n",
    "zero_init = tf.zeros_initializer()\n",
    "l2_reg = tf.contrib.layers.l2_regularizer(scale=LAMBDA)\n",
    "\n",
    "with tf.name_scope('inputs') as scope:\n",
    "    X = tf.placeholder(shape=(None, 176), dtype=tf.float32, name='ligids_smiles')\n",
    "    Y = tf.placeholder(shape=(None), dtype=tf.int32, name='score')\n",
    "    training = tf.placeholder_with_default(input=False, shape=(), name='training')\n",
    "    \n",
    "with tf.name_scope('hidden_layers') as scope:\n",
    "    layer1 = tf.layers.dense(inputs=X,\n",
    "                             units=L1_UNITS, \n",
    "                             activation=elu,\n",
    "                             kernel_initializer=xavier_init,\n",
    "                             bias_initializer=zero_init,\n",
    "                             kernel_regularizer=l2_reg,\n",
    "                             bias_regularizer=l2_reg,\n",
    "                             name='layer1')\n",
    "    layer2 = tf.layers.dense(inputs=layer1, \n",
    "                             units=L2_UNITS, \n",
    "                             activation=elu,\n",
    "                             kernel_initializer=xavier_init,\n",
    "                             bias_initializer=zero_init,\n",
    "                             kernel_regularizer=l2_reg,\n",
    "                             bias_regularizer=l2_reg,\n",
    "                             name='layer2')\n",
    "    \n",
    "with tf.name_scope('predicted_score') as scope:\n",
    "    logits = tf.layers.dense(inputs=layer1,\n",
    "                             units=NUM_OUTPUTS,\n",
    "                             name='logits')\n",
    "    pred_score = tf.nn.softmax(logits=logits, axis=1)\n",
    "    pred_score = tf.argmax(pred_score, axis=1, name='Y_hat')\n",
    "        \n",
    "with tf.name_scope('train') as scope:\n",
    "    mae = tf.losses.absolute_difference(Y,pred_score)\n",
    "    reg_loss = tf.reduce_sum(tf.get_collection(tf.GraphKeys.REGULARIZATION_LOSSES))\n",
    "    xent_loss = tf.reduce_sum(tf.losses.sparse_softmax_cross_entropy(logits=logits, labels=Y))\n",
    "    loss = xent_loss+reg_loss\n",
    "    optimizer = tf.train.AdamOptimizer(LEARNING_RATE)\n",
    "    train_op = optimizer.minimize(loss)"
   ]
  },
  {
   "cell_type": "markdown",
   "metadata": {},
   "source": [
    "#### Run Model"
   ]
  },
  {
   "cell_type": "code",
   "execution_count": null,
   "metadata": {},
   "outputs": [
    {
     "name": "stdout",
     "output_type": "stream",
     "text": [
      "tensorboard log_dir: ../tf_log/run-20180523191807\n",
      "7000/72264 train_loss_batch: 1.575\r"
     ]
    }
   ],
   "source": [
    "# Misc. constants\n",
    "num_training_batches = int(train_data.num_scores/TRAINING_BATCH_SIZE*USE_PERCENT_DATA)\n",
    "num_validation_batches = int(validation_data.num_scores/VALIDATION_BATCH_SIZE)\n",
    "TB_PERIOD = 1000\n",
    "TRAIN_PERIOD = 100\n",
    "VALIDATION_PERIOD = 100\n",
    "\n",
    "# Saver - Prediction Tensors\n",
    "tf.get_collection_ref('pred_ops').clear()\n",
    "tf.get_collection('pred_ops')\n",
    "tf.add_to_collection('pred_ops', X)\n",
    "tf.add_to_collection('pred_ops', Y)\n",
    "tf.add_to_collection('pred_ops', pred_score)\n",
    "# Saver - Training Tensors\n",
    "tf.get_collection_ref('train_ops').clear()\n",
    "tf.get_collection('train_ops')\n",
    "tf.add_to_collection('train_ops', X)\n",
    "tf.add_to_collection('train_ops', Y)\n",
    "tf.add_to_collection('train_ops', mae)\n",
    "tf.add_to_collection('train_ops', loss)\n",
    "tf.add_to_collection('train_ops', train_op)\n",
    "saver = tf.train.Saver(max_to_keep=1000)\n",
    "\n",
    "# Tensorboard - Graph\n",
    "time_now = datetime.utcnow().strftime('%Y%m%d%H%M%S')\n",
    "tensorboard_logdir = '../tf_log/run-{}'.format(time_now)\n",
    "print('tensorboard log_dir: {}'.format(tensorboard_logdir))\n",
    "writer = tf.summary.FileWriter(tensorboard_logdir)\n",
    "writer.add_graph(tf.get_default_graph())\n",
    "# Tensorboard - Summaries\n",
    "summaries = [tf.summary.scalar('mean_abs_error', mae), \n",
    "             tf.summary.scalar('xent_error', xent_loss), \n",
    "             tf.summary.scalar('regularization', reg_loss), \n",
    "             tf.summary.scalar('total_loss', loss),\n",
    "             tf.summary.histogram('input',X),\n",
    "             tf.summary.histogram('layer1',layer1),\n",
    "             tf.summary.histogram('layer2',layer2),\n",
    "             tf.summary.histogram('predictions',pred_score),\n",
    "             tf.summary.histogram('ground_truth',Y)]\n",
    "\n",
    "# Start Session\n",
    "with tf.Session() as sess:\n",
    "    sess.run(tf.global_variables_initializer())\n",
    "    for epoch in range(NUM_EPOCHS):       \n",
    "        # Train Model\n",
    "        train_data.reset()\n",
    "#         train_data.shuffle()\n",
    "        for step in range(num_training_batches):\n",
    "            ligids_batch, smiles_batch, scores_batch = train_data.next_batch(TRAINING_BATCH_SIZE)\n",
    "            lig_smi_batch = np.concatenate((ligids_batch,smiles_batch), axis=1)\n",
    "            _, train_loss = sess.run([train_op, loss], feed_dict={X:lig_smi_batch, Y:scores_batch})\n",
    "            if step%TRAIN_PERIOD == 0:\n",
    "                print('{}/{} train_loss_batch: {:.3f}'.format(step, \n",
    "                                                              num_training_batches, \n",
    "                                                              train_loss), end='\\r')\n",
    "            # Tensorboard\n",
    "            if step%TB_PERIOD == 0:\n",
    "                s = [sess.run(summary, feed_dict={X:lig_smi_batch, Y:scores_batch}) for summary in summaries]\n",
    "                global_step = step+epoch*num_training_batches\n",
    "                [writer.add_summary(summary, global_step) for summary in s]\n",
    "                \n",
    "        # Validation\n",
    "        mae_value = []\n",
    "        validation_data.reset()\n",
    "        for step in range(num_validation_batches): \n",
    "            ligids_batch, smiles_batch, scores_batch = validation_data.next_batch(VALIDATION_BATCH_SIZE)\n",
    "            lig_smi_batch = np.concatenate((ligids_batch, smiles_batch), axis=1)\n",
    "            mae_batch = sess.run(mae, feed_dict={X:lig_smi_batch, Y:scores_batch})\n",
    "            mae_value.append(mae_batch)\n",
    "            if step%VALIDATION_PERIOD == 0:\n",
    "                print('{}/{} mae_batch: {}'.format(step, \n",
    "                                                   num_validation_batches, \n",
    "                                                   mae_batch), end='\\r')\n",
    "        mae_value = sum(mae_value)/len(mae_value)\n",
    "        print('EPOCH: {:<10} | mae: {:<20}'.format(epoch+1, mae_value))\n",
    "        \n",
    "        # Save Model w/ name: mse{mean_abs_err}_e{epoch number}\n",
    "        saver_filename = 'mae{}_e{}'.format(mae_value, epoch+1)        \n",
    "        saver.save(sess, '../models/{}/{}'.format(time_now, saver_filename))"
   ]
  },
  {
   "cell_type": "code",
   "execution_count": null,
   "metadata": {
    "collapsed": true
   },
   "outputs": [],
   "source": []
  }
 ],
 "metadata": {
  "kernelspec": {
   "display_name": "Python 3",
   "language": "python",
   "name": "python3"
  },
  "language_info": {
   "codemirror_mode": {
    "name": "ipython",
    "version": 3
   },
   "file_extension": ".py",
   "mimetype": "text/x-python",
   "name": "python",
   "nbconvert_exporter": "python",
   "pygments_lexer": "ipython3",
   "version": "3.6.2"
  }
 },
 "nbformat": 4,
 "nbformat_minor": 2
}
