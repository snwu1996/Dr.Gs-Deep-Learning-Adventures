{
 "cells": [
  {
   "cell_type": "markdown",
   "metadata": {},
   "source": [
    "#### Import Dependencies"
   ]
  },
  {
   "cell_type": "code",
   "execution_count": null,
   "metadata": {},
   "outputs": [],
   "source": [
    "import tensorflow as tf\n",
    "import numpy as np\n",
    "from datetime import datetime\n",
    "from data_utils import *"
   ]
  },
  {
   "cell_type": "markdown",
   "metadata": {},
   "source": [
    "#### Load Data"
   ]
  },
  {
   "cell_type": "code",
   "execution_count": null,
   "metadata": {},
   "outputs": [],
   "source": [
    "train_valid_ligids  = np.load('../data/PHARM_TRAIN_X.npy')\n",
    "train_valid_smiles = np.load('../data/PHARM_TRAIN_SMILES.npy')\n",
    "train_valid_scores = np.load('../data/Y_train.npy')\n",
    "test_ligids = np.load('../data/PHARM_TEST_X.npy')\n",
    "test_smiles = np.load('../data/PHARM_TEST_SMILES.npy')\n",
    "\n",
    "print('train_valid_ligids shape: {}'.format(train_valid_ligids.shape))\n",
    "print('train_valid_smiles shape: {}'.format(train_valid_smiles.shape))\n",
    "print('train_valid_scores shape: {}'.format(train_valid_scores.shape))\n",
    "print('test_ligids shape: {}'.format(test_ligids.shape))\n",
    "print('test_smiles shape: {}'.format(test_smiles.shape))"
   ]
  },
  {
   "cell_type": "markdown",
   "metadata": {},
   "source": [
    "#### Train Validation Test Split"
   ]
  },
  {
   "cell_type": "code",
   "execution_count": null,
   "metadata": {},
   "outputs": [],
   "source": [
    "train_data, validation_data = train_validation_split(train_valid_ligids,\n",
    "                                                     train_valid_smiles,\n",
    "                                                     train_valid_scores,\n",
    "                                                     num_val_lig=3046, \n",
    "                                                     num_val_smi=10581)\n",
    "test_data = Data(test_ligids, \n",
    "                 test_smiles, \n",
    "                 np.empty(shape=(test_ligids.shape[0]* test_smiles.shape[0]), dtype=np.int8))\n",
    "\n",
    "del train_valid_ligids, train_valid_smiles, train_valid_scores"
   ]
  },
  {
   "cell_type": "markdown",
   "metadata": {},
   "source": [
    "#### Define Hyper Parameters"
   ]
  },
  {
   "cell_type": "code",
   "execution_count": null,
   "metadata": {
    "collapsed": true
   },
   "outputs": [],
   "source": [
    "LEARNING_RATE = .001\n",
    "LAMBDA = .001\n",
    "DROPOUT = .5"
   ]
  },
  {
   "cell_type": "markdown",
   "metadata": {},
   "source": [
    "#### Define Model"
   ]
  },
  {
   "cell_type": "code",
   "execution_count": null,
   "metadata": {
    "collapsed": true
   },
   "outputs": [],
   "source": [
    "L1_UNITS = 30\n",
    "L2_UNITS = 30\n",
    "L3_UNITS = 30\n",
    "NUM_OUTPUTS = 1\n",
    "\n",
    "tf.reset_default_graph()\n",
    "\n",
    "relu = tf.nn.relu\n",
    "xavier_init = tf.contrib.layers.xavier_initializer()\n",
    "zero_init = tf.zeros_initializer()\n",
    "l2_reg = tf.contrib.layers.l2_regularizer(scale=LAMBDA)\n",
    "\n",
    "with tf.name_scope('inputs') as scope:\n",
    "    X = tf.placeholder(shape=(None, 176), dtype=tf.float32, name='ligids_smiles')\n",
    "    Y = tf.placeholder(shape=(None), dtype=tf.float32, name='score')\n",
    "    training = tf.placeholder_with_default(input=False, shape=(), name='training')\n",
    "    \n",
    "with tf.name_scope('hidden_layers') as scope:\n",
    "    layer1 = tf.layers.dense(inputs=X,\n",
    "                             units=L1_UNITS, \n",
    "                             activation=relu,\n",
    "                             kernel_initializer=xavier_init,\n",
    "                             bias_initializer=zero_init,\n",
    "                             kernel_regularizer=l2_reg,\n",
    "                             bias_regularizer=l2_reg,\n",
    "                             name='layer1')\n",
    "    layer2 = tf.layers.dense(inputs=layer1, \n",
    "                             units=L2_UNITS, \n",
    "                             activation=relu,\n",
    "                             kernel_initializer=xavier_init,\n",
    "                             bias_initializer=zero_init,\n",
    "                             kernel_regularizer=l2_reg,\n",
    "                             bias_regularizer=l2_reg,\n",
    "                             name='layer2')\n",
    "    layer3 = tf.layers.dense(inputs=layer2, \n",
    "                             units=L3_UNITS, \n",
    "                             activation=relu,\n",
    "                             kernel_initializer=xavier_init,\n",
    "                             bias_initializer=zero_init,\n",
    "                             kernel_regularizer=l2_reg,\n",
    "                             bias_regularizer=l2_reg,\n",
    "                             name='layer3')\n",
    "    \n",
    "with tf.name_scope('predicted_score') as scope:\n",
    "    pred_score = tf.layers.dense(inputs=layer3,\n",
    "                                 units=NUM_OUTPUTS)\n",
    "    with tf.get_default_graph().gradient_override_map({\"Floor\": \"Identity\"}):\n",
    "        pred_score = tf.floor(pred_score, name='pred_score')\n",
    "        \n",
    "with tf.name_scope('train') as scope:\n",
    "    mae = tf.losses.absolute_difference(Y,pred_score)\n",
    "    reg_loss = tf.get_collection(tf.GraphKeys.REGULARIZATION_LOSSES)\n",
    "    reg_loss = tf.reduce_sum(reg_loss)\n",
    "    train_loss = tf.losses.mean_squared_error(labels=Y,predictions=pred_score)\n",
    "    loss = train_loss+reg_loss\n",
    "    optimizer = tf.train.AdamOptimizer(LEARNING_RATE)\n",
    "    train_op = optimizer.minimize(loss)"
   ]
  },
  {
   "cell_type": "markdown",
   "metadata": {},
   "source": [
    "#### Run Model"
   ]
  },
  {
   "cell_type": "code",
   "execution_count": null,
   "metadata": {},
   "outputs": [],
   "source": [
    "# Misc. constants\n",
    "NUM_EPOCHS = 5\n",
    "NUM_SAVES_PER_EPOCH = 5\n",
    "TRAINING_BATCH_SIZE = 10000\n",
    "num_training_batches = int(train_data.num_scores/TRAINING_BATCH_SIZE)\n",
    "VALIDATION_BATCH_SIZE = 10000\n",
    "num_validation_batches = int(validation_data.num_scores/VALIDATION_BATCH_SIZE)\n",
    "TB_PERIOD = 10\n",
    "\n",
    "# Saver - Prediction Tensors\n",
    "tf.get_collection_ref('pred_ops').clear()\n",
    "tf.get_collection('pred_ops')\n",
    "tf.add_to_collection('pred_ops', X)\n",
    "tf.add_to_collection('pred_ops', Y)\n",
    "tf.add_to_collection('pred_ops', pred_score)\n",
    "# Saver - Training Tensors\n",
    "tf.get_collection_ref('train_ops').clear()\n",
    "tf.get_collection('train_ops')\n",
    "tf.add_to_collection('train_ops', X)\n",
    "tf.add_to_collection('train_ops', Y)\n",
    "tf.add_to_collection('train_ops', loss)\n",
    "tf.add_to_collection('train_ops', train_op)\n",
    "saver = tf.train.Saver(max_to_keep=1000)\n",
    "\n",
    "# Tensorboard - Graph\n",
    "time_now = datetime.utcnow().strftime('%Y%m%d%H%M%S')\n",
    "tensorboard_logdir = '../tf_log/run-{}'.format(time_now)\n",
    "print('tensorboard log_dir: {}'.format(tensorboard_logdir))\n",
    "writer = tf.summary.FileWriter(tensorboard_logdir)\n",
    "writer.add_graph(tf.get_default_graph())\n",
    "# Tensorboard - Summaries\n",
    "summaries = [tf.summary.scalar('mean_abs_error', mae), \n",
    "             tf.summary.scalar('mean_square_error', train_loss), \n",
    "             tf.summary.scalar('regularization', reg_loss), \n",
    "             tf.summary.scalar('total_loss', loss)]\n",
    "\n",
    "# Start Session\n",
    "with tf.Session() as sess:\n",
    "    sess.run(tf.global_variables_initializer())\n",
    "    for epoch in range(NUM_EPOCHS):       \n",
    "        # Train Model\n",
    "        train_data.reset()\n",
    "        for step in range(num_training_batches):\n",
    "            ligids_batch, smiles_batch, scores_batch = train_data.next_batch(TRAINING_BATCH_SIZE)\n",
    "            lig_smi_batch = np.concatenate((ligids_batch,smiles_batch), axis=1)\n",
    "            _, train_loss = sess.run([train_op, loss], feed_dict={X:lig_smi_batch, Y:scores_batch})\n",
    "            print('{}/{} train_loss: {}'.format(step, \n",
    "                                                num_training_batches, \n",
    "                                                train_loss), end='\\r')\n",
    "            # Tensorboard\n",
    "            if step%TB_PERIOD == 0:\n",
    "                s = sess.run(summaries, feed_dict={X:lig_smi_batch, Y:scores_batch})\n",
    "                [writer.add_summary(summary, step) for summary in s]\n",
    "        # Validation\n",
    "        validation_data.reset()\n",
    "        validation_loss, mae_value = [], []\n",
    "        for step in range(num_validation_batches): \n",
    "            # Compute validation loss batch by batch and average\n",
    "            ligids_batch, smiles_batch, scores_batch = validation_data.next_batch(VALIDATION_BATCH_SIZE)\n",
    "            lig_smi_batch = np.concatenate((ligids_batch,smiles_batch), axis=1)\n",
    "            validation_loss_batch, mae_batch = sess.run([loss, mae], \n",
    "                                                        feed_dict={X:lig_smi_batch, Y:scores_batch})\n",
    "            validation_loss.append(validation_loss_batch)\n",
    "            mae_value.append(mae_batch)\n",
    "            print('{}/{} validation_loss_batch: {}'.format(step, \n",
    "                                                           num_validation_batches, \n",
    "                                                           validation_loss_batch), end='\\r')\n",
    "        validation_loss = sum(validation_loss)/len(validation_loss)\n",
    "        mae_value = sum(mae_value)/len(mae_value)\n",
    "        print('EPOCH: {:<10} | loss: {:<25} | mae: {:<20}'.format(epoch+1, \n",
    "                                                                  validation_loss, \n",
    "                                                                  mae_value))\n",
    "        # Save Model w/ name: e{epoch number}_l{loss}\n",
    "        saver_filename = 'e{}_l{}'.format(epoch, validation_loss)        \n",
    "        saver.save(sess, '../models/{}'.format(saver_filename))"
   ]
  },
  {
   "cell_type": "markdown",
   "metadata": {},
   "source": [
    "#### make_submission.py"
   ]
  },
  {
   "cell_type": "code",
   "execution_count": null,
   "metadata": {},
   "outputs": [],
   "source": [
    "# Batches\n",
    "TESTING_BATCH_SIZE = 10000\n",
    "num_test_batches = int(test_data.num_scores/TESTING_BATCH_SIZE)+1\n",
    "\n",
    "# Loader\n",
    "saver_filename = 'e8_l2.8511100673734733'\n",
    "tf.reset_default_graph()\n",
    "loader = tf.train.import_meta_graph('../models/{}.meta'.format(saver_filename))\n",
    "\n",
    "with tf.Session() as sess:\n",
    "    # Load model and tensors\n",
    "    sess.run(tf.global_variables_initializer())\n",
    "    loader.restore(sess, '../models/{}'.format(saver_filename))\n",
    "    X, Y, pred_score = tf.get_collection('pred_ops')\n",
    "\n",
    "    # Make predictions\n",
    "    predictions = []\n",
    "    test_data.reset()\n",
    "    for batch_num in range(num_test_batches):\n",
    "        ligids_batch, smiles_batch, empty_batch = test_data.next_batch(TESTING_BATCH_SIZE)\n",
    "        lig_smi_batch = np.concatenate((ligids_batch,smiles_batch), axis=1)\n",
    "        prediction_batch = sess.run(pred_score, feed_dict={X:lig_smi_batch, Y:empty_batch})\n",
    "        predictions.append(prediction_batch)\n",
    "        batch_bincount = np.bincount(np.squeeze(prediction_batch.astype(int)), minlength=10)\n",
    "        print('{:<4}/{:<4}: Distribution: {}'.format(batch_num, \n",
    "                                 num_test_batches,\n",
    "                                 batch_bincount), end='\\r')\n",
    "    predictions = np.concatenate(predictions, axis=0)\n",
    "\n",
    "# Write predictions to submission file\n",
    "with open('../submissions/submission_{}.csv'.format(saver_filename), 'w') as out_file:\n",
    "    out_file.write('ligid_pharmid,score\\n')\n",
    "    for glob_index in range(test_data.num_scores):\n",
    "        out_file.write('{},{}\\n'.format(glob_index, int(predictions[glob_index])))"
   ]
  }
 ],
 "metadata": {
  "kernelspec": {
   "display_name": "Python 3",
   "language": "python",
   "name": "python3"
  },
  "language_info": {
   "codemirror_mode": {
    "name": "ipython",
    "version": 3
   },
   "file_extension": ".py",
   "mimetype": "text/x-python",
   "name": "python",
   "nbconvert_exporter": "python",
   "pygments_lexer": "ipython3",
   "version": "3.6.2"
  }
 },
 "nbformat": 4,
 "nbformat_minor": 2
}
