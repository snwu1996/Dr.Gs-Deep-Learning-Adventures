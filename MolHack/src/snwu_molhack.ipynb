{
 "cells": [
  {
   "cell_type": "markdown",
   "metadata": {},
   "source": [
    "#### Import Dependencies"
   ]
  },
  {
   "cell_type": "code",
   "execution_count": 1,
   "metadata": {},
   "outputs": [
    {
     "name": "stderr",
     "output_type": "stream",
     "text": [
<<<<<<< HEAD
      "C:\\Users\\Newman\\Anaconda3\\envs\\snwu_env\\lib\\site-packages\\h5py\\__init__.py:34: FutureWarning: Conversion of the second argument of issubdtype from `float` to `np.floating` is deprecated. In future, it will be treated as `np.float64 == np.dtype(float).type`.\n",
=======
      "C:\\Users\\wus7\\Anaconda3\\lib\\site-packages\\h5py\\__init__.py:34: FutureWarning: Conversion of the second argument of issubdtype from `float` to `np.floating` is deprecated. In future, it will be treated as `np.float64 == np.dtype(float).type`.\n",
>>>>>>> 7c76cadba77128ede121d79336d0542359ef8669
      "  from ._conv import register_converters as _register_converters\n"
     ]
    }
   ],
   "source": [
    "import tensorflow as tf\n",
    "import numpy as np\n",
    "from datetime import datetime\n",
    "from data_utils import *\n",
    "from tqdm import tnrange, tqdm_notebook\n",
    "from sklearn.decomposition import PCA"
   ]
  },
  {
   "cell_type": "markdown",
   "metadata": {},
   "source": [
    "#### Load Data"
   ]
  },
  {
   "cell_type": "code",
<<<<<<< HEAD
   "execution_count": 2,
=======
   "execution_count": 123,
>>>>>>> 7c76cadba77128ede121d79336d0542359ef8669
   "metadata": {},
   "outputs": [
    {
     "name": "stdout",
     "output_type": "stream",
     "text": [
      "train_valid_ligids shape: (13246, 9)\n",
      "train_valid_smiles shape: (46005, 167)\n",
      "train_valid_scores shape: (609382230,)\n"
     ]
    }
   ],
   "source": [
    "train_valid_ligids  = np.load('../data/PHARM_TRAIN_X.npy')\n",
    "train_valid_smiles = np.load('../data/PHARM_TRAIN_SMILES.npy')\n",
    "train_valid_scores = np.load('../data/Y_train.npy')\n",
    "\n",
    "print('train_valid_ligids shape: {}'.format(train_valid_ligids.shape))\n",
    "print('train_valid_smiles shape: {}'.format(train_valid_smiles.shape))\n",
    "print('train_valid_scores shape: {}'.format(train_valid_scores.shape))"
   ]
  },
  {
   "cell_type": "markdown",
   "metadata": {},
   "source": [
    "#### Preprocess Data"
   ]
  },
  {
   "cell_type": "code",
<<<<<<< HEAD
   "execution_count": 3,
=======
   "execution_count": 124,
>>>>>>> 7c76cadba77128ede121d79336d0542359ef8669
   "metadata": {},
   "outputs": [
    {
     "name": "stdout",
     "output_type": "stream",
     "text": [
<<<<<<< HEAD
=======
      "Remapping 0 to 0\n",
      "Remapping 1 to 0\n",
      "Remapping 2 to 0\n",
      "Remapping 3 to 0\n",
      "Remapping 4 to 1\n",
      "Remapping 5 to 2\n",
      "Remapping 6 to 3\n",
      "Remapping 7 to 4\n",
      "Remapping 8 to 4\n",
      "Remapping 9 to 4\n",
      "New score distribution: [0.1134342  0.22478444 0.22529852 0.19962638 0.23685646]\n",
>>>>>>> 7c76cadba77128ede121d79336d0542359ef8669
      "num validation ligids: 3046\n",
      "num train ligids: 10200\n",
      "num validation smiles: 10581\n",
      "num train smiles: 35424\n",
      "num validation labels: 32229726\n",
      "num train labels: 361324800\n"
     ]
    }
   ],
   "source": [
<<<<<<< HEAD
    "use_pca = True\n",
    "\n",
    "# Naive Dimentionality reduction\n",
    "if not use_pca:\n",
    "    train_valid_ligids = reduce_dimensions(train_valid_ligids, lower_thresh=1000, upper_thresh=None)\n",
    "    train_valid_smiles = reduce_dimensions(train_valid_smiles, lower_thresh=1000, upper_thresh=44000)\n",
    "    print('reduced train_valid_ligids shape: {}'.format(train_valid_ligids.shape))\n",
    "    print('reduced train_valid_smiles shape: {}'.format(train_valid_smiles.shape))\n",
    "\n",
    "# # Balance Classes\n",
    "# map_from = [0,1,2,3,4,5,6,7,8,9]\n",
    "# map_to =   [0,0,0,0,1,2,3,4,4,4]\n",
    "# train_valid_scores = remap_scores(train_valid_scores, map_from, map_to)\n",
=======
    "# Remap Classes\n",
    "map_from = [0,1,2,3,4,5,6,7,8,9]\n",
    "map_to =   [0,0,0,0,1,2,3,4,4,4]\n",
    "train_valid_scores = remap_scores(train_valid_scores, map_from, map_to)\n",
>>>>>>> 7c76cadba77128ede121d79336d0542359ef8669
    "\n",
    "# Train Validation Split\n",
    "train_data, validation_data = train_validation_split(train_valid_ligids,\n",
    "                                                     train_valid_smiles,\n",
    "                                                     train_valid_scores,\n",
    "                                                     num_val_lig=3046, \n",
    "                                                     num_val_smi=10581,\n",
    "                                                     shuffle=False)\n",
    "del train_valid_ligids, train_valid_smiles, train_valid_scores"
   ]
  },
  {
   "cell_type": "code",
   "execution_count": 125,
   "metadata": {},
   "outputs": [],
   "source": [
    "# Use only a part of full dataset, convert to X_data, Y_data format\n",
    "train_data = reduce_dataset(train_data, samples=5000000)\n",
    "validation_data = reduce_dataset(validation_data, samples=500000)"
   ]
  },
  {
   "cell_type": "code",
   "execution_count": 126,
   "metadata": {},
   "outputs": [],
   "source": [
    "def balance_dataset(dataset, samples_per_class):\n",
    "    num_clss = len(samples_per_class)\n",
    "    cls_idxs = [np.equal(dataset.Y_data, i) for i in range(num_clss)]\n",
    "    classes_X_data = [dataset.X_data[cls_idx] for cls_idx in cls_idxs]\n",
    "    classes_Y_data = [dataset.Y_data[cls_idx] for cls_idx in cls_idxs]\n",
    "    sampled_X_data = [class_X_data[:num_samples] for class_X_data, num_samples in zip(classes_X_data, samples_per_class)]\n",
    "    sampled_Y_data = [class_Y_data[:num_samples] for class_Y_data, num_samples in zip(classes_Y_data, samples_per_class)]\n",
    "    sampled_X_data = np.concatenate(sampled_X_data, axis=0)\n",
    "    sampled_Y_data = np.concatenate(sampled_Y_data, axis=0)\n",
    "    new_dataset = Data2(sampled_X_data, sampled_Y_data)\n",
    "    return new_dataset\n",
    "\n",
    "train_data = balance_dataset(train_data, samples_per_class=[500000]*5)\n",
    "validation_data = balance_dataset(validation_data, samples_per_class=[50000]*5)"
   ]
  },
  {
   "cell_type": "code",
   "execution_count": 113,
   "metadata": {},
   "outputs": [
    {
     "name": "stdout",
     "output_type": "stream",
     "text": [
      "0.9147496272952258\n",
      "(60,)\n",
      "(2500000, 60)\n",
      "0.9123766786137454\n",
      "(60,)\n",
      "(250000, 60)\n"
     ]
    }
   ],
   "source": [
    "# PCA\n",
    "def pca_dataset(dataset, n_components):\n",
    "    pca_train = PCA(n_components=n_components)\n",
    "    pca_train.fit(dataset.X_data)\n",
    "    print(np.sum(pca_train.explained_variance_ratio_))  \n",
    "    print(pca_train.singular_values_.shape)\n",
    "    new_X_data = pca_train.transform(dataset.X_data)\n",
    "    print(new_X_data.shape)\n",
    "    new_dataset = Data2(new_X_data, dataset.Y_data)\n",
    "    return new_dataset\n",
    "\n",
    "train_data = pca_dataset(train_data, n_components=60)\n",
    "validation_data = pca_dataset(validation_data, n_components=60)"
   ]
  },
  {
   "cell_type": "code",
   "execution_count": 2,
   "metadata": {},
   "outputs": [
    {
     "name": "stdout",
     "output_type": "stream",
     "text": [
      "(900000, 176)\n",
      "(900000,)\n",
      "(100000, 176)\n",
      "(100000,)\n"
     ]
    }
   ],
   "source": [
    "NUM_TRAINING_SAMPLES = 900000\n",
    "NUM_TESTING_SAMPLE = 100000\n",
    "\n",
    "def split_data(sequences, labels):\n",
    "    \"\"\"\n",
    "    Split the data into a train and test dataset\n",
    "    \"\"\"\n",
    "    seq_and_labels = Data2(sequences, labels)\n",
    "    seq_and_labels.shuffle()\n",
    "    train_seq, train_labels = seq_and_labels.next_batch(NUM_TRAINING_SAMPLES)\n",
    "    test_seq, test_labels = seq_and_labels.next_batch(NUM_TESTING_SAMPLE)\n",
    "    return train_seq, train_labels, test_seq, test_labels\n",
    "\n",
    "X_train_valid = np.load('../data/X_train_new.npy')\n",
    "Y_train_valid = np.load('../data/Y_train_new.npy')\n",
    "\n",
    "X_train, Y_train, X_valid, Y_valid = split_data(X_train_valid, Y_train_valid)\n",
    "\n",
    "print(X_train.shape)\n",
    "print(Y_train.shape)\n",
    "print(X_valid.shape)\n",
    "print(Y_valid.shape)\n",
    "\n",
    "train_data = Data2(X_train, Y_train)\n",
    "validation_data = Data2(X_valid, Y_valid)"
   ]
  },
  {
   "cell_type": "code",
   "execution_count": 6,
   "metadata": {},
   "outputs": [
    {
     "name": "stdout",
     "output_type": "stream",
     "text": [
      "0.9145360932007858\n",
      "0.9131636485579044\n",
      "(60,)\n",
      "(60,)\n",
      "(3000000, 60)\n",
      "(300000, 60)\n"
     ]
    }
   ],
   "source": [
    "# PCA\n",
    "if use_pca:\n",
    "    NUM_X_TRAIN = 3000000\n",
    "    NUM_X_VALID = 300000\n",
    "\n",
    "    X_train = []\n",
    "    Y_train = []\n",
    "    X_valid = []\n",
    "    Y_valid = []\n",
    "\n",
    "    for _ in range(int(NUM_X_TRAIN/1000)):\n",
    "        ligids_batch, smiles_batch, scores_batch = train_data.next_batch(1000)\n",
    "        lig_smi_batch = np.concatenate((ligids_batch,smiles_batch), axis=1)\n",
    "        X_train.append(lig_smi_batch)\n",
    "        Y_train.append(scores_batch)\n",
    "\n",
    "    for _ in range(int(NUM_X_VALID/1000)):\n",
    "        ligids_batch, smiles_batch, scores_batch = validation_data.next_batch(1000)\n",
    "        lig_smi_batch = np.concatenate((ligids_batch,smiles_batch), axis=1)\n",
    "        X_valid.append(lig_smi_batch)\n",
    "        Y_valid.append(scores_batch)\n",
    "\n",
    "    X_train = np.concatenate(X_train,axis=0)\n",
    "    Y_train = np.concatenate(Y_train,axis=0)\n",
    "    X_valid = np.concatenate(X_valid,axis=0)\n",
    "    Y_valid = np.concatenate(Y_valid,axis=0)\n",
    "\n",
    "    pca_train = PCA(n_components=60, copy=False)\n",
    "    pca_train.fit(X_train)\n",
    "    pca_valid = PCA(n_components=60, copy=False)\n",
    "    pca_valid.fit(X_valid)\n",
    "    print(np.sum(pca_train.explained_variance_ratio_))  \n",
    "    print(np.sum(pca_valid.explained_variance_ratio_))  \n",
    "    print(pca_train.singular_values_.shape)\n",
    "    print(pca_valid.singular_values_.shape)\n",
    "    X_train = pca_train.transform(X_train)\n",
    "    X_valid = pca_valid.transform(X_valid)\n",
    "    print(X_train.shape)\n",
    "    print(X_valid.shape)\n",
    "    train_data = Data2(X_train, Y_train)\n",
    "    validation_data = Data2(X_valid, Y_valid)"
   ]
  },
  {
   "cell_type": "markdown",
   "metadata": {},
   "source": [
    "#### Define Model"
   ]
  },
  {
   "cell_type": "code",
   "execution_count": 12,
   "metadata": {},
   "outputs": [
    {
     "name": "stdout",
     "output_type": "stream",
     "text": [
      "INFO:tensorflow:Scale of 0 disables regularizer.\n"
     ]
    }
   ],
   "source": [
    "# Other Parameters\n",
    "use_regression = True\n",
<<<<<<< HEAD
    "use_mae = False\n",
=======
    "use_mae = True\n",
>>>>>>> 7c76cadba77128ede121d79336d0542359ef8669
    "train_summaries = []\n",
    "validation_summaries = []\n",
    "\n",
    "# Hyper Parameters\n",
    "LEARNING_RATE = .0001\n",
<<<<<<< HEAD
    "LAMBDA = .000\n",
    "DROPOUT = .5\n",
    "NUM_EPOCHS = 20\n",
=======
    "LAMBDA = .001\n",
    "DROP_RATE = .5\n",
    "NUM_EPOCHS = 10\n",
>>>>>>> 7c76cadba77128ede121d79336d0542359ef8669
    "TRAINING_BATCH_SIZE = 1000\n",
    "USE_PERCENT_TRAIN_DATA = 1\n",
    "USE_PERCENT_VALID_DATA = 1\n",
    "VALIDATION_BATCH_SIZE = 10000\n",
    "\n",
    "# Model\n",
<<<<<<< HEAD
    "L1_UNITS = 40\n",
    "L2_UNITS = 20\n",
=======
    "L1_UNITS = 20\n",
    "# L2_UNITS = 20\n",
    "# L3_UNITS = 20\n",
>>>>>>> 7c76cadba77128ede121d79336d0542359ef8669
    "if use_regression:\n",
    "    NUM_OUTPUTS = 1\n",
    "else:\n",
    "    NUM_OUTPUTS = 10\n",
    "\n",
    "tf.reset_default_graph()\n",
    "\n",
    "lerelu = tf.nn.leaky_relu\n",
    "relu = tf.nn.relu\n",
    "elu = tf.nn.elu\n",
    "tanh = tf.nn.tanh\n",
    "xavier_init = tf.contrib.layers.xavier_initializer()\n",
    "zero_init = tf.zeros_initializer()\n",
    "l2_reg = tf.contrib.layers.l2_regularizer(scale=LAMBDA)\n",
    "\n",
    "with tf.name_scope('inputs') as scope:\n",
<<<<<<< HEAD
    "    X = tf.placeholder(shape=(None, 60), dtype=tf.float32, name='ligids_smiles')\n",
    "    Y = tf.placeholder(shape=(None), dtype=tf.float32, name='score')    \n",
    "    \n",
=======
    "    X = tf.placeholder(shape=(None, train_data.X_data.shape[1]), dtype=tf.float32, name='ligids_smiles')\n",
    "    if use_regression:\n",
    "        Y = tf.placeholder(shape=(None), dtype=tf.float32, name='score')   \n",
    "    else:\n",
    "        Y = tf.placeholder(shape=(None), dtype=tf.int64, name='score') \n",
    "    training = tf.placeholder_with_default(False, shape=())\n",
>>>>>>> 7c76cadba77128ede121d79336d0542359ef8669
    "    \n",
    "with tf.name_scope('hidden_layers') as scope:\n",
    "    layer1 = tf.layers.dense(inputs=X,\n",
    "                             units=L1_UNITS, \n",
    "                             activation=lerelu,\n",
    "                             kernel_initializer=xavier_init,\n",
    "                             bias_initializer=zero_init,\n",
    "                             kernel_regularizer=l2_reg,\n",
    "                             bias_regularizer=l2_reg,\n",
    "                             name='layer1')\n",
<<<<<<< HEAD
    "    layer2 = tf.layers.dense(inputs=layer1,\n",
    "                             units=L2_UNITS, \n",
    "                             activation=relu,\n",
    "                             kernel_initializer=xavier_init,\n",
    "                             bias_initializer=zero_init,\n",
    "                             kernel_regularizer=l2_reg,\n",
    "                             bias_regularizer=l2_reg,\n",
    "                             name='layer2')\n",
    "    \n",
=======
    "#     layer2 = tf.layers.dense(inputs=layer1,\n",
    "#                              units=L2_UNITS, \n",
    "#                              activation=lerelu,\n",
    "#                              kernel_initializer=xavier_init,\n",
    "#                              bias_initializer=zero_init,\n",
    "#                              kernel_regularizer=l2_reg,\n",
    "#                              bias_regularizer=l2_reg,\n",
    "#                              name='layer2')\n",
    "#     layer3 = tf.layers.dense(inputs=layer2,\n",
    "#                              units=L3_UNITS, \n",
    "#                              activation=lerelu,\n",
    "#                              kernel_initializer=xavier_init,\n",
    "#                              bias_initializer=zero_init,\n",
    "#                              kernel_regularizer=l2_reg,\n",
    "#                              bias_regularizer=l2_reg,\n",
    "#                              name='layer3')\n",
>>>>>>> 7c76cadba77128ede121d79336d0542359ef8669
    "\n",
    "with tf.name_scope('predicted_score') as scope:\n",
    "    logits = tf.layers.dense(inputs=layer2,\n",
    "                             units=NUM_OUTPUTS,\n",
    "                             name='logits')\n",
    "    if use_regression: # Regression\n",
    "        pred_score = logits\n",
    "#         with tf.get_default_graph().gradient_override_map({\"Floor\": \"Identity\"}):\n",
    "#             pred_score = tf.floor(logits, name='pred_score')\n",
    "    else: # Classification  \n",
    "        pred_score = tf.nn.softmax(logits=logits, axis=1)\n",
    "        pred_score = tf.argmax(pred_score, axis=1, name='pred_score')\n",
    "        \n",
    "with tf.name_scope('loss') as scope:\n",
    "    if use_regression: # Regression\n",
    "        if use_mae:\n",
    "            model_loss = tf.losses.absolute_difference(Y,pred_score) # MAE\n",
    "        else:\n",
    "            mae_t = tf.losses.absolute_difference(Y,pred_score)\n",
    "            model_loss = tf.losses.mean_squared_error(labels=Y, predictions=pred_score) # MSE\n",
    "    else: # Classification\n",
    "        model_loss = tf.reduce_sum(tf.losses.sparse_softmax_cross_entropy(logits=logits, labels=Y))\n",
    "    reg_loss = tf.reduce_sum(tf.get_collection(tf.GraphKeys.REGULARIZATION_LOSSES))\n",
    "    loss = model_loss+reg_loss\n",
    "    optimizer = tf.train.AdamOptimizer(LEARNING_RATE)\n",
    "    train_op = optimizer.minimize(loss)\n",
    "\n",
    "with tf.name_scope('train_summaries') as scope:\n",
    "    train_summaries.append(tf.summary.histogram('ligids_smiles', X))\n",
    "    train_summaries.append(tf.summary.histogram('score', Y))\n",
    "    train_summaries.append(tf.summary.histogram('layer1', layer1))\n",
<<<<<<< HEAD
    "    train_summaries.append(tf.summary.histogram('layer2', layer2))\n",
    "\n",
=======
    "#     train_summaries.append(tf.summary.histogram('layer2', layer2))\n",
    "#     train_summaries.append(tf.summary.histogram('layer3', layer3))\n",
>>>>>>> 7c76cadba77128ede121d79336d0542359ef8669
    "    train_summaries.append(tf.summary.histogram('pred_score', pred_score))\n",
    "    if use_regression and not use_mae:\n",
    "        train_summaries.append(tf.summary.scalar('mae', mae_t))\n",
    "    train_summaries.append(tf.summary.scalar('model_loss', model_loss))\n",
    "    train_summaries.append(tf.summary.scalar('reg_loss', reg_loss))\n",
    "    train_summaries.append(tf.summary.scalar('loss', loss))\n",
    "\n",
    "with tf.name_scope('validation_summaries') as scope:\n",
    "    validation_summaries.append(tf.summary.histogram('ligids_smiles', X))\n",
    "    validation_summaries.append(tf.summary.histogram('score', Y))\n",
    "    validation_summaries.append(tf.summary.histogram('layer1', layer1))\n",
<<<<<<< HEAD
    "    validation_summaries.append(tf.summary.histogram('layer2', layer2))\n",
    "\n",
=======
    "#     validation_summaries.append(tf.summary.histogram('layer2', layer2))\n",
    "#     validation_summaries.append(tf.summary.histogram('layer3', layer3))\n",
>>>>>>> 7c76cadba77128ede121d79336d0542359ef8669
    "    validation_summaries.append(tf.summary.histogram('pred_score', pred_score))\n",
    "    if use_regression and not use_mae:\n",
    "        validation_summaries.append(tf.summary.scalar('mae', mae_t))\n",
    "    validation_summaries.append(tf.summary.scalar('model_loss', model_loss))\n",
    "    validation_summaries.append(tf.summary.scalar('reg_loss', reg_loss))\n",
    "    validation_summaries.append(tf.summary.scalar('loss', loss))"
   ]
  },
  {
   "cell_type": "markdown",
   "metadata": {},
   "source": [
    "#### Run Model"
   ]
  },
  {
   "cell_type": "code",
<<<<<<< HEAD
   "execution_count": 13,
   "metadata": {},
=======
   "execution_count": null,
   "metadata": {
    "scrolled": false
   },
>>>>>>> 7c76cadba77128ede121d79336d0542359ef8669
   "outputs": [
    {
     "name": "stdout",
     "output_type": "stream",
     "text": [
<<<<<<< HEAD
      "tensorboard log_dir: ../tf_log/run-20180524175603\n"
=======
      "tensorboard log_dir: ../tf_log/run-20180525011434\n"
>>>>>>> 7c76cadba77128ede121d79336d0542359ef8669
     ]
    },
    {
     "data": {
      "application/vnd.jupyter.widget-view+json": {
<<<<<<< HEAD
       "model_id": "853975e2f5c845c4b81e66659f251e23",
=======
       "model_id": "a3d234ae55a640e2a086f3143d5caa65",
>>>>>>> 7c76cadba77128ede121d79336d0542359ef8669
       "version_major": 2,
       "version_minor": 0
      },
      "text/plain": [
       "A Jupyter Widget"
      ]
     },
     "metadata": {},
     "output_type": "display_data"
    },
    {
     "data": {
      "application/vnd.jupyter.widget-view+json": {
<<<<<<< HEAD
       "model_id": "26e5c066abbd42e4a74d1de10a71fcbf",
=======
       "model_id": "1132825bba7c468b94e44a5600f5ef94",
>>>>>>> 7c76cadba77128ede121d79336d0542359ef8669
       "version_major": 2,
       "version_minor": 0
      },
      "text/plain": [
       "A Jupyter Widget"
      ]
     },
     "metadata": {},
     "output_type": "display_data"
    },
    {
     "data": {
      "application/vnd.jupyter.widget-view+json": {
<<<<<<< HEAD
       "model_id": "516550dc2d0449c0a20f4ad35edcb564",
=======
       "model_id": "c6f12c0236b04886ae8c2e0bf27a87b1",
>>>>>>> 7c76cadba77128ede121d79336d0542359ef8669
       "version_major": 2,
       "version_minor": 0
      },
      "text/plain": [
       "A Jupyter Widget"
      ]
     },
     "metadata": {},
     "output_type": "display_data"
    },
    {
     "data": {
      "application/vnd.jupyter.widget-view+json": {
<<<<<<< HEAD
       "model_id": "7ca74523e3854e91865b523aa5f22c60",
=======
       "model_id": "57cc86842e3b44918eee16b19f038329",
>>>>>>> 7c76cadba77128ede121d79336d0542359ef8669
       "version_major": 2,
       "version_minor": 0
      },
      "text/plain": [
       "A Jupyter Widget"
      ]
     },
     "metadata": {},
     "output_type": "display_data"
    },
    {
     "data": {
      "application/vnd.jupyter.widget-view+json": {
<<<<<<< HEAD
       "model_id": "84401237c0ea4e7e9ad3f670fd8330f5",
=======
       "model_id": "c514943ec59143ff979cf63821346d40",
>>>>>>> 7c76cadba77128ede121d79336d0542359ef8669
       "version_major": 2,
       "version_minor": 0
      },
      "text/plain": [
       "A Jupyter Widget"
      ]
     },
     "metadata": {},
     "output_type": "display_data"
    },
    {
     "data": {
      "application/vnd.jupyter.widget-view+json": {
<<<<<<< HEAD
       "model_id": "a239b5f312ac4d7fbc6d19de8f38ff9f",
=======
       "model_id": "d9908c9266134b868dda91f3a2441930",
>>>>>>> 7c76cadba77128ede121d79336d0542359ef8669
       "version_major": 2,
       "version_minor": 0
      },
      "text/plain": [
       "A Jupyter Widget"
      ]
     },
     "metadata": {},
     "output_type": "display_data"
    },
    {
     "data": {
      "application/vnd.jupyter.widget-view+json": {
<<<<<<< HEAD
       "model_id": "b5848139e7bc41cf9d78e911550915c6",
=======
       "model_id": "573a7c31110643f9b22bb5cc2d45c389",
>>>>>>> 7c76cadba77128ede121d79336d0542359ef8669
       "version_major": 2,
       "version_minor": 0
      },
      "text/plain": [
       "A Jupyter Widget"
      ]
     },
     "metadata": {},
     "output_type": "display_data"
    },
    {
     "data": {
      "application/vnd.jupyter.widget-view+json": {
<<<<<<< HEAD
       "model_id": "fcb9ece4710440879fe7f870fa08997c",
=======
       "model_id": "fc7907cfa29a4e95b84aee6d55de1b3c",
>>>>>>> 7c76cadba77128ede121d79336d0542359ef8669
       "version_major": 2,
       "version_minor": 0
      },
      "text/plain": [
       "A Jupyter Widget"
      ]
     },
     "metadata": {},
     "output_type": "display_data"
    },
    {
     "data": {
      "application/vnd.jupyter.widget-view+json": {
<<<<<<< HEAD
       "model_id": "2c6ba21037cc43658a7f459a94a9e3c0",
=======
       "model_id": "7122c0bf6df14d188a1d32e8bffc1541",
>>>>>>> 7c76cadba77128ede121d79336d0542359ef8669
       "version_major": 2,
       "version_minor": 0
      },
      "text/plain": [
       "A Jupyter Widget"
      ]
     },
     "metadata": {},
     "output_type": "display_data"
    },
    {
     "data": {
      "application/vnd.jupyter.widget-view+json": {
<<<<<<< HEAD
       "model_id": "89dc21819c0541ceb13a0509c760a3ac",
=======
       "model_id": "49dae70968d9414eba382e912bf09b03",
>>>>>>> 7c76cadba77128ede121d79336d0542359ef8669
       "version_major": 2,
       "version_minor": 0
      },
      "text/plain": [
       "A Jupyter Widget"
      ]
     },
     "metadata": {},
     "output_type": "display_data"
    },
    {
     "data": {
      "application/vnd.jupyter.widget-view+json": {
<<<<<<< HEAD
       "model_id": "baba2aaff29c40a5b93b6100d4fae597",
=======
       "model_id": "778e41806e0f48beb5d6f9b29e88a7c1",
>>>>>>> 7c76cadba77128ede121d79336d0542359ef8669
       "version_major": 2,
       "version_minor": 0
      },
      "text/plain": [
       "A Jupyter Widget"
      ]
     },
     "metadata": {},
     "output_type": "display_data"
    },
    {
     "data": {
      "application/vnd.jupyter.widget-view+json": {
<<<<<<< HEAD
       "model_id": "bca5cc7b3ea140e0ae8c61cd3a375fbc",
=======
       "model_id": "04739962771549ffb4285bb9cfa8b5c6",
>>>>>>> 7c76cadba77128ede121d79336d0542359ef8669
       "version_major": 2,
       "version_minor": 0
      },
      "text/plain": [
       "A Jupyter Widget"
      ]
     },
     "metadata": {},
     "output_type": "display_data"
    },
    {
     "data": {
      "application/vnd.jupyter.widget-view+json": {
<<<<<<< HEAD
       "model_id": "e371a6043cf24a8b82595f4f77255913",
=======
       "model_id": "1f5291e23fef4b56a31897015e6ce2a1",
>>>>>>> 7c76cadba77128ede121d79336d0542359ef8669
       "version_major": 2,
       "version_minor": 0
      },
      "text/plain": [
       "A Jupyter Widget"
      ]
     },
     "metadata": {},
     "output_type": "display_data"
    },
    {
     "data": {
      "application/vnd.jupyter.widget-view+json": {
<<<<<<< HEAD
       "model_id": "27059f152aa243a19a1c88f61a9b9922",
=======
       "model_id": "26fe725a3df448d6b0e0906f7c1bbafd",
>>>>>>> 7c76cadba77128ede121d79336d0542359ef8669
       "version_major": 2,
       "version_minor": 0
      },
      "text/plain": [
       "A Jupyter Widget"
      ]
     },
     "metadata": {},
     "output_type": "display_data"
<<<<<<< HEAD
    },
    {
     "data": {
      "application/vnd.jupyter.widget-view+json": {
       "model_id": "80a3383e2a164c02ae4d669f83294b5e",
       "version_major": 2,
       "version_minor": 0
      },
      "text/plain": [
       "A Jupyter Widget"
      ]
     },
     "metadata": {},
     "output_type": "display_data"
    },
    {
     "data": {
      "application/vnd.jupyter.widget-view+json": {
       "model_id": "53717bc2ef3a4630bf191b3e4aa666c9",
       "version_major": 2,
       "version_minor": 0
      },
      "text/plain": [
       "A Jupyter Widget"
      ]
     },
     "metadata": {},
     "output_type": "display_data"
    },
    {
     "data": {
      "application/vnd.jupyter.widget-view+json": {
       "model_id": "20a4aa2ae6a6471ebee4c3ec532d7472",
       "version_major": 2,
       "version_minor": 0
      },
      "text/plain": [
       "A Jupyter Widget"
      ]
     },
     "metadata": {},
     "output_type": "display_data"
    },
    {
     "data": {
      "application/vnd.jupyter.widget-view+json": {
       "model_id": "7d9a3e187fa242e08551967c3701eba0",
       "version_major": 2,
       "version_minor": 0
      },
      "text/plain": [
       "A Jupyter Widget"
      ]
     },
     "metadata": {},
     "output_type": "display_data"
    },
    {
     "data": {
      "application/vnd.jupyter.widget-view+json": {
       "model_id": "601f60e5295a4ac6a640b088d167bfff",
       "version_major": 2,
       "version_minor": 0
      },
      "text/plain": [
       "A Jupyter Widget"
      ]
     },
     "metadata": {},
     "output_type": "display_data"
    },
    {
     "data": {
      "application/vnd.jupyter.widget-view+json": {
       "model_id": "1866b022103242e7807ab0b94e9267fd",
       "version_major": 2,
       "version_minor": 0
      },
      "text/plain": [
       "A Jupyter Widget"
      ]
     },
     "metadata": {},
     "output_type": "display_data"
    },
    {
     "data": {
      "application/vnd.jupyter.widget-view+json": {
       "model_id": "7d75065cd81b4a4ca44250d811292510",
       "version_major": 2,
       "version_minor": 0
      },
      "text/plain": [
       "A Jupyter Widget"
      ]
     },
     "metadata": {},
     "output_type": "display_data"
    },
    {
     "data": {
      "application/vnd.jupyter.widget-view+json": {
       "model_id": "bbd1bfefe50b45c7a3d6db8aa6ea5c49",
       "version_major": 2,
       "version_minor": 0
      },
      "text/plain": [
       "A Jupyter Widget"
      ]
     },
     "metadata": {},
     "output_type": "display_data"
    },
    {
     "data": {
      "application/vnd.jupyter.widget-view+json": {
       "model_id": "a2cc15be2f174384a1b0a4c9d0888819",
       "version_major": 2,
       "version_minor": 0
      },
      "text/plain": [
       "A Jupyter Widget"
      ]
     },
     "metadata": {},
     "output_type": "display_data"
    },
    {
     "data": {
      "application/vnd.jupyter.widget-view+json": {
       "model_id": "1a89a350d3b7405989b4cd4ae2bcffbb",
       "version_major": 2,
       "version_minor": 0
      },
      "text/plain": [
       "A Jupyter Widget"
      ]
     },
     "metadata": {},
     "output_type": "display_data"
    },
    {
     "data": {
      "application/vnd.jupyter.widget-view+json": {
       "model_id": "bea5685dc8a84777875dc9be26e929a5",
       "version_major": 2,
       "version_minor": 0
      },
      "text/plain": [
       "A Jupyter Widget"
      ]
     },
     "metadata": {},
     "output_type": "display_data"
    },
    {
     "data": {
      "application/vnd.jupyter.widget-view+json": {
       "model_id": "efca6ccf08034a079ff7cd16cfc5e1cd",
       "version_major": 2,
       "version_minor": 0
      },
      "text/plain": [
       "A Jupyter Widget"
      ]
     },
     "metadata": {},
     "output_type": "display_data"
    },
    {
     "data": {
      "application/vnd.jupyter.widget-view+json": {
       "model_id": "212c85f2965546ba9f6b3400a4c4b2e5",
       "version_major": 2,
       "version_minor": 0
      },
      "text/plain": [
       "A Jupyter Widget"
      ]
     },
     "metadata": {},
     "output_type": "display_data"
    },
    {
     "data": {
      "application/vnd.jupyter.widget-view+json": {
       "model_id": "404bb654139c4ee386cc0422a7471a27",
       "version_major": 2,
       "version_minor": 0
      },
      "text/plain": [
       "A Jupyter Widget"
      ]
     },
     "metadata": {},
     "output_type": "display_data"
    },
    {
     "data": {
      "application/vnd.jupyter.widget-view+json": {
       "model_id": "54dc15a18e4e4b449625705ccf48af64",
       "version_major": 2,
       "version_minor": 0
      },
      "text/plain": [
       "A Jupyter Widget"
      ]
     },
     "metadata": {},
     "output_type": "display_data"
    },
    {
     "data": {
      "application/vnd.jupyter.widget-view+json": {
       "model_id": "4b0b9d4035694ad995b543e377cd029d",
       "version_major": 2,
       "version_minor": 0
      },
      "text/plain": [
       "A Jupyter Widget"
      ]
     },
     "metadata": {},
     "output_type": "display_data"
    },
    {
     "data": {
      "application/vnd.jupyter.widget-view+json": {
       "model_id": "fcf7f50b6fa14ff982f82aa929abd622",
       "version_major": 2,
       "version_minor": 0
      },
      "text/plain": [
       "A Jupyter Widget"
      ]
     },
     "metadata": {},
     "output_type": "display_data"
    },
    {
     "data": {
      "application/vnd.jupyter.widget-view+json": {
       "model_id": "f34c40e9581e4e279f322e53d7d603ca",
       "version_major": 2,
       "version_minor": 0
      },
      "text/plain": [
       "A Jupyter Widget"
      ]
     },
     "metadata": {},
     "output_type": "display_data"
    },
    {
     "data": {
      "application/vnd.jupyter.widget-view+json": {
       "model_id": "2c41eb6318fc45c9b551da4f2020539c",
       "version_major": 2,
       "version_minor": 0
      },
      "text/plain": [
       "A Jupyter Widget"
      ]
     },
     "metadata": {},
     "output_type": "display_data"
    },
    {
     "data": {
      "application/vnd.jupyter.widget-view+json": {
       "model_id": "3c2c5968870a43be97ab09b2845212e1",
       "version_major": 2,
       "version_minor": 0
      },
      "text/plain": [
       "A Jupyter Widget"
      ]
     },
     "metadata": {},
     "output_type": "display_data"
    },
    {
     "data": {
      "application/vnd.jupyter.widget-view+json": {
       "model_id": "cff0d58969bf4fd29dfe3f3a578f0d5c",
       "version_major": 2,
       "version_minor": 0
      },
      "text/plain": [
       "A Jupyter Widget"
      ]
     },
     "metadata": {},
     "output_type": "display_data"
    },
    {
     "data": {
      "application/vnd.jupyter.widget-view+json": {
       "model_id": "78c5a5ea346f439980146f49dfa050b5",
       "version_major": 2,
       "version_minor": 0
      },
      "text/plain": [
       "A Jupyter Widget"
      ]
     },
     "metadata": {},
     "output_type": "display_data"
    },
    {
     "data": {
      "application/vnd.jupyter.widget-view+json": {
       "model_id": "c17cf1f2439b4846b189e767e3821b1d",
       "version_major": 2,
       "version_minor": 0
      },
      "text/plain": [
       "A Jupyter Widget"
      ]
     },
     "metadata": {},
     "output_type": "display_data"
    },
    {
     "data": {
      "application/vnd.jupyter.widget-view+json": {
       "model_id": "1fec5778cf974dc3957f904a57b6a3e2",
       "version_major": 2,
       "version_minor": 0
      },
      "text/plain": [
       "A Jupyter Widget"
      ]
     },
     "metadata": {},
     "output_type": "display_data"
    },
    {
     "data": {
      "application/vnd.jupyter.widget-view+json": {
       "model_id": "025a25f565064068940118d678194ae2",
       "version_major": 2,
       "version_minor": 0
      },
      "text/plain": [
       "A Jupyter Widget"
      ]
     },
     "metadata": {},
     "output_type": "display_data"
    },
    {
     "data": {
      "application/vnd.jupyter.widget-view+json": {
       "model_id": "07728e553e6f4d6ea79e6bce9a91a3e9",
       "version_major": 2,
       "version_minor": 0
      },
      "text/plain": [
       "A Jupyter Widget"
      ]
     },
     "metadata": {},
     "output_type": "display_data"
    },
    {
     "data": {
      "application/vnd.jupyter.widget-view+json": {
       "model_id": "b5e25856dc744534ad41b017d0d25c09",
       "version_major": 2,
       "version_minor": 0
      },
      "text/plain": [
       "A Jupyter Widget"
      ]
     },
     "metadata": {},
     "output_type": "display_data"
    },
    {
     "name": "stdout",
     "output_type": "stream",
     "text": [
      "\n"
     ]
=======
>>>>>>> 7c76cadba77128ede121d79336d0542359ef8669
    }
   ],
   "source": [
    "# Misc. constants\n",
    "num_training_batches = int(train_data.num_scores/TRAINING_BATCH_SIZE*USE_PERCENT_TRAIN_DATA)\n",
    "num_validation_batches = int(validation_data.num_scores/VALIDATION_BATCH_SIZE*USE_PERCENT_VALID_DATA)\n",
    "TB_PERIOD_TRAIN = 100\n",
    "TB_PERIOD_VALID = 1\n",
    "\n",
    "# Saver - Prediction Tensors\n",
    "tf.get_collection_ref('pred_ops').clear()\n",
    "tf.get_collection('pred_ops')\n",
    "tf.add_to_collection('pred_ops', X)\n",
    "tf.add_to_collection('pred_ops', Y)\n",
    "tf.add_to_collection('pred_ops', pred_score)\n",
    "# Saver - Training Tensors\n",
    "tf.get_collection_ref('train_ops').clear()\n",
    "tf.get_collection('train_ops')\n",
    "tf.add_to_collection('train_ops', X)\n",
    "tf.add_to_collection('train_ops', Y)\n",
    "tf.add_to_collection('train_ops', loss)\n",
    "tf.add_to_collection('train_ops', train_op)\n",
    "saver = tf.train.Saver(max_to_keep=1000)\n",
    "\n",
    "# Tensorboard - Graph\n",
    "time_now = datetime.utcnow().strftime('%Y%m%d%H%M%S')\n",
    "tensorboard_logdir = '../tf_log/run-{}'.format(time_now)\n",
    "print('tensorboard log_dir: {}'.format(tensorboard_logdir))\n",
    "writer = tf.summary.FileWriter(tensorboard_logdir)\n",
    "writer.add_graph(tf.get_default_graph())\n",
    "\n",
    "# Start Session\n",
    "with tf.Session() as sess:\n",
    "    sess.run(tf.global_variables_initializer())\n",
    "    for epoch in tqdm_notebook(range(NUM_EPOCHS),desc='Epoch'):       \n",
    "        # Train Model\n",
    "        train_data.reset()\n",
    "        train_data.shuffle()\n",
    "        for step in tqdm_notebook(range(num_training_batches), desc='Train', leave=False):\n",
    "            lig_smi_batch, scores_batch = train_data.next_batch(TRAINING_BATCH_SIZE)\n",
<<<<<<< HEAD
    "            _, train_loss = sess.run([train_op, loss], feed_dict={X:lig_smi_batch, Y:scores_batch})\n",
=======
    "            _, train_loss = sess.run([train_op, loss], feed_dict={X:lig_smi_batch, \n",
    "                                                                  Y:scores_batch, \n",
    "                                                                  training:True})\n",
>>>>>>> 7c76cadba77128ede121d79336d0542359ef8669
    "            # Tensorboard - Train\n",
    "            if step%TB_PERIOD_TRAIN == 0:\n",
    "                global_train_step = step+epoch*num_training_batches\n",
    "                s = [sess.run(summary, feed_dict={X:lig_smi_batch, Y:scores_batch})\\\n",
    "                     for summary in train_summaries]\n",
    "                [writer.add_summary(summary, global_train_step) for summary in s]\n",
    "                \n",
    "        # Validation\n",
    "        mae_value = []\n",
    "        validation_data.reset()\n",
    "        for step in tqdm_notebook(range(num_validation_batches), desc='Validation', leave=False): \n",
    "            lig_smi_batch, scores_batch = validation_data.next_batch(VALIDATION_BATCH_SIZE)\n",
    "            if use_mae:\n",
    "                mae_batch = sess.run(model_loss, feed_dict={X:lig_smi_batch, Y:scores_batch})\n",
<<<<<<< HEAD
    "            else:\n",
=======
    "            else: \n",
>>>>>>> 7c76cadba77128ede121d79336d0542359ef8669
    "                mae_batch = sess.run(mae_t, feed_dict={X:lig_smi_batch, Y:scores_batch})\n",
    "            mae_value.append(mae_batch)\n",
    "            # Tensorboard - Validation\n",
    "            if step%TB_PERIOD_VALID == 0:\n",
    "                global_valid_step = step+epoch*num_validation_batches\n",
    "                s = [sess.run(summary, feed_dict={X:lig_smi_batch, Y:scores_batch})\\\n",
    "                     for summary in validation_summaries]\n",
    "                [writer.add_summary(summary, global_valid_step) for summary in s]\n",
    "        mae_value = sum(mae_value)/len(mae_value)\n",
    "        \n",
    "        # Save Model w/ name: mse{mean_abs_err}_e{epoch number}\n",
    "        saver_filename = 'mae{}_e{}'.format(mae_value, epoch+1)        \n",
    "        saver.save(sess, '../models/{}/{}'.format(time_now, saver_filename))"
   ]
  },
  {
   "cell_type": "code",
   "execution_count": null,
   "metadata": {
    "collapsed": true
   },
   "outputs": [],
   "source": []
  }
 ],
 "metadata": {
  "kernelspec": {
   "display_name": "Python 3",
   "language": "python",
   "name": "python3"
  }
 },
 "nbformat": 4,
 "nbformat_minor": 2
}
